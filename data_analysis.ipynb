{
 "cells": [
  {
   "attachments": {},
   "cell_type": "markdown",
   "metadata": {},
   "source": [
    "# Time comparison between pywake and my model simulations"
   ]
  },
  {
   "cell_type": "code",
   "execution_count": 3,
   "metadata": {},
   "outputs": [],
   "source": [
    "import utils.utils as utils\n",
    "import xarray as xr\n",
    "import time\n",
    "import itertools\n",
    "import torch\n",
    "import torch.nn as nn\n",
    "import numpy as np\n",
    "\n",
    "from py_wake.deficit_models import EddyViscosityModel\n",
    "\n",
    "import utils.utils as utils\n",
    "import utils.pywake_utils as py_wake_utils\n",
    "import utils.data_utils as data_utils\n",
    "\n",
    "# define random seeds for Neural Networks\n",
    "torch.manual_seed(0)\n",
    "np.random.seed(0)\n",
    "\n",
    "# default parameters\n",
    "TURBINE_X = [0]\n",
    "TURBINE_Y = [0]\n",
    "WIND_DIRECTION = 270 \n",
    "\n",
    "# IEA37 values\n",
    "TURBINE_DIAMETER = 198\n",
    "TURBINE_HUB_HEIGHT = 119\n",
    "TURBINE_POWER_NORM = 10000\n",
    "\n",
    "# discretization factors\n",
    "X_START_FACTOR = 2\n",
    "X_END_FACTOR = 20\n",
    "Y_START_FACTOR = -5\n",
    "Y_END_FACTOR = 5\n",
    "GRID_STEP_FACTOR = 1/8\n",
    "\n",
    "# parameters for data generation\n",
    "WS_RANGE = range(3, 26)\n",
    "# TODO change the step sizes?\n",
    "TI_STEP = 0.01\n",
    "CT_STEP = 0.01\n",
    "TIs = utils.my_arange(0, 1, TI_STEP)\n",
    "CTs = utils.my_arange(0.2, 24/25, CT_STEP)"
   ]
  },
  {
   "cell_type": "code",
   "execution_count": 4,
   "metadata": {},
   "outputs": [
    {
     "name": "stderr",
     "output_type": "stream",
     "text": [
      "<__array_function__ internals>:200: RuntimeWarning: invalid value encountered in cast\n"
     ]
    },
    {
     "name": "stdout",
     "output_type": "stream",
     "text": [
      "For wind_speed=3] Execution time: 8515.641827106476 seconds for 7600 simulations -> 1.120479s per simulation\n"
     ]
    },
    {
     "name": "stderr",
     "output_type": "stream",
     "text": [
      "<__array_function__ internals>:200: RuntimeWarning: invalid value encountered in cast\n"
     ]
    },
    {
     "name": "stdout",
     "output_type": "stream",
     "text": [
      "For wind_speed=4] Execution time: 8498.752365112305 seconds for 7600 simulations -> 1.118257s per simulation\n"
     ]
    },
    {
     "name": "stderr",
     "output_type": "stream",
     "text": [
      "<__array_function__ internals>:200: RuntimeWarning: invalid value encountered in cast\n"
     ]
    },
    {
     "name": "stdout",
     "output_type": "stream",
     "text": [
      "For wind_speed=5] Execution time: 8514.600550889969 seconds for 7600 simulations -> 1.120342s per simulation\n"
     ]
    },
    {
     "name": "stderr",
     "output_type": "stream",
     "text": [
      "<__array_function__ internals>:200: RuntimeWarning: invalid value encountered in cast\n"
     ]
    },
    {
     "name": "stdout",
     "output_type": "stream",
     "text": [
      "For wind_speed=6] Execution time: 8463.694307804108 seconds for 7600 simulations -> 1.113644s per simulation\n"
     ]
    },
    {
     "ename": "KeyboardInterrupt",
     "evalue": "",
     "output_type": "error",
     "traceback": [
      "\u001b[0;31m---------------------------------------------------------------------------\u001b[0m",
      "\u001b[0;31mKeyboardInterrupt\u001b[0m                         Traceback (most recent call last)",
      "Cell \u001b[0;32mIn[4], line 17\u001b[0m\n\u001b[1;32m     13\u001b[0m wind_turbine \u001b[39m=\u001b[39m py_wake_utils\u001b[39m.\u001b[39mget_wind_turbine(TURBINE_DIAMETER, TURBINE_HUB_HEIGHT, TURBINE_POWER_NORM,\n\u001b[1;32m     14\u001b[0m                                 constant_ct\u001b[39m=\u001b[39mct, ti\u001b[39m=\u001b[39mti)\n\u001b[1;32m     16\u001b[0m \u001b[39m# single wake model\u001b[39;00m\n\u001b[0;32m---> 17\u001b[0m ainslie_model \u001b[39m=\u001b[39m EddyViscosityModel(site, wind_turbine)\n\u001b[1;32m     19\u001b[0m ds \u001b[39m=\u001b[39m py_wake_utils\u001b[39m.\u001b[39mgenerate_wake_dataset(ainslie_model, wind_speed, WIND_DIRECTION,\n\u001b[1;32m     20\u001b[0m                             TURBINE_DIAMETER, TURBINE_X, TURBINE_Y,\n\u001b[1;32m     21\u001b[0m                             horizontal_grid, wind_turbine)\n\u001b[1;32m     22\u001b[0m datasets\u001b[39m.\u001b[39mappend(ds)\n",
      "File \u001b[0;32m~/Desktop/PyWake/py_wake/deficit_models/eddy_viscosity.py:363\u001b[0m, in \u001b[0;36mEddyViscosityModel.__init__\u001b[0;34m(self, site, windTurbines, superpositionModel, deflectionModel, turbulenceModel, rotorAvgModel)\u001b[0m\n\u001b[1;32m    322\u001b[0m \u001b[39mdef\u001b[39;00m \u001b[39m__init__\u001b[39m(\n\u001b[1;32m    323\u001b[0m     \u001b[39mself\u001b[39m,\n\u001b[1;32m    324\u001b[0m     site: XRSite,\n\u001b[0;32m   (...)\u001b[0m\n\u001b[1;32m    329\u001b[0m     rotorAvgModel: RotorAvgModel \u001b[39m=\u001b[39m \u001b[39mNone\u001b[39;00m,\n\u001b[1;32m    330\u001b[0m ):\n\u001b[1;32m    331\u001b[0m \u001b[39m    \u001b[39m\u001b[39m\"\"\"Initiate an ``EddyViscosityModel``.\u001b[39;00m\n\u001b[1;32m    332\u001b[0m \n\u001b[1;32m    333\u001b[0m \u001b[39m    The superposition model should generally be ``MaxSum`` if using\u001b[39;00m\n\u001b[0;32m   (...)\u001b[0m\n\u001b[1;32m    358\u001b[0m \u001b[39m    :param rotorAvgModel: the rotor average model to use\u001b[39;00m\n\u001b[1;32m    359\u001b[0m \u001b[39m    \"\"\"\u001b[39;00m\n\u001b[1;32m    360\u001b[0m     \u001b[39msuper\u001b[39m()\u001b[39m.\u001b[39m\u001b[39m__init__\u001b[39m(\n\u001b[1;32m    361\u001b[0m         site\u001b[39m=\u001b[39msite,\n\u001b[1;32m    362\u001b[0m         windTurbines\u001b[39m=\u001b[39mwindTurbines,\n\u001b[0;32m--> 363\u001b[0m         wake_deficitModel\u001b[39m=\u001b[39mEddyViscosityDeficitModel(),\n\u001b[1;32m    364\u001b[0m         superpositionModel\u001b[39m=\u001b[39msuperpositionModel,\n\u001b[1;32m    365\u001b[0m         deflectionModel\u001b[39m=\u001b[39mdeflectionModel,\n\u001b[1;32m    366\u001b[0m         turbulenceModel\u001b[39m=\u001b[39mturbulenceModel,\n\u001b[1;32m    367\u001b[0m         rotorAvgModel\u001b[39m=\u001b[39mrotorAvgModel,\n\u001b[1;32m    368\u001b[0m     )\n",
      "File \u001b[0;32m~/Desktop/PyWake/py_wake/deficit_models/eddy_viscosity.py:109\u001b[0m, in \u001b[0;36mEddyViscosityDeficitModel.__init__\u001b[0;34m(self, rotorAvgModel, groundModel, use_effective_ws, use_effective_ti, use_mixing_function, normalise_ti_to_waked_ws, maximum_wake_distance, formulation, lookup_table_filepath)\u001b[0m\n\u001b[1;32m    105\u001b[0m     \u001b[39mif\u001b[39;00m formulation \u001b[39mis\u001b[39;00m \u001b[39mNone\u001b[39;00m:\n\u001b[1;32m    106\u001b[0m         \u001b[39mraise\u001b[39;00m \u001b[39mValueError\u001b[39;00m(\n\u001b[1;32m    107\u001b[0m             \u001b[39m\"\u001b[39m\u001b[39meither a formulation or a lookup table path must be provided\u001b[39m\u001b[39m\"\u001b[39m\n\u001b[1;32m    108\u001b[0m         )\n\u001b[0;32m--> 109\u001b[0m     lookup_table \u001b[39m=\u001b[39m eddy_viscosity_lookup_table_generator\u001b[39m.\u001b[39;49mgenerate_lookup_table(\n\u001b[1;32m    110\u001b[0m         formulation\u001b[39m=\u001b[39;49mformulation,\n\u001b[1;32m    111\u001b[0m         use_mixing_function\u001b[39m=\u001b[39;49muse_mixing_function,\n\u001b[1;32m    112\u001b[0m     )\n\u001b[1;32m    113\u001b[0m \u001b[39melse\u001b[39;00m:\n\u001b[1;32m    114\u001b[0m     lookup_table \u001b[39m=\u001b[39m xr\u001b[39m.\u001b[39mopen_dataarray(lookup_table_filepath, engine\u001b[39m=\u001b[39m\u001b[39m\"\u001b[39m\u001b[39mh5netcdf\u001b[39m\u001b[39m\"\u001b[39m)\n",
      "File \u001b[0;32m~/Desktop/PyWake/py_wake/deficit_models/eddy_viscosity_lookup_table_generator.py:100\u001b[0m, in \u001b[0;36mgenerate_lookup_table\u001b[0;34m(formulation, use_mixing_function, coordinates, output_filepath)\u001b[0m\n\u001b[1;32m     96\u001b[0m ct_flat \u001b[39m=\u001b[39m ct_full\u001b[39m.\u001b[39mflatten(order\u001b[39m=\u001b[39m\u001b[39m\"\u001b[39m\u001b[39mC\u001b[39m\u001b[39m\"\u001b[39m)\n\u001b[1;32m     98\u001b[0m udc0_flat \u001b[39m=\u001b[39m formulation\u001b[39m.\u001b[39minitial_u_value(ct\u001b[39m=\u001b[39mct_flat, ti0\u001b[39m=\u001b[39mti0_flat)\n\u001b[0;32m--> 100\u001b[0m sol \u001b[39m=\u001b[39m solve_ivp(\n\u001b[1;32m    101\u001b[0m     fun\u001b[39m=\u001b[39;49mformulation\u001b[39m.\u001b[39;49mstreamwise_derivative,\n\u001b[1;32m    102\u001b[0m     t_span\u001b[39m=\u001b[39;49m[np\u001b[39m.\u001b[39;49mmin(coordinates\u001b[39m.\u001b[39;49mdw), np\u001b[39m.\u001b[39;49mmax(coordinates\u001b[39m.\u001b[39;49mdw)],\n\u001b[1;32m    103\u001b[0m     y0\u001b[39m=\u001b[39;49mudc0_flat,\n\u001b[1;32m    104\u001b[0m     method\u001b[39m=\u001b[39;49m\u001b[39m\"\u001b[39;49m\u001b[39mRK45\u001b[39;49m\u001b[39m\"\u001b[39;49m,\n\u001b[1;32m    105\u001b[0m     t_eval\u001b[39m=\u001b[39;49mcoordinates\u001b[39m.\u001b[39;49mdw,\n\u001b[1;32m    106\u001b[0m     vectorized\u001b[39m=\u001b[39;49m\u001b[39mTrue\u001b[39;49;00m,\n\u001b[1;32m    107\u001b[0m     args\u001b[39m=\u001b[39;49m(ct_flat[:, na], ti0_flat[:, na], use_mixing_function),\n\u001b[1;32m    108\u001b[0m )\n\u001b[1;32m    110\u001b[0m deficit_result \u001b[39m=\u001b[39m sol\u001b[39m.\u001b[39my\n\u001b[1;32m    111\u001b[0m \u001b[39mif\u001b[39;00m \u001b[39mnot\u001b[39;00m formulation\u001b[39m.\u001b[39mis_deficit_formulation():\n\u001b[1;32m    112\u001b[0m     \u001b[39m# The result is in terms of dimensionless wake wind speed, from which\u001b[39;00m\n\u001b[1;32m    113\u001b[0m     \u001b[39m# the dimensionless wake wind speed deficit needs to be calculated\u001b[39;00m\n",
      "File \u001b[0;32m/opt/homebrew/lib/python3.10/site-packages/scipy/integrate/_ivp/ivp.py:591\u001b[0m, in \u001b[0;36msolve_ivp\u001b[0;34m(fun, t_span, y0, method, t_eval, dense_output, events, vectorized, args, **options)\u001b[0m\n\u001b[1;32m    589\u001b[0m status \u001b[39m=\u001b[39m \u001b[39mNone\u001b[39;00m\n\u001b[1;32m    590\u001b[0m \u001b[39mwhile\u001b[39;00m status \u001b[39mis\u001b[39;00m \u001b[39mNone\u001b[39;00m:\n\u001b[0;32m--> 591\u001b[0m     message \u001b[39m=\u001b[39m solver\u001b[39m.\u001b[39;49mstep()\n\u001b[1;32m    593\u001b[0m     \u001b[39mif\u001b[39;00m solver\u001b[39m.\u001b[39mstatus \u001b[39m==\u001b[39m \u001b[39m'\u001b[39m\u001b[39mfinished\u001b[39m\u001b[39m'\u001b[39m:\n\u001b[1;32m    594\u001b[0m         status \u001b[39m=\u001b[39m \u001b[39m0\u001b[39m\n",
      "File \u001b[0;32m/opt/homebrew/lib/python3.10/site-packages/scipy/integrate/_ivp/base.py:181\u001b[0m, in \u001b[0;36mOdeSolver.step\u001b[0;34m(self)\u001b[0m\n\u001b[1;32m    179\u001b[0m \u001b[39melse\u001b[39;00m:\n\u001b[1;32m    180\u001b[0m     t \u001b[39m=\u001b[39m \u001b[39mself\u001b[39m\u001b[39m.\u001b[39mt\n\u001b[0;32m--> 181\u001b[0m     success, message \u001b[39m=\u001b[39m \u001b[39mself\u001b[39;49m\u001b[39m.\u001b[39;49m_step_impl()\n\u001b[1;32m    183\u001b[0m     \u001b[39mif\u001b[39;00m \u001b[39mnot\u001b[39;00m success:\n\u001b[1;32m    184\u001b[0m         \u001b[39mself\u001b[39m\u001b[39m.\u001b[39mstatus \u001b[39m=\u001b[39m \u001b[39m'\u001b[39m\u001b[39mfailed\u001b[39m\u001b[39m'\u001b[39m\n",
      "File \u001b[0;32m/opt/homebrew/lib/python3.10/site-packages/scipy/integrate/_ivp/rk.py:144\u001b[0m, in \u001b[0;36mRungeKutta._step_impl\u001b[0;34m(self)\u001b[0m\n\u001b[1;32m    141\u001b[0m h \u001b[39m=\u001b[39m t_new \u001b[39m-\u001b[39m t\n\u001b[1;32m    142\u001b[0m h_abs \u001b[39m=\u001b[39m np\u001b[39m.\u001b[39mabs(h)\n\u001b[0;32m--> 144\u001b[0m y_new, f_new \u001b[39m=\u001b[39m rk_step(\u001b[39mself\u001b[39;49m\u001b[39m.\u001b[39;49mfun, t, y, \u001b[39mself\u001b[39;49m\u001b[39m.\u001b[39;49mf, h, \u001b[39mself\u001b[39;49m\u001b[39m.\u001b[39;49mA,\n\u001b[1;32m    145\u001b[0m                        \u001b[39mself\u001b[39;49m\u001b[39m.\u001b[39;49mB, \u001b[39mself\u001b[39;49m\u001b[39m.\u001b[39;49mC, \u001b[39mself\u001b[39;49m\u001b[39m.\u001b[39;49mK)\n\u001b[1;32m    146\u001b[0m scale \u001b[39m=\u001b[39m atol \u001b[39m+\u001b[39m np\u001b[39m.\u001b[39mmaximum(np\u001b[39m.\u001b[39mabs(y), np\u001b[39m.\u001b[39mabs(y_new)) \u001b[39m*\u001b[39m rtol\n\u001b[1;32m    147\u001b[0m error_norm \u001b[39m=\u001b[39m \u001b[39mself\u001b[39m\u001b[39m.\u001b[39m_estimate_error_norm(\u001b[39mself\u001b[39m\u001b[39m.\u001b[39mK, h, scale)\n",
      "File \u001b[0;32m/opt/homebrew/lib/python3.10/site-packages/scipy/integrate/_ivp/rk.py:63\u001b[0m, in \u001b[0;36mrk_step\u001b[0;34m(fun, t, y, f, h, A, B, C, K)\u001b[0m\n\u001b[1;32m     61\u001b[0m K[\u001b[39m0\u001b[39m] \u001b[39m=\u001b[39m f\n\u001b[1;32m     62\u001b[0m \u001b[39mfor\u001b[39;00m s, (a, c) \u001b[39min\u001b[39;00m \u001b[39menumerate\u001b[39m(\u001b[39mzip\u001b[39m(A[\u001b[39m1\u001b[39m:], C[\u001b[39m1\u001b[39m:]), start\u001b[39m=\u001b[39m\u001b[39m1\u001b[39m):\n\u001b[0;32m---> 63\u001b[0m     dy \u001b[39m=\u001b[39m np\u001b[39m.\u001b[39;49mdot(K[:s]\u001b[39m.\u001b[39;49mT, a[:s]) \u001b[39m*\u001b[39m h\n\u001b[1;32m     64\u001b[0m     K[s] \u001b[39m=\u001b[39m fun(t \u001b[39m+\u001b[39m c \u001b[39m*\u001b[39m h, y \u001b[39m+\u001b[39m dy)\n\u001b[1;32m     66\u001b[0m y_new \u001b[39m=\u001b[39m y \u001b[39m+\u001b[39m h \u001b[39m*\u001b[39m np\u001b[39m.\u001b[39mdot(K[:\u001b[39m-\u001b[39m\u001b[39m1\u001b[39m]\u001b[39m.\u001b[39mT, B)\n",
      "File \u001b[0;32m<__array_function__ internals>:200\u001b[0m, in \u001b[0;36mdot\u001b[0;34m(*args, **kwargs)\u001b[0m\n",
      "\u001b[0;31mKeyboardInterrupt\u001b[0m: "
     ]
    }
   ],
   "source": [
    "horizontal_grid = py_wake_utils.get_discretized_grid(TURBINE_DIAMETER,\n",
    "                                       X_START_FACTOR, X_END_FACTOR, Y_START_FACTOR, Y_END_FACTOR,\n",
    "                                       GRID_STEP_FACTOR)\n",
    "\n",
    "ws_to_list = dict()\n",
    "for wind_speed in WS_RANGE:\n",
    "    datasets = list()\n",
    "\n",
    "    start_time = time.time()\n",
    "\n",
    "    for ti, ct in itertools.product(TIs, CTs):\n",
    "        site = py_wake_utils.get_site(ti=ti, ws=wind_speed)\n",
    "        wind_turbine = py_wake_utils.get_wind_turbine(TURBINE_DIAMETER, TURBINE_HUB_HEIGHT, TURBINE_POWER_NORM,\n",
    "                                        constant_ct=ct, ti=ti)\n",
    "        \n",
    "        # single wake model\n",
    "        ainslie_model = EddyViscosityModel(site, wind_turbine)\n",
    "\n",
    "        ds = py_wake_utils.generate_wake_dataset(ainslie_model, wind_speed, WIND_DIRECTION,\n",
    "                                    TURBINE_DIAMETER, TURBINE_X, TURBINE_Y,\n",
    "                                    horizontal_grid, wind_turbine)\n",
    "        datasets.append(ds)\n",
    "\n",
    "    filepath = data_utils.get_filepath(X_START_FACTOR, X_END_FACTOR, Y_START_FACTOR, Y_END_FACTOR,\n",
    "                                  GRID_STEP_FACTOR, wind_speed, TI_STEP, CT_STEP)\n",
    "    final_ds = xr.concat([d.stack(z=['x:D', 'y:D', 'ti', 'ct']) for d in datasets], 'z').unstack('z')\n",
    "    cacca = final_ds.load()\n",
    "    \n",
    "    end_time = time.time()\n",
    "    execution_time = end_time - start_time\n",
    "    num_simulations = len(datasets)\n",
    "    print(f\"For {wind_speed=}] Execution time: {execution_time} seconds for {num_simulations} simulations -> {(execution_time/num_simulations):2f}s per simulation\")\n",
    "    ws_to_list[wind_speed] = [num_simulations, execution_time]\n",
    "\n",
    "tot_simulations = sum([num_sim for num_sim, _ in ws_to_list.values()])\n",
    "tot_time = sum([ex_time for _, ex_time in ws_to_list.values()])\n",
    "print(f\"\\nOverall execution time for {tot_simulations} simulations: {tot_time} seconds -> {tot_time/tot_simulations:2f}s per simulation\")\n"
   ]
  },
  {
   "cell_type": "code",
   "execution_count": 8,
   "metadata": {},
   "outputs": [
    {
     "name": "stdout",
     "output_type": "stream",
     "text": [
      "For wind_speed=3] Execution time: 28.539746046066284 seconds for 7600 simulations -> 0.003755s per simulation\n",
      "For wind_speed=4] Execution time: 28.614805936813354 seconds for 7600 simulations -> 0.003765s per simulation\n",
      "For wind_speed=5] Execution time: 29.45336079597473 seconds for 7600 simulations -> 0.003875s per simulation\n",
      "For wind_speed=6] Execution time: 28.728474140167236 seconds for 7600 simulations -> 0.003780s per simulation\n",
      "For wind_speed=7] Execution time: 29.862894773483276 seconds for 7600 simulations -> 0.003929s per simulation\n",
      "For wind_speed=8] Execution time: 29.59728980064392 seconds for 7600 simulations -> 0.003894s per simulation\n",
      "For wind_speed=9] Execution time: 29.345993041992188 seconds for 7600 simulations -> 0.003861s per simulation\n",
      "For wind_speed=10] Execution time: 29.615293979644775 seconds for 7600 simulations -> 0.003897s per simulation\n",
      "For wind_speed=11] Execution time: 29.477768898010254 seconds for 7600 simulations -> 0.003879s per simulation\n",
      "For wind_speed=12] Execution time: 29.633245944976807 seconds for 7600 simulations -> 0.003899s per simulation\n",
      "For wind_speed=13] Execution time: 29.356102228164673 seconds for 7600 simulations -> 0.003863s per simulation\n",
      "For wind_speed=14] Execution time: 28.393598318099976 seconds for 7600 simulations -> 0.003736s per simulation\n",
      "For wind_speed=15] Execution time: 28.7621328830719 seconds for 7600 simulations -> 0.003784s per simulation\n",
      "For wind_speed=16] Execution time: 29.749958992004395 seconds for 7600 simulations -> 0.003914s per simulation\n",
      "For wind_speed=17] Execution time: 28.824918031692505 seconds for 7600 simulations -> 0.003793s per simulation\n",
      "For wind_speed=18] Execution time: 28.69409990310669 seconds for 7600 simulations -> 0.003776s per simulation\n",
      "For wind_speed=19] Execution time: 28.82777714729309 seconds for 7600 simulations -> 0.003793s per simulation\n",
      "For wind_speed=20] Execution time: 29.05777883529663 seconds for 7600 simulations -> 0.003823s per simulation\n",
      "For wind_speed=21] Execution time: 28.54892611503601 seconds for 7600 simulations -> 0.003756s per simulation\n",
      "For wind_speed=22] Execution time: 28.560930252075195 seconds for 7600 simulations -> 0.003758s per simulation\n",
      "For wind_speed=23] Execution time: 28.50800609588623 seconds for 7600 simulations -> 0.003751s per simulation\n",
      "For wind_speed=24] Execution time: 28.547227144241333 seconds for 7600 simulations -> 0.003756s per simulation\n",
      "For wind_speed=25] Execution time: 28.494643926620483 seconds for 7600 simulations -> 0.003749s per simulation\n",
      "\n",
      "Overall execution time for 174800 simulations: 667.1949732303619 seconds -> 0.003817s per simulation\n"
     ]
    }
   ],
   "source": [
    "MODEL_PATH = \"saved_models/discr_factors_x2_20_y-5_5_step0.125_TIstep0.01_CTstep0.01/multivariate_NN_layers50-500-2500.pt\"\n",
    "HIDDEN_LAYERS_UNITS = [int(lu) for lu in MODEL_PATH.split(\"layers\")[-1].split(\".pt\")[0].split(\"-\")]\n",
    "\n",
    "class MultivariateNN(nn.Module):\n",
    "    def __init__(self, input_space, output_space) -> None:\n",
    "        super(MultivariateNN, self).__init__()\n",
    "        layer_units = [input_space] + HIDDEN_LAYERS_UNITS + [output_space]\n",
    "        layers = list()\n",
    "        for first, second in zip(layer_units, layer_units[1:]):\n",
    "            layers += [nn.Linear(first, second), nn.ReLU()]\n",
    "        self.layers = nn.Sequential(*layers)\n",
    "    \n",
    "    def forward(self, x):\n",
    "        return self.layers(x)\n",
    "\n",
    "model = MultivariateNN(2, 11520)\n",
    "model.load_state_dict(torch.load(MODEL_PATH))\n",
    "model.eval()\n",
    "\n",
    "ws_to_list = dict()\n",
    "with torch.no_grad():\n",
    "    for wind_speed in WS_RANGE:\n",
    "        datasets = list()\n",
    "\n",
    "        start_time = time.time()\n",
    "\n",
    "        for ti, ct in itertools.product(TIs, CTs):\n",
    "            wake_field = model(torch.FloatTensor([ti, ct]))\n",
    "            datasets.append(wake_field)\n",
    "\n",
    "        end_time = time.time()\n",
    "        execution_time = end_time - start_time\n",
    "        num_simulations = len(datasets)\n",
    "        print(f\"For {wind_speed=}] Execution time: {execution_time} seconds for {num_simulations} simulations -> {(execution_time/num_simulations):2f}s per simulation\")\n",
    "        ws_to_list[wind_speed] = [num_simulations, execution_time]\n",
    "\n",
    "tot_simulations = sum([num_sim for num_sim, _ in ws_to_list.values()])\n",
    "tot_time = sum([ex_time for _, ex_time in ws_to_list.values()])\n",
    "print(f\"\\nOverall execution time for {tot_simulations} simulations: {tot_time} seconds -> {tot_time/tot_simulations:2f}s per simulation\")"
   ]
  },
  {
   "attachments": {},
   "cell_type": "markdown",
   "metadata": {},
   "source": [
    "# Input parameters tuning"
   ]
  },
  {
   "cell_type": "code",
   "execution_count": 17,
   "metadata": {},
   "outputs": [],
   "source": [
    "import random\n",
    "import utils.plotting\n",
    "\n",
    "DEFICIT_THRESHOLD = 1/100 #putting it to 1/1000, the region becomes too big\n",
    "\n",
    "X_START_FACTOR = 2\n",
    "X_END_FACTOR = 50\n",
    "Y_START_FACTOR = -10\n",
    "Y_END_FACTOR = 10\n",
    "\n",
    "horizontal_grid = py_wake_utils.get_discretized_grid(TURBINE_DIAMETER,\n",
    "                                       X_START_FACTOR, X_END_FACTOR, Y_START_FACTOR, Y_END_FACTOR,\n",
    "                                       GRID_STEP_FACTOR)\n",
    "\n",
    "x_ranges = list()\n",
    "y_ranges = list()\n",
    "\n",
    "for wind_speed in random.sample(list(WS_RANGE), 5):\n",
    "    for ti, ct in random.sample(sorted(itertools.product(TIs, CTs)), 200):\n",
    "        #print(f\"{wind_speed=}\\t{ti=}\\t{ct=}\")\n",
    "        site = py_wake_utils.get_site(ti=ti, ws=wind_speed)\n",
    "        wind_turbine = py_wake_utils.get_wind_turbine(TURBINE_DIAMETER, TURBINE_HUB_HEIGHT, TURBINE_POWER_NORM,\n",
    "                                        constant_ct=ct, ti=ti)\n",
    "        \n",
    "        # single wake model\n",
    "        ainslie_model = EddyViscosityModel(site, wind_turbine)\n",
    "\n",
    "        df = py_wake_utils.generate_wake_dataset(ainslie_model, wind_speed, WIND_DIRECTION,\n",
    "                                    TURBINE_DIAMETER, TURBINE_X, TURBINE_Y,\n",
    "                                    horizontal_grid, wind_turbine)\\\n",
    "                .to_dataframe()\\\n",
    "                .reset_index()\\\n",
    "                .rename(columns={'x:D': 'x/D', 'y:D': 'y/D'})\\\n",
    "                .sort_values(by=['x/D', 'y/D'])\n",
    "\n",
    "        filtered_df = df[df['wind_deficit'] > DEFICIT_THRESHOLD]\n",
    "        if filtered_df.empty:\n",
    "            utils.plotting.plot_deficit_map(df)\n",
    "            continue\n",
    "\n",
    "        x_range = np.nanmin(filtered_df['x/D']), np.nanmax(filtered_df['x/D'])\n",
    "        y_range = np.nanmin(filtered_df['y/D']), np.nanmax(filtered_df['y/D'])\n",
    "\n",
    "        #print(\"Range of x/D:\", x_range)\n",
    "        #print(\"Range of y/D:\", y_range)\n",
    "        x_ranges.append(x_range)\n",
    "        y_ranges.append(y_range)"
   ]
  },
  {
   "cell_type": "code",
   "execution_count": 18,
   "metadata": {},
   "outputs": [
    {
     "name": "stdout",
     "output_type": "stream",
     "text": [
      "For x-end, min is: 6.25 and max is: 49.875, with an average of 30.989 and a median of 30.625\n",
      "For y-start, min is: -2.0 and max is: -0.75, with an average of -1.535875 and a median of -1.625\n",
      "For y-end, min is: 0.75 and max is: 2.0, with an average of 1.535875 and a median of 1.625\n"
     ]
    }
   ],
   "source": [
    "import statistics\n",
    "x_ends = sorted([x_range[1] for x_range in x_ranges])\n",
    "print(f\"For x-end, min is: {min(x_ends)} and max is: {max(x_ends)},\"+\\\n",
    "      f\" with an average of {sum(x_ends) / len(x_ends)} and a median of {statistics.median(x_ends)}\")\n",
    "\n",
    "y_starts = sorted([y_range[0] for y_range in y_ranges])\n",
    "print(f\"For y-start, min is: {min(y_starts)} and max is: {max(y_starts)},\"+\\\n",
    "      f\" with an average of {sum(y_starts) / len(y_starts)} and a median of {statistics.median(y_starts)}\")\n",
    "y_ends = sorted([y_range[1] for y_range in y_ranges])\n",
    "print(f\"For y-end, min is: {min(y_ends)} and max is: {max(y_ends)},\"+\\\n",
    "      f\" with an average of {sum(y_ends) / len(y_ends)} and a median of {statistics.median(y_ends)}\")"
   ]
  }
 ],
 "metadata": {
  "kernelspec": {
   "display_name": "Python 3",
   "language": "python",
   "name": "python3"
  },
  "language_info": {
   "codemirror_mode": {
    "name": "ipython",
    "version": 3
   },
   "file_extension": ".py",
   "mimetype": "text/x-python",
   "name": "python",
   "nbconvert_exporter": "python",
   "pygments_lexer": "ipython3",
   "version": "3.10.9"
  },
  "orig_nbformat": 4
 },
 "nbformat": 4,
 "nbformat_minor": 2
}
