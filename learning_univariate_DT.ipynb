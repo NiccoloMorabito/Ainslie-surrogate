{
 "cells": [
  {
   "cell_type": "code",
   "execution_count": 1,
   "metadata": {},
   "outputs": [],
   "source": [
    "from sklearn.tree import DecisionTreeRegressor, plot_tree, export_text\n",
    "import random\n",
    "\n",
    "from utils.data_loaders import get_wake_datasets\n",
    "from utils.evaluation import evaluate_model\n",
    "import utils.plotting as plotting"
   ]
  },
  {
   "cell_type": "code",
   "execution_count": 2,
   "metadata": {},
   "outputs": [
    {
     "name": "stdout",
     "output_type": "stream",
     "text": [
      "univariate_DT_max-depthNone_training_factors=ti4-ct4-x/D4-y/D4_discr_factors_x2_30_y-2_2_step0.125_TIstep0.01_CTstep0.01\n"
     ]
    }
   ],
   "source": [
    "FACTORS_FOLDER = \"discr_factors_x2_30_y-2_2_step0.125_TIstep0.01_CTstep0.01\"\n",
    "DATA_FOLDER = f\"data/{FACTORS_FOLDER}/\"\n",
    "INPUT_VAR_TO_TRAIN_REDUCTION_FACTOR = {'ti': 4, 'ct': 4, 'x/D': 4, 'y/D': 4}\n",
    "train_reduc_factor_string = \"training_factors=\" + \"-\".join([f\"{k}{v}\" for k, v in INPUT_VAR_TO_TRAIN_REDUCTION_FACTOR.items()])\n",
    "#INPUT_VAR_TO_TRAIN_RANGES = {'ti': [(0.15, 0.4)], 'ct': [(0.3, 0.7)]}\n",
    "#train_range_string = \"training_ranges=\" + '-'.join([f\"{var}{r[0]}-{r[1]}\" for var, ranges in INPUT_VAR_TO_TRAIN_RANGES.items() for r in ranges])\n",
    "CONSIDER_WS = False\n",
    "COORDS_AS_INPUT = True # univariate setting\n",
    "MAX_DEPTH = None\n",
    "\n",
    "MODEL_NAME = f\"univariate_DT_max-depth{MAX_DEPTH}_{train_reduc_factor_string}\"\n",
    "if CONSIDER_WS:\n",
    "    MODEL_NAME += \"_consider_ws\"\n",
    "MODEL_DESCRIPTION=MODEL_NAME+\"_\"+FACTORS_FOLDER\n",
    "print(MODEL_DESCRIPTION)"
   ]
  },
  {
   "cell_type": "code",
   "execution_count": 3,
   "metadata": {},
   "outputs": [
    {
     "name": "stderr",
     "output_type": "stream",
     "text": [
      "/Users/niccolomorabito/Library/CloudStorage/GoogleDrive-morabito.1808746@studenti.uniroma1.it/My Drive/BDMA/Semester4 Thesis/Ainslie-surrogate/utils/data_loaders.py:328: UserWarning: \n",
      "Ignoring percentages of train-valid-test split (train_perc=0.8, valid_perc=0, test_perc=0.2)\n",
      "and using the reduction factors for the training set instead:\n",
      "{'ti': 4, 'ct': 4, 'x/D': 4, 'y/D': 4}\n",
      "  warnings.warn(\n"
     ]
    },
    {
     "name": "stdout",
     "output_type": "stream",
     "text": [
      "Incomplete field, creating DeficitDatasets...\n",
      "Train shapes:  torch.Size([246400, 4]) torch.Size([246400, 1])\n"
     ]
    }
   ],
   "source": [
    "train_dataset, valid_dataset, test_dataset = get_wake_datasets(DATA_FOLDER,\n",
    "                                                               consider_ws=CONSIDER_WS,\n",
    "                                                               coords_as_input=COORDS_AS_INPUT,\n",
    "                                                               #train_perc=0.6,\n",
    "                                                               #validation_perc=0.2,\n",
    "                                                               #test_perc=0.2\n",
    "                                                               input_var_to_train_reduction_factor=INPUT_VAR_TO_TRAIN_REDUCTION_FACTOR,\n",
    "                                                               #input_var_to_train_ranges=INPUT_VAR_TO_TRAIN_RANGES,\n",
    "                                                               )\n",
    "\n",
    "train_x, train_y = train_dataset.inputs, train_dataset.outputs\n",
    "print(\"Train shapes: \", train_x.shape, train_y.shape)\n",
    "\n",
    "#grid_size = train_dataset.num_cells\n",
    "#print(f\"{grid_size=}\")"
   ]
  },
  {
   "cell_type": "code",
   "execution_count": 4,
   "metadata": {},
   "outputs": [
    {
     "name": "stdout",
     "output_type": "stream",
     "text": [
      "Train shapes:  torch.Size([246400, 4]) torch.Size([246400, 1])\n",
      "Test shapes:  torch.Size([30699200, 4]) torch.Size([30699200, 1])\n",
      "Valid shapes:  torch.Size([30699200, 4]) torch.Size([30699200, 1])\n",
      "0.003997093023255814 0.4980014534883721 0.4980014534883721\n"
     ]
    }
   ],
   "source": [
    "train_x, train_y = train_dataset.inputs, train_dataset.outputs\n",
    "print(\"Train shapes: \", train_x.shape, train_y.shape)\n",
    "train_size = train_x.shape[0]\n",
    "\n",
    "test_x, test_y = test_dataset.inputs, test_dataset.outputs\n",
    "print(\"Test shapes: \", test_x.shape, test_y.shape)\n",
    "test_size = test_x.shape[0]\n",
    "\n",
    "valid_x, valid_y = valid_dataset.inputs, valid_dataset.outputs\n",
    "print(\"Valid shapes: \", valid_x.shape, valid_y.shape)\n",
    "valid_size = valid_x.shape[0]\n",
    "\n",
    "size = train_size + test_size + valid_size\n",
    "print(train_size/size, test_size/size, valid_size/size)"
   ]
  },
  {
   "attachments": {},
   "cell_type": "markdown",
   "metadata": {},
   "source": [
    "# Training"
   ]
  },
  {
   "cell_type": "code",
   "execution_count": 5,
   "metadata": {},
   "outputs": [
    {
     "data": {
      "text/html": [
       "<style>#sk-container-id-1 {color: black;background-color: white;}#sk-container-id-1 pre{padding: 0;}#sk-container-id-1 div.sk-toggleable {background-color: white;}#sk-container-id-1 label.sk-toggleable__label {cursor: pointer;display: block;width: 100%;margin-bottom: 0;padding: 0.3em;box-sizing: border-box;text-align: center;}#sk-container-id-1 label.sk-toggleable__label-arrow:before {content: \"▸\";float: left;margin-right: 0.25em;color: #696969;}#sk-container-id-1 label.sk-toggleable__label-arrow:hover:before {color: black;}#sk-container-id-1 div.sk-estimator:hover label.sk-toggleable__label-arrow:before {color: black;}#sk-container-id-1 div.sk-toggleable__content {max-height: 0;max-width: 0;overflow: hidden;text-align: left;background-color: #f0f8ff;}#sk-container-id-1 div.sk-toggleable__content pre {margin: 0.2em;color: black;border-radius: 0.25em;background-color: #f0f8ff;}#sk-container-id-1 input.sk-toggleable__control:checked~div.sk-toggleable__content {max-height: 200px;max-width: 100%;overflow: auto;}#sk-container-id-1 input.sk-toggleable__control:checked~label.sk-toggleable__label-arrow:before {content: \"▾\";}#sk-container-id-1 div.sk-estimator input.sk-toggleable__control:checked~label.sk-toggleable__label {background-color: #d4ebff;}#sk-container-id-1 div.sk-label input.sk-toggleable__control:checked~label.sk-toggleable__label {background-color: #d4ebff;}#sk-container-id-1 input.sk-hidden--visually {border: 0;clip: rect(1px 1px 1px 1px);clip: rect(1px, 1px, 1px, 1px);height: 1px;margin: -1px;overflow: hidden;padding: 0;position: absolute;width: 1px;}#sk-container-id-1 div.sk-estimator {font-family: monospace;background-color: #f0f8ff;border: 1px dotted black;border-radius: 0.25em;box-sizing: border-box;margin-bottom: 0.5em;}#sk-container-id-1 div.sk-estimator:hover {background-color: #d4ebff;}#sk-container-id-1 div.sk-parallel-item::after {content: \"\";width: 100%;border-bottom: 1px solid gray;flex-grow: 1;}#sk-container-id-1 div.sk-label:hover label.sk-toggleable__label {background-color: #d4ebff;}#sk-container-id-1 div.sk-serial::before {content: \"\";position: absolute;border-left: 1px solid gray;box-sizing: border-box;top: 0;bottom: 0;left: 50%;z-index: 0;}#sk-container-id-1 div.sk-serial {display: flex;flex-direction: column;align-items: center;background-color: white;padding-right: 0.2em;padding-left: 0.2em;position: relative;}#sk-container-id-1 div.sk-item {position: relative;z-index: 1;}#sk-container-id-1 div.sk-parallel {display: flex;align-items: stretch;justify-content: center;background-color: white;position: relative;}#sk-container-id-1 div.sk-item::before, #sk-container-id-1 div.sk-parallel-item::before {content: \"\";position: absolute;border-left: 1px solid gray;box-sizing: border-box;top: 0;bottom: 0;left: 50%;z-index: -1;}#sk-container-id-1 div.sk-parallel-item {display: flex;flex-direction: column;z-index: 1;position: relative;background-color: white;}#sk-container-id-1 div.sk-parallel-item:first-child::after {align-self: flex-end;width: 50%;}#sk-container-id-1 div.sk-parallel-item:last-child::after {align-self: flex-start;width: 50%;}#sk-container-id-1 div.sk-parallel-item:only-child::after {width: 0;}#sk-container-id-1 div.sk-dashed-wrapped {border: 1px dashed gray;margin: 0 0.4em 0.5em 0.4em;box-sizing: border-box;padding-bottom: 0.4em;background-color: white;}#sk-container-id-1 div.sk-label label {font-family: monospace;font-weight: bold;display: inline-block;line-height: 1.2em;}#sk-container-id-1 div.sk-label-container {text-align: center;}#sk-container-id-1 div.sk-container {/* jupyter's `normalize.less` sets `[hidden] { display: none; }` but bootstrap.min.css set `[hidden] { display: none !important; }` so we also need the `!important` here to be able to override the default hidden behavior on the sphinx rendered scikit-learn.org. See: https://github.com/scikit-learn/scikit-learn/issues/21755 */display: inline-block !important;position: relative;}#sk-container-id-1 div.sk-text-repr-fallback {display: none;}</style><div id=\"sk-container-id-1\" class=\"sk-top-container\"><div class=\"sk-text-repr-fallback\"><pre>DecisionTreeRegressor()</pre><b>In a Jupyter environment, please rerun this cell to show the HTML representation or trust the notebook. <br />On GitHub, the HTML representation is unable to render, please try loading this page with nbviewer.org.</b></div><div class=\"sk-container\" hidden><div class=\"sk-item\"><div class=\"sk-estimator sk-toggleable\"><input class=\"sk-toggleable__control sk-hidden--visually\" id=\"sk-estimator-id-1\" type=\"checkbox\" checked><label for=\"sk-estimator-id-1\" class=\"sk-toggleable__label sk-toggleable__label-arrow\">DecisionTreeRegressor</label><div class=\"sk-toggleable__content\"><pre>DecisionTreeRegressor()</pre></div></div></div></div></div>"
      ],
      "text/plain": [
       "DecisionTreeRegressor()"
      ]
     },
     "execution_count": 5,
     "metadata": {},
     "output_type": "execute_result"
    }
   ],
   "source": [
    "model = DecisionTreeRegressor(max_depth=MAX_DEPTH)\n",
    "model.fit(train_x, train_y)\n",
    "#tree_text = export_text(model)\n",
    "#print(tree_text)"
   ]
  },
  {
   "cell_type": "code",
   "execution_count": 6,
   "metadata": {},
   "outputs": [
    {
     "name": "stdout",
     "output_type": "stream",
     "text": [
      "ti feature importance=0.21742452223885578\n",
      "ct feature importance=0.20595462053730568\n",
      "x/D feature importance=0.14208687922001287\n",
      "y/D feature importance=0.43453397800382565\n"
     ]
    }
   ],
   "source": [
    "importances = model.feature_importances_\n",
    "for featurenum, importance in enumerate(importances):\n",
    "    featurename = train_dataset.featurenum_to_featurename(featurenum)\n",
    "    print(f\"{featurename} feature importance={importance}\")"
   ]
  },
  {
   "attachments": {},
   "cell_type": "markdown",
   "metadata": {},
   "source": [
    "# Evaluation and testing"
   ]
  },
  {
   "cell_type": "code",
   "execution_count": 7,
   "metadata": {},
   "outputs": [
    {
     "name": "stdout",
     "output_type": "stream",
     "text": [
      "Train results for univariate_DT_max-depthNone_training_factors=ti4-ct4-x/D4-y/D4_discr_factors_x2_30_y-2_2_step0.125_TIstep0.01_CTstep0.01\n",
      "r2_score=0.9999999999999997\n",
      "explained_variance_score=0.9999999999999997\n",
      "mean_squared_error=4.876158504251731e-19\n",
      "mean_absolute_error=2.971966705830031e-11\n",
      "median_absolute_error=0.0\n",
      "mean_absolute_percentage_error=0.032120654010807624\n",
      "peak_signal_noise_ratio=183.11922185661726\n",
      "Prediction time=1.3713519294540603e-07s\n",
      "\n",
      "\n",
      "Test results for univariate_DT_max-depthNone_training_factors=ti4-ct4-x/D4-y/D4_discr_factors_x2_30_y-2_2_step0.125_TIstep0.01_CTstep0.01\n",
      "r2_score=0.9445645048477482\n",
      "explained_variance_score=0.944677141460631\n",
      "mean_squared_error=6.172517001187271e-05\n",
      "mean_absolute_error=0.0028885366207865863\n",
      "median_absolute_error=0.0008568685734644532\n",
      "mean_absolute_percentage_error=0.6463659247372647\n",
      "peak_signal_noise_ratio=42.095377052013525\n",
      "Prediction time=5.5062023416730804e-08s\n"
     ]
    }
   ],
   "source": [
    "save_results = True\n",
    "\n",
    "# evaluation on trainset\n",
    "evaluate_model(model, data=(train_x, train_y), data_type='train',\n",
    "               model_description=MODEL_DESCRIPTION,\n",
    "               save_results=save_results)\n",
    "\n",
    "print(\"\\n\")\n",
    "\n",
    "# evalution on testset\n",
    "evaluate_model(model, data=(test_x, test_y), data_type='test',\n",
    "               model_description=MODEL_DESCRIPTION,\n",
    "               save_results=save_results)"
   ]
  },
  {
   "cell_type": "code",
   "execution_count": 8,
   "metadata": {},
   "outputs": [
    {
     "ename": "AttributeError",
     "evalue": "'DeficitDataset' object has no attribute 'num_cells'",
     "output_type": "error",
     "traceback": [
      "\u001b[0;31m---------------------------------------------------------------------------\u001b[0m",
      "\u001b[0;31mAttributeError\u001b[0m                            Traceback (most recent call last)",
      "Cell \u001b[0;32mIn[8], line 1\u001b[0m\n\u001b[0;32m----> 1\u001b[0m num_cells \u001b[39m=\u001b[39m test_dataset\u001b[39m.\u001b[39;49mnum_cells\n\u001b[1;32m      2\u001b[0m num_fields \u001b[39m=\u001b[39m \u001b[39mlen\u001b[39m(test_dataset)\u001b[39m/\u001b[39m\u001b[39m/\u001b[39mnum_cells\n\u001b[1;32m      3\u001b[0m field_indices \u001b[39m=\u001b[39m \u001b[39mlist\u001b[39m(\u001b[39mrange\u001b[39m(num_fields))\n",
      "\u001b[0;31mAttributeError\u001b[0m: 'DeficitDataset' object has no attribute 'num_cells'"
     ]
    }
   ],
   "source": [
    "num_cells = test_dataset.num_cells\n",
    "num_fields = len(test_dataset)//num_cells\n",
    "field_indices = list(range(num_fields))\n",
    "random.shuffle(field_indices)\n",
    "\n",
    "for field_idx in field_indices[:10]:\n",
    "    ti, ct, ws, wake_field, predicted_wake_field = test_dataset.get_parameters_for_plotting_univariate(model, field_idx)\n",
    "    plotting.plot_maps(test_dataset.X_grid, test_dataset.Y_grid, wake_field, predicted_wake_field, ti, ct, ws, error_to_plot='absolute')"
   ]
  }
 ],
 "metadata": {
  "kernelspec": {
   "display_name": "Python 3",
   "language": "python",
   "name": "python3"
  },
  "language_info": {
   "codemirror_mode": {
    "name": "ipython",
    "version": 3
   },
   "file_extension": ".py",
   "mimetype": "text/x-python",
   "name": "python",
   "nbconvert_exporter": "python",
   "pygments_lexer": "ipython3",
   "version": "3.10.11"
  },
  "orig_nbformat": 4
 },
 "nbformat": 4,
 "nbformat_minor": 2
}
