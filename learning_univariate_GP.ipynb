{
 "cells": [
  {
   "cell_type": "code",
   "execution_count": 1,
   "metadata": {},
   "outputs": [
    {
     "name": "stdout",
     "output_type": "stream",
     "text": [
      "zsh:cd:1: no such file or directory: /content/drive/MyDrive/BDMA/Semester4 Thesis/Ainslie-surrogate\n"
     ]
    }
   ],
   "source": [
    "!cd \"/content/drive/MyDrive/BDMA/Semester4 Thesis/Ainslie-surrogate\""
   ]
  },
  {
   "cell_type": "code",
   "execution_count": 2,
   "metadata": {},
   "outputs": [],
   "source": [
    "import gpytorch\n",
    "import torch\n",
    "\n",
    "from utils.data_loaders import get_wake_datasets"
   ]
  },
  {
   "cell_type": "code",
   "execution_count": 3,
   "metadata": {},
   "outputs": [
    {
     "name": "stdout",
     "output_type": "stream",
     "text": [
      "DEVICE=device(type='cpu')\n"
     ]
    }
   ],
   "source": [
    "FACTORS_FOLDER = \"discr_factors_x2_30_y-2_2_step0.125_TIstep0.01_CTstep0.01\"\n",
    "DATA_FOLDER = f\"data/{FACTORS_FOLDER}/\"\n",
    "#MODEL_NAME = f\"univariate_GP\" #TODO make the name represent the structure or the parameters of the model\n",
    "#BEST_MODEL_PATH = f\"saved_models/{FACTORS_FOLDER}/{MODEL_NAME}.pt\"\n",
    "CONSIDER_WS = False\n",
    "COORDS_AS_INPUT = True # univariate setting\n",
    "\n",
    "DEVICE = torch.device(\"cuda\" if torch.cuda.is_available() else \"cpu\")\n",
    "print(f\"{DEVICE=}\")\n",
    "\n",
    "# hyperparameters\n",
    "EPOCHS = 2 #TODO\n",
    "LR = 0.0001"
   ]
  },
  {
   "cell_type": "code",
   "execution_count": 4,
   "metadata": {},
   "outputs": [
    {
     "name": "stdout",
     "output_type": "stream",
     "text": [
      "Train shapes:  torch.Size([36986880, 4]) torch.Size([36986880])\n",
      "Test shapes:  torch.Size([18493440, 4]) torch.Size([18493440])\n",
      "Valid shapes:  torch.Size([6164480, 4]) torch.Size([6164480])\n"
     ]
    }
   ],
   "source": [
    "valid_dataset = None\n",
    "train_dataset, valid_dataset, test_dataset = get_wake_datasets(DATA_FOLDER,\n",
    "                                                          consider_ws=CONSIDER_WS,\n",
    "                                                          coords_as_input=COORDS_AS_INPUT,\n",
    "                                                          train_perc=0.6,\n",
    "                                                          test_perc=0.3,\n",
    "                                                          validation_perc=0.1)\n",
    "\n",
    "train_x, train_y = train_dataset.inputs, train_dataset.outputs.view(-1)\n",
    "test_x, test_y = test_dataset.inputs, test_dataset.outputs.view(-1)\n",
    "print(\"Train shapes: \", train_x.shape, train_y.shape)\n",
    "print(\"Test shapes: \", test_x.shape, test_y.shape)\n",
    "\n",
    "if valid_dataset is not None:\n",
    "    valid_x, valid_y = valid_dataset.inputs, valid_dataset.outputs.view(-1)\n",
    "    print(\"Valid shapes: \", valid_x.shape, valid_y.shape)\n",
    "\n",
    "del test_x, test_y, test_dataset, valid_x, valid_y, valid_dataset"
   ]
  },
  {
   "cell_type": "code",
   "execution_count": 5,
   "metadata": {},
   "outputs": [
    {
     "name": "stdout",
     "output_type": "stream",
     "text": [
      "7168\n",
      "torch.Size([14336, 4]) torch.Size([14336])\n"
     ]
    }
   ],
   "source": [
    "from utils.data_utils import get_parameters_from\n",
    "from utils.pywake_utils import get_grid_shape\n",
    "x_start, x_end, y_start, y_end, grid_factor, _, _ = get_parameters_from(DATA_FOLDER)\n",
    "grid_shape = get_grid_shape(x_start, x_end, y_start, y_end, grid_factor)\n",
    "grid_size = grid_shape[0] * grid_shape[1]\n",
    "print(grid_size)\n",
    "\n",
    "num_instances = 2 #TODO\n",
    "num_features = 4\n",
    "train_x= torch.split(train_x, grid_size * num_instances)[0]#.reshape(num_instances, grid_size, num_features)\n",
    "train_y = torch.split(train_y, grid_size * num_instances)[0]#.reshape(num_instances, grid_size)\n",
    "print(train_x.shape, train_y.shape)"
   ]
  },
  {
   "cell_type": "code",
   "execution_count": 6,
   "metadata": {},
   "outputs": [],
   "source": [
    "# the simplest form of GP model, exact inference\n",
    "class ExactGPModel(gpytorch.models.ExactGP):\n",
    "    def __init__(self, train_x, train_y, likelihood):\n",
    "        super(ExactGPModel, self).__init__(train_x, train_y, likelihood)\n",
    "        self.mean_module = gpytorch.means.ConstantMean(batch_shape=torch.Size([grid_size]))\n",
    "        self.covar_module = gpytorch.kernels.ScaleKernel(\n",
    "            gpytorch.kernels.MaternKernel(batch_shape=torch.Size([grid_size])),\n",
    "            batch_shape=torch.Size([grid_size])\n",
    "        )\n",
    "\n",
    "    def forward(self, x):\n",
    "        mean_x = self.mean_module(x)\n",
    "        covar_x = self.covar_module(x)\n",
    "        return gpytorch.distributions.MultivariateNormal(mean_x, covar_x)\n",
    "\n",
    "# initialize likelihood and model\n",
    "likelihood = gpytorch.likelihoods.GaussianLikelihood(batch_shape=torch.Size([grid_size]))\n",
    "model = ExactGPModel(train_x, train_y, likelihood)\n",
    "# Find optimal model hyperparameters\n",
    "model.train()\n",
    "likelihood.train()\n",
    "\n",
    "# Use the adam optimizer\n",
    "optimizer = torch.optim.Adam(model.parameters(), lr=0.1)  # Includes GaussianLikelihood parameters\n",
    "\n",
    "# \"Loss\" for GPs - the marginal log likelihood\n",
    "mll = gpytorch.mlls.ExactMarginalLogLikelihood(likelihood, model)"
   ]
  },
  {
   "cell_type": "code",
   "execution_count": 7,
   "metadata": {},
   "outputs": [
    {
     "ename": "",
     "evalue": "",
     "output_type": "error",
     "traceback": [
      "\u001b[1;31mCanceled future for execute_request message before replies were done"
     ]
    },
    {
     "ename": "",
     "evalue": "",
     "output_type": "error",
     "traceback": [
      "\u001b[1;31mThe Kernel crashed while executing code in the the current cell or a previous cell. Please review the code in the cell(s) to identify a possible cause of the failure. Click <a href='https://aka.ms/vscodeJupyterKernelCrash'>here</a> for more info. View Jupyter <a href='command:jupyter.viewOutput'>log</a> for further details."
     ]
    }
   ],
   "source": [
    "for i in range(EPOCHS):\n",
    "    # Zero gradients from previous iteration\n",
    "    optimizer.zero_grad()\n",
    "    # Output from model\n",
    "    output = model(train_x)\n",
    "    # Calc loss and backprop gradients\n",
    "    loss = -mll(output, train_y)\n",
    "    try:\n",
    "        print(loss.shape)\n",
    "    except:\n",
    "        pass\n",
    "    loss.backward()\n",
    "    lengthscale = model.covar_module.base_kernel.lengthscale.item()\n",
    "    noise = model.likelihood.noise.item()\n",
    "    print(f\"Iter {i+1}/{EPOCHS} - Loss: {loss.item:.3f}\\tlengthscale: {lengthscale:.3f}\\tnoise: {noise:.3f}\")\n",
    "    optimizer.step()"
   ]
  }
 ],
 "metadata": {
  "kernelspec": {
   "display_name": "Python 3",
   "language": "python",
   "name": "python3"
  },
  "language_info": {
   "codemirror_mode": {
    "name": "ipython",
    "version": 3
   },
   "file_extension": ".py",
   "mimetype": "text/x-python",
   "name": "python",
   "nbconvert_exporter": "python",
   "pygments_lexer": "ipython3",
   "version": "3.10.11"
  },
  "orig_nbformat": 4
 },
 "nbformat": 4,
 "nbformat_minor": 2
}
