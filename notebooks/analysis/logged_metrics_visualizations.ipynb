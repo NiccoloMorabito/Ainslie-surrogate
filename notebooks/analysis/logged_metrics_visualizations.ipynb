{
 "cells": [
  {
   "cell_type": "code",
   "execution_count": null,
   "metadata": {},
   "outputs": [],
   "source": [
    "import os\n",
    "\n",
    "import sys\n",
    "\n",
    "sys.path.append(\"../..\")\n",
    "\n",
    "from src.logging_metrics import MetricsLogger\n",
    "\n",
    "FOLDER = \"../../metrics/logged_metrics/\""
   ]
  },
  {
   "cell_type": "code",
   "execution_count": null,
   "metadata": {},
   "outputs": [],
   "source": [
    "def get_logs() -> list[MetricsLogger]:\n",
    "    # remove useless files\n",
    "    logs = [\n",
    "        MetricsLogger.from_csv(os.path.join(FOLDER, filename))\n",
    "        for filename in os.listdir(FOLDER)\n",
    "        if not filename.startswith(\".\")\n",
    "        and \"considerws\" not in filename\n",
    "        and \"consider_ws\" not in filename\n",
    "        and \"autoencoders\" not in filename\n",
    "        and \"aemlp\" not in filename\n",
    "        and \"GP\" not in filename\n",
    "    ]\n",
    "\n",
    "    # order by timestamp\n",
    "    logs = sorted(logs, key=lambda x: x.timestamp)\n",
    "\n",
    "    # remove repetitions (keeping the most recent one)\n",
    "    already_added = set()\n",
    "    new_logs = list()\n",
    "    for log in logs[::-1]:\n",
    "        if log.name in already_added:\n",
    "            continue\n",
    "        already_added.add(log.name)\n",
    "        new_logs.append(log)\n",
    "\n",
    "    return new_logs"
   ]
  },
  {
   "cell_type": "code",
   "execution_count": null,
   "metadata": {},
   "outputs": [],
   "source": [
    "logs = get_logs()\n",
    "interesting_logs_NN = list()\n",
    "interesting_logs_NeRF = list()\n",
    "names = []"
   ]
  },
  {
   "cell_type": "code",
   "execution_count": null,
   "metadata": {},
   "outputs": [],
   "source": [
    "# INTERPOLATION - REDUCTION FACTOR 4\n",
    "for log in logs:\n",
    "    if (\n",
    "        \"ti4\" in log.name\n",
    "        and \"xD\" not in log.name\n",
    "        and \"64\" not in log.name\n",
    "        and not \"multivariate\" in log.name\n",
    "    ):\n",
    "        print(log.name)\n",
    "        log.plot_metrics_by_epoch()\n",
    "        if \"NeRF\" in log.name:\n",
    "            interesting_logs_NeRF.append(log)\n",
    "        elif \"NN\" in log.name:\n",
    "            interesting_logs_NN.append(log)\n",
    "names.append(\"Standard interpolation\")"
   ]
  },
  {
   "cell_type": "code",
   "execution_count": null,
   "metadata": {},
   "outputs": [],
   "source": [
    "# INTERPOLATION ON COORDS - REDUCTION FACTOR 4\n",
    "for log in logs:\n",
    "    if \"xD4\" in log.name and \"64\" not in log.name:\n",
    "        print(log.name)\n",
    "        log.plot_metrics_by_epoch()\n",
    "        if \"NeRF\" in log.name:\n",
    "            interesting_logs_NeRF.append(log)\n",
    "        elif \"NN\" in log.name:\n",
    "            interesting_logs_NN.append(log)\n",
    "names.append(\"Interpolation on coords\")"
   ]
  },
  {
   "cell_type": "code",
   "execution_count": null,
   "metadata": {},
   "outputs": [],
   "source": [
    "# EXTRAPOLATION\n",
    "for log in logs:\n",
    "    if \"ranges\" in log.name and \"multivariate\" not in log.name and \"64\" not in log.name:\n",
    "        print(log.name)\n",
    "        log.plot_metrics_by_epoch()\n",
    "        if \"NeRF\" in log.name:\n",
    "            interesting_logs_NeRF.append(log)\n",
    "        elif \"NN\" in log.name:\n",
    "            interesting_logs_NN.append(log)\n",
    "names.append(\"Extrapolation\")"
   ]
  },
  {
   "cell_type": "code",
   "execution_count": null,
   "metadata": {},
   "outputs": [],
   "source": [
    "# COMBINING\n",
    "for log in interesting_logs_NeRF:\n",
    "    print(log.name)\n",
    "MetricsLogger.plot_many_logs_metrics_by_epoch(\n",
    "    interesting_logs_NeRF, names=names\n",
    ")  # , end_at_epoch=100)\n",
    "print(\"\\n\\n\")\n",
    "for log in interesting_logs_NN:\n",
    "    print(log.name)\n",
    "MetricsLogger.plot_many_logs_metrics_by_epoch(interesting_logs_NN, names=names)"
   ]
  }
 ],
 "metadata": {
  "kernelspec": {
   "display_name": "Python 3",
   "language": "python",
   "name": "python3"
  },
  "language_info": {
   "codemirror_mode": {
    "name": "ipython",
    "version": 3
   },
   "file_extension": ".py",
   "mimetype": "text/x-python",
   "name": "python",
   "nbconvert_exporter": "python",
   "pygments_lexer": "ipython3",
   "version": "3.11.8"
  },
  "orig_nbformat": 4
 },
 "nbformat": 4,
 "nbformat_minor": 2
}
