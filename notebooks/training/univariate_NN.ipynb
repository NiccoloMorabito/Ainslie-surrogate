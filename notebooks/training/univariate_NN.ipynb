{
 "cells": [
  {
   "attachments": {},
   "cell_type": "markdown",
   "metadata": {},
   "source": [
    "# Univariate regression to predict the wind speed field"
   ]
  },
  {
   "cell_type": "code",
   "execution_count": 1,
   "metadata": {},
   "outputs": [],
   "source": [
    "import torch\n",
    "import torch.nn as nn\n",
    "import numpy as np\n",
    "import random\n",
    "\n",
    "import sys\n",
    "sys.path.append(\"../..\")\n",
    "\n",
    "from src.logging_metrics import MetricsLogger\n",
    "from src.data_loaders import get_wake_dataloaders\n",
    "import src.plotting as plotting\n",
    "from src.evaluation import evaluate_model\n",
    "\n",
    "# define random seeds for Neural Networks\n",
    "torch.manual_seed(0)\n",
    "np.random.seed(0)"
   ]
  },
  {
   "cell_type": "code",
   "execution_count": 2,
   "metadata": {},
   "outputs": [],
   "source": [
    "HIDDEN_LAYERS_UNITS = [50, 250]\n",
    "ACTIVATION_FUNCTION = nn.ReLU()\n",
    "\n",
    "\n",
    "class UnivariateNN(nn.Module):\n",
    "    def __init__(self, input_space, output_space) -> None:\n",
    "        super(UnivariateNN, self).__init__()\n",
    "        layer_units = [input_space] + HIDDEN_LAYERS_UNITS\n",
    "        layers = list()\n",
    "        for first, second in zip(layer_units, layer_units[1:]):\n",
    "            layers += [nn.Linear(first, second), ACTIVATION_FUNCTION]\n",
    "        layers.append(\n",
    "            nn.Linear(layer_units[-1], output_space)\n",
    "        )  # last layer not activated\n",
    "        self.layers = nn.Sequential(*layers)\n",
    "\n",
    "    def forward(self, x):\n",
    "        return self.layers(x)"
   ]
  },
  {
   "cell_type": "code",
   "execution_count": 3,
   "metadata": {},
   "outputs": [
    {
     "name": "stdout",
     "output_type": "stream",
     "text": [
      "Model name: univariate_NN_layers50-250_training_factors=ti4-ct4\n",
      "Best model path: saved_models/discr_factors_x2_30_y-2_2_step0.125_TIstep0.01_CTstep0.01/univariate_NN_layers50-250_training_factors=ti4-ct4.pt\n",
      "Model description: univariate_NN_layers50-250_training_factors=ti4-ct4_discr_factors_x2_30_y-2_2_step0.125_TIstep0.01_CTstep0.01: act. func. ReLU (not last layer), batch multiplier 8, 160 epochs, lr=0.01)\n",
      "\n",
      "Device: cpu\n"
     ]
    }
   ],
   "source": [
    "FACTORS_FOLDER = \"discr_factors_x2_30_y-2_2_step0.125_TIstep0.01_CTstep0.01\"\n",
    "DATA_FOLDER = f\"../data/{FACTORS_FOLDER}/\"\n",
    "INPUT_VAR_TO_TRAIN_REDUCTION_FACTOR = {\"ti\": 4, \"ct\": 4}  # , 'x/D': 4, 'y/D': 4}\n",
    "train_reduc_factor_string = \"training_factors=\" + \"-\".join(\n",
    "    [f\"{k}{v}\" for k, v in INPUT_VAR_TO_TRAIN_REDUCTION_FACTOR.items()]\n",
    ").replace(\"/\", \"\")\n",
    "# INPUT_VAR_TO_TRAIN_RANGES = {'ti': [(0.15, 0.4)], 'ct': [(0.3, 0.7)]}\n",
    "# train_range_string = \"training_ranges=\" + '-'.join([f\"{var}{r[0]}-{r[1]}\" for var, ranges in INPUT_VAR_TO_TRAIN_RANGES.items() for r in ranges])\n",
    "EXPERIMENT = \"interpolation\"\n",
    "MODEL_NAME = f\"univariate_NN_layers{'-'.join(str(lu) for lu in HIDDEN_LAYERS_UNITS)}_{train_reduc_factor_string}\"\n",
    "BEST_MODEL_PATH = f\"../saved_models/{FACTORS_FOLDER}/{MODEL_NAME}.pt\"\n",
    "CONSIDER_WS = False\n",
    "COORDS_AS_INPUT = True  # univariate setting\n",
    "if CONSIDER_WS:\n",
    "    MODEL_NAME += \"_consider_ws\"\n",
    "    BEST_MODEL_PATH = BEST_MODEL_PATH.replace(\"TIstep0.01_CTstep0.01\", \"reducedTI-CT\")\n",
    "print(f\"Model name: {MODEL_NAME}\")\n",
    "print(f\"Best model path: {BEST_MODEL_PATH}\")\n",
    "\n",
    "# hyperparameters\n",
    "# in univariate, the batch size is a multiplier for number of cells\n",
    "# (i.e. the batch_size should be dividible by the number of cells)\n",
    "BATCH_MULTIPLIER = 8\n",
    "EPOCHS = 160\n",
    "LR = 1e-2\n",
    "\n",
    "MODEL_DESCRIPTION = (\n",
    "    f\"{MODEL_NAME}_{FACTORS_FOLDER}: act. func. {ACTIVATION_FUNCTION.__class__.__name__} \"\n",
    "    + f\"(not last layer), batch multiplier {BATCH_MULTIPLIER}, {EPOCHS} epochs, lr={LR})\"\n",
    ")\n",
    "\n",
    "print(f\"Model description: {MODEL_DESCRIPTION}\")\n",
    "\n",
    "DEVICE = torch.device(\"cuda\" if torch.cuda.is_available() else \"cpu\")\n",
    "print(f\"\\nDevice: {DEVICE}\")"
   ]
  },
  {
   "cell_type": "code",
   "execution_count": 4,
   "metadata": {},
   "outputs": [
    {
     "name": "stderr",
     "output_type": "stream",
     "text": [
      "/Users/niccolomorabito/Library/CloudStorage/GoogleDrive-morabito.1808746@studenti.uniroma1.it/My Drive/BDMA/Semester4 Thesis/Ainslie-surrogate/utils/data_loaders.py:328: UserWarning: \n",
      "Ignoring percentages of train-valid-test split (train_perc=0.8, valid_perc=0, test_perc=0.2)\n",
      "and using the reduction factors for the training set instead:\n",
      "{'ti': 4, 'ct': 4}\n",
      "  warnings.warn(\n"
     ]
    },
    {
     "data": {
      "text/plain": [
       "(69, 504)"
      ]
     },
     "execution_count": 4,
     "metadata": {},
     "output_type": "execute_result"
    }
   ],
   "source": [
    "valid_dataloader = None\n",
    "train_dataloader, valid_dataloader, test_dataloader = get_wake_dataloaders(\n",
    "    DATA_FOLDER,\n",
    "    consider_ws=CONSIDER_WS,\n",
    "    coords_as_input=COORDS_AS_INPUT,\n",
    "    # train_perc=0.6,\n",
    "    # test_perc=0.2,\n",
    "    # validation_perc=0.2,\n",
    "    input_var_to_train_reduction_factor=INPUT_VAR_TO_TRAIN_REDUCTION_FACTOR,\n",
    "    # input_var_to_train_ranges=INPUT_VAR_TO_TRAIN_RANGES,\n",
    "    batch_multiplier=BATCH_MULTIPLIER,\n",
    ")\n",
    "len(train_dataloader), len(test_dataloader)"
   ]
  },
  {
   "cell_type": "code",
   "execution_count": 5,
   "metadata": {},
   "outputs": [
    {
     "name": "stdout",
     "output_type": "stream",
     "text": [
      "torch.Size([57344, 4]) torch.Size([57344, 1])\n",
      "input_space=4\toutput_space=1\n"
     ]
    }
   ],
   "source": [
    "for b in train_dataloader:\n",
    "    print(b[0].shape, b[1].shape)\n",
    "    break\n",
    "\n",
    "input_space = train_dataloader.dataset.inputs.shape[1]\n",
    "output_space = train_dataloader.dataset.outputs.shape[1]\n",
    "print(f\"{input_space=}\\t{output_space=}\")"
   ]
  },
  {
   "cell_type": "code",
   "execution_count": 6,
   "metadata": {},
   "outputs": [
    {
     "name": "stdout",
     "output_type": "stream",
     "text": [
      "Logging univariate_NN_layers50-250_training_factors=ti4-ct4-xD4-yD4\n",
      "Epoch 0 ->\tTraining loss=0.01055955059611686\tValidation loss=0.0007052718522200207\tepoch_time (seconds)=122\t\n",
      "Epoch 1 ->\tTraining loss=0.0005278423162632283\tValidation loss=0.0002547417416880344\tepoch_time (seconds)=121\t\n",
      "Epoch 2 ->\tTraining loss=0.00019137303693300906\tValidation loss=0.00016997472307896512\tepoch_time (seconds)=121\t\n",
      "Epoch 3 ->\tTraining loss=0.0001053999576115884\tValidation loss=0.00014627297265996936\tepoch_time (seconds)=121\t\n",
      "Epoch 4 ->\tTraining loss=7.634655301373712e-05\tValidation loss=0.00013174845127474484\tepoch_time (seconds)=121\t\n",
      "Epoch 5 ->\tTraining loss=6.340189140081003e-05\tValidation loss=0.0001374442302420881\tepoch_time (seconds)=122\t\n",
      "Epoch 6 ->\tTraining loss=5.614766393012939e-05\tValidation loss=0.00012580353487150049\tepoch_time (seconds)=122\t\n",
      "Epoch 7 ->\tTraining loss=5.202016923072001e-05\tValidation loss=0.00012361385849859872\tepoch_time (seconds)=122\t\n",
      "Epoch 8 ->\tTraining loss=4.927521349127819e-05\tValidation loss=0.00011440297246106704\tepoch_time (seconds)=122\t\n",
      "Epoch 9 ->\tTraining loss=4.470634247183342e-05\tValidation loss=0.0001529380100895727\tepoch_time (seconds)=122\t\n",
      "Epoch 10 ->\tTraining loss=4.104878124573068e-05\tValidation loss=0.0001129161753533988\tepoch_time (seconds)=123\t\n",
      "Epoch 11 ->\tTraining loss=3.666167273652943e-05\tValidation loss=0.0001412810567437013\tepoch_time (seconds)=122\t\n",
      "Epoch 12 ->\tTraining loss=3.541657913767456e-05\tValidation loss=0.00013771682034198718\tepoch_time (seconds)=122\t\n",
      "Epoch 13 ->\tTraining loss=3.480782574965874e-05\tValidation loss=0.0001266952282963916\tepoch_time (seconds)=122\t\n",
      "Epoch 14 ->\tTraining loss=3.117128641282431e-05\tValidation loss=0.0001279161330782631\tepoch_time (seconds)=122\t\n",
      "Epoch 15 ->\tTraining loss=3.0632449414208004e-05\tValidation loss=0.0001272202634938029\tepoch_time (seconds)=122\t\n",
      "Epoch 16 ->\tTraining loss=2.9098316668727446e-05\tValidation loss=0.00011287715454063066\tepoch_time (seconds)=122\t\n",
      "Epoch 17 ->\tTraining loss=2.7983132659082676e-05\tValidation loss=0.00011852756672932456\tepoch_time (seconds)=122\t\n",
      "Epoch 18 ->\tTraining loss=2.8871906726942744e-05\tValidation loss=0.00011772020355566027\tepoch_time (seconds)=122\t\n",
      "Epoch 19 ->\tTraining loss=2.349294468390267e-05\tValidation loss=0.00011484973520789018\tepoch_time (seconds)=122\t\n",
      "Epoch 20 ->\tTraining loss=2.4893056687888728e-05\tValidation loss=0.0001286713948823181\tepoch_time (seconds)=121\t\n",
      "Epoch 21 ->\tTraining loss=2.68289550976161e-05\tValidation loss=0.00014215223785198457\tepoch_time (seconds)=123\t\n",
      "Epoch 22 ->\tTraining loss=2.8028531634443828e-05\tValidation loss=9.844520842064279e-05\tepoch_time (seconds)=122\t\n",
      "Epoch 23 ->\tTraining loss=2.046996142816134e-05\tValidation loss=0.0001416316319551708\tepoch_time (seconds)=122\t\n",
      "Epoch 24 ->\tTraining loss=2.260021360539272e-05\tValidation loss=0.00015069534011979488\tepoch_time (seconds)=122\t\n",
      "Epoch 25 ->\tTraining loss=2.537338720047684e-05\tValidation loss=0.00010886060419608757\tepoch_time (seconds)=122\t\n",
      "Epoch 26 ->\tTraining loss=1.9451637110085524e-05\tValidation loss=0.00012374609981990857\tepoch_time (seconds)=122\t\n",
      "Epoch 27 ->\tTraining loss=2.2721942174597077e-05\tValidation loss=0.00011832203291796262\tepoch_time (seconds)=122\t\n",
      "Epoch 28 ->\tTraining loss=2.7826225614380627e-05\tValidation loss=9.381083921358633e-05\tepoch_time (seconds)=122\t\n",
      "Epoch 29 ->\tTraining loss=2.032715615196257e-05\tValidation loss=0.00011651821951077373\tepoch_time (seconds)=122\t\n",
      "Epoch 30 ->\tTraining loss=1.8436898058511858e-05\tValidation loss=0.0001071558564339381\tepoch_time (seconds)=122\t\n",
      "Epoch 31 ->\tTraining loss=2.1320552705573945e-05\tValidation loss=0.00012381301470897922\tepoch_time (seconds)=122\t\n",
      "Epoch 32 ->\tTraining loss=1.9688015113801654e-05\tValidation loss=0.00011743651711119965\tepoch_time (seconds)=122\t\n",
      "Epoch 33 ->\tTraining loss=2.171014297901265e-05\tValidation loss=0.00010693858254069718\tepoch_time (seconds)=122\t\n",
      "Epoch 34 ->\tTraining loss=1.997057081818828e-05\tValidation loss=0.00010242751108742625\tepoch_time (seconds)=128\t\n",
      "Epoch 35 ->\tTraining loss=1.8711639768298483e-05\tValidation loss=0.00015201075421105405\tepoch_time (seconds)=129\t\n",
      "Epoch 36 ->\tTraining loss=2.019068389702849e-05\tValidation loss=0.00012451817275225288\tepoch_time (seconds)=136\t\n",
      "Epoch 37 ->\tTraining loss=2.08960387657522e-05\tValidation loss=9.929077064093084e-05\tepoch_time (seconds)=127\t\n",
      "Epoch 38 ->\tTraining loss=1.4813236431381211e-05\tValidation loss=0.00014558197231416642\tepoch_time (seconds)=124\t\n",
      "Epoch 39 ->\tTraining loss=2.0450018211420967e-05\tValidation loss=0.00010481898752099205\tepoch_time (seconds)=121\t\n",
      "Epoch 40 ->\tTraining loss=1.8554969168595657e-05\tValidation loss=0.00010425910185782334\tepoch_time (seconds)=123\t\n",
      "Epoch 41 ->\tTraining loss=2.1977520102698146e-05\tValidation loss=0.00010382100773000195\tepoch_time (seconds)=127\t\n",
      "Epoch 42 ->\tTraining loss=2.1451295149792666e-05\tValidation loss=0.00012892900951670867\tepoch_time (seconds)=128\t\n",
      "Epoch 43 ->\tTraining loss=1.3534549535424132e-05\tValidation loss=0.00010446080343189301\tepoch_time (seconds)=124\t\n",
      "Epoch 44 ->\tTraining loss=1.969294200015221e-05\tValidation loss=0.00011041426256954714\tepoch_time (seconds)=127\t\n",
      "Epoch 45 ->\tTraining loss=2.090513791770647e-05\tValidation loss=8.059360724572116e-05\tepoch_time (seconds)=128\t\n",
      "Epoch 46 ->\tTraining loss=1.5678500950024817e-05\tValidation loss=8.980791294271129e-05\tepoch_time (seconds)=129\t\n",
      "Epoch 47 ->\tTraining loss=1.6039912295966205e-05\tValidation loss=0.00010288983198425118\tepoch_time (seconds)=126\t\n",
      "Epoch 48 ->\tTraining loss=1.8011223004010956e-05\tValidation loss=0.00011376194735358795\tepoch_time (seconds)=127\t\n",
      "Epoch 49 ->\tTraining loss=1.508236473691559e-05\tValidation loss=8.653599432196555e-05\tepoch_time (seconds)=128\t\n",
      "Epoch 50 ->\tTraining loss=1.6677384434972608e-05\tValidation loss=9.028700885357831e-05\tepoch_time (seconds)=130\t\n",
      "Epoch 51 ->\tTraining loss=1.7697966857124446e-05\tValidation loss=8.859853684525549e-05\tepoch_time (seconds)=126\t\n",
      "Epoch 52 ->\tTraining loss=1.80698049810523e-05\tValidation loss=9.140781740277215e-05\tepoch_time (seconds)=127\t\n",
      "Epoch 53 ->\tTraining loss=1.3260203759981979e-05\tValidation loss=0.00011841937304389225\tepoch_time (seconds)=132\t\n",
      "Epoch 54 ->\tTraining loss=1.8211092154089856e-05\tValidation loss=0.00011574848078953349\tepoch_time (seconds)=126\t\n",
      "Epoch 55 ->\tTraining loss=1.8609911250394645e-05\tValidation loss=0.00021761660313113004\tepoch_time (seconds)=126\t\n",
      "Epoch 56 ->\tTraining loss=1.7619447208898082e-05\tValidation loss=9.8033965415118e-05\tepoch_time (seconds)=126\t\n",
      "Epoch 57 ->\tTraining loss=1.0217671057365475e-05\tValidation loss=0.00012347194577584853\tepoch_time (seconds)=126\t\n",
      "Epoch 58 ->\tTraining loss=1.4603863878146984e-05\tValidation loss=0.00010894937932598019\tepoch_time (seconds)=129\t\n",
      "Epoch 59 ->\tTraining loss=1.4908882269389926e-05\tValidation loss=8.655615371495396e-05\tepoch_time (seconds)=127\t\n",
      "Epoch 60 ->\tTraining loss=1.2846269328292692e-05\tValidation loss=0.00011226412863927604\tepoch_time (seconds)=123\t\n",
      "Epoch 61 ->\tTraining loss=1.4839688148711432e-05\tValidation loss=9.733486171075226e-05\tepoch_time (seconds)=126\t\n",
      "Epoch 62 ->\tTraining loss=1.6036658422166652e-05\tValidation loss=8.502793925441659e-05\tepoch_time (seconds)=123\t\n",
      "Epoch 63 ->\tTraining loss=1.2344927118387464e-05\tValidation loss=0.00014574172889760112\tepoch_time (seconds)=125\t\n",
      "Epoch 64 ->\tTraining loss=2.031493246934812e-05\tValidation loss=9.424854510884258e-05\tepoch_time (seconds)=125\t\n",
      "Epoch 65 ->\tTraining loss=1.2116028065301853e-05\tValidation loss=0.00011219792152227256\tepoch_time (seconds)=125\t\n",
      "Epoch 66 ->\tTraining loss=2.3652443162488937e-05\tValidation loss=9.222907204249189e-05\tepoch_time (seconds)=128\t\n",
      "Epoch 67 ->\tTraining loss=1.2246010800918629e-05\tValidation loss=9.195988542052498e-05\tepoch_time (seconds)=126\t\n",
      "Epoch 68 ->\tTraining loss=1.0872492292084597e-05\tValidation loss=8.342050694119975e-05\tepoch_time (seconds)=132\t\n",
      "Epoch 69 ->\tTraining loss=1.2744617420552954e-05\tValidation loss=8.508472052697668e-05\tepoch_time (seconds)=125\t\n",
      "Epoch 70 ->\tTraining loss=1.2607267326057371e-05\tValidation loss=0.000114928961387975\tepoch_time (seconds)=125\t\n",
      "Epoch 71 ->\tTraining loss=1.2446889104762408e-05\tValidation loss=0.00011115056984733751\tepoch_time (seconds)=125\t\n",
      "Epoch 72 ->\tTraining loss=1.4262150495431507e-05\tValidation loss=0.00012251977735351126\tepoch_time (seconds)=125\t\n",
      "Epoch 73 ->\tTraining loss=1.155987145129866e-05\tValidation loss=0.00010265683136601797\tepoch_time (seconds)=127\t\n",
      "Epoch 74 ->\tTraining loss=1.314592988034168e-05\tValidation loss=0.00011806390896984237\tepoch_time (seconds)=136\t\n",
      "Epoch 75 ->\tTraining loss=1.240116261533921e-05\tValidation loss=0.00010682310762822104\tepoch_time (seconds)=129\t\n",
      "Epoch 76 ->\tTraining loss=2.200612540898921e-05\tValidation loss=8.283646935183775e-05\tepoch_time (seconds)=125\t\n",
      "Epoch 77 ->\tTraining loss=1.1077157795354014e-05\tValidation loss=9.014505419460548e-05\tepoch_time (seconds)=125\t\n",
      "Epoch 78 ->\tTraining loss=1.0628990758227523e-05\tValidation loss=7.6198991637203e-05\tepoch_time (seconds)=126\t\n",
      "Epoch 79 ->\tTraining loss=1.0878815387159547e-05\t"
     ]
    },
    {
     "ename": "KeyboardInterrupt",
     "evalue": "",
     "output_type": "error",
     "traceback": [
      "\u001b[0;31m---------------------------------------------------------------------------\u001b[0m",
      "\u001b[0;31mKeyboardInterrupt\u001b[0m                         Traceback (most recent call last)",
      "Cell \u001b[0;32mIn[6], line 33\u001b[0m\n\u001b[1;32m     31\u001b[0m model\u001b[39m.\u001b[39mtrain(\u001b[39mFalse\u001b[39;00m)\n\u001b[1;32m     32\u001b[0m epoch_vloss \u001b[39m=\u001b[39m \u001b[39m0\u001b[39m\n\u001b[0;32m---> 33\u001b[0m \u001b[39mfor\u001b[39;00m batch \u001b[39min\u001b[39;00m \u001b[39miter\u001b[39m(valid_dataloader):\n\u001b[1;32m     34\u001b[0m     x, y \u001b[39m=\u001b[39m batch[\u001b[39m0\u001b[39m]\u001b[39m.\u001b[39mto(DEVICE), batch[\u001b[39m1\u001b[39m]\u001b[39m.\u001b[39mto(DEVICE)\n\u001b[1;32m     35\u001b[0m     prediction \u001b[39m=\u001b[39m model(x)\n",
      "File \u001b[0;32m/opt/homebrew/lib/python3.10/site-packages/torch/utils/data/dataloader.py:634\u001b[0m, in \u001b[0;36m_BaseDataLoaderIter.__next__\u001b[0;34m(self)\u001b[0m\n\u001b[1;32m    631\u001b[0m \u001b[39mif\u001b[39;00m \u001b[39mself\u001b[39m\u001b[39m.\u001b[39m_sampler_iter \u001b[39mis\u001b[39;00m \u001b[39mNone\u001b[39;00m:\n\u001b[1;32m    632\u001b[0m     \u001b[39m# TODO(https://github.com/pytorch/pytorch/issues/76750)\u001b[39;00m\n\u001b[1;32m    633\u001b[0m     \u001b[39mself\u001b[39m\u001b[39m.\u001b[39m_reset()  \u001b[39m# type: ignore[call-arg]\u001b[39;00m\n\u001b[0;32m--> 634\u001b[0m data \u001b[39m=\u001b[39m \u001b[39mself\u001b[39;49m\u001b[39m.\u001b[39;49m_next_data()\n\u001b[1;32m    635\u001b[0m \u001b[39mself\u001b[39m\u001b[39m.\u001b[39m_num_yielded \u001b[39m+\u001b[39m\u001b[39m=\u001b[39m \u001b[39m1\u001b[39m\n\u001b[1;32m    636\u001b[0m \u001b[39mif\u001b[39;00m \u001b[39mself\u001b[39m\u001b[39m.\u001b[39m_dataset_kind \u001b[39m==\u001b[39m _DatasetKind\u001b[39m.\u001b[39mIterable \u001b[39mand\u001b[39;00m \\\n\u001b[1;32m    637\u001b[0m         \u001b[39mself\u001b[39m\u001b[39m.\u001b[39m_IterableDataset_len_called \u001b[39mis\u001b[39;00m \u001b[39mnot\u001b[39;00m \u001b[39mNone\u001b[39;00m \u001b[39mand\u001b[39;00m \\\n\u001b[1;32m    638\u001b[0m         \u001b[39mself\u001b[39m\u001b[39m.\u001b[39m_num_yielded \u001b[39m>\u001b[39m \u001b[39mself\u001b[39m\u001b[39m.\u001b[39m_IterableDataset_len_called:\n",
      "File \u001b[0;32m/opt/homebrew/lib/python3.10/site-packages/torch/utils/data/dataloader.py:678\u001b[0m, in \u001b[0;36m_SingleProcessDataLoaderIter._next_data\u001b[0;34m(self)\u001b[0m\n\u001b[1;32m    676\u001b[0m \u001b[39mdef\u001b[39;00m \u001b[39m_next_data\u001b[39m(\u001b[39mself\u001b[39m):\n\u001b[1;32m    677\u001b[0m     index \u001b[39m=\u001b[39m \u001b[39mself\u001b[39m\u001b[39m.\u001b[39m_next_index()  \u001b[39m# may raise StopIteration\u001b[39;00m\n\u001b[0;32m--> 678\u001b[0m     data \u001b[39m=\u001b[39m \u001b[39mself\u001b[39;49m\u001b[39m.\u001b[39;49m_dataset_fetcher\u001b[39m.\u001b[39;49mfetch(index)  \u001b[39m# may raise StopIteration\u001b[39;00m\n\u001b[1;32m    679\u001b[0m     \u001b[39mif\u001b[39;00m \u001b[39mself\u001b[39m\u001b[39m.\u001b[39m_pin_memory:\n\u001b[1;32m    680\u001b[0m         data \u001b[39m=\u001b[39m _utils\u001b[39m.\u001b[39mpin_memory\u001b[39m.\u001b[39mpin_memory(data, \u001b[39mself\u001b[39m\u001b[39m.\u001b[39m_pin_memory_device)\n",
      "File \u001b[0;32m/opt/homebrew/lib/python3.10/site-packages/torch/utils/data/_utils/fetch.py:51\u001b[0m, in \u001b[0;36m_MapDatasetFetcher.fetch\u001b[0;34m(self, possibly_batched_index)\u001b[0m\n\u001b[1;32m     49\u001b[0m         data \u001b[39m=\u001b[39m \u001b[39mself\u001b[39m\u001b[39m.\u001b[39mdataset\u001b[39m.\u001b[39m__getitems__(possibly_batched_index)\n\u001b[1;32m     50\u001b[0m     \u001b[39melse\u001b[39;00m:\n\u001b[0;32m---> 51\u001b[0m         data \u001b[39m=\u001b[39m [\u001b[39mself\u001b[39m\u001b[39m.\u001b[39mdataset[idx] \u001b[39mfor\u001b[39;00m idx \u001b[39min\u001b[39;00m possibly_batched_index]\n\u001b[1;32m     52\u001b[0m \u001b[39melse\u001b[39;00m:\n\u001b[1;32m     53\u001b[0m     data \u001b[39m=\u001b[39m \u001b[39mself\u001b[39m\u001b[39m.\u001b[39mdataset[possibly_batched_index]\n",
      "File \u001b[0;32m/opt/homebrew/lib/python3.10/site-packages/torch/utils/data/_utils/fetch.py:51\u001b[0m, in \u001b[0;36m<listcomp>\u001b[0;34m(.0)\u001b[0m\n\u001b[1;32m     49\u001b[0m         data \u001b[39m=\u001b[39m \u001b[39mself\u001b[39m\u001b[39m.\u001b[39mdataset\u001b[39m.\u001b[39m__getitems__(possibly_batched_index)\n\u001b[1;32m     50\u001b[0m     \u001b[39melse\u001b[39;00m:\n\u001b[0;32m---> 51\u001b[0m         data \u001b[39m=\u001b[39m [\u001b[39mself\u001b[39m\u001b[39m.\u001b[39mdataset[idx] \u001b[39mfor\u001b[39;00m idx \u001b[39min\u001b[39;00m possibly_batched_index]\n\u001b[1;32m     52\u001b[0m \u001b[39melse\u001b[39;00m:\n\u001b[1;32m     53\u001b[0m     data \u001b[39m=\u001b[39m \u001b[39mself\u001b[39m\u001b[39m.\u001b[39mdataset[possibly_batched_index]\n",
      "\u001b[0;31mKeyboardInterrupt\u001b[0m: "
     ]
    }
   ],
   "source": [
    "model = UnivariateNN(input_space, output_space).to(DEVICE)\n",
    "\n",
    "optimizer = torch.optim.Adam((p for p in model.parameters() if p.requires_grad), lr=LR)\n",
    "loss_function = torch.nn.MSELoss()\n",
    "\n",
    "metrics_logger = MetricsLogger(name=MODEL_NAME)\n",
    "best_vloss = 1_000_000.0\n",
    "for epoch in range(EPOCHS):\n",
    "    \"\"\"TRAINING\"\"\"\n",
    "    model.train(True)\n",
    "    epoch_tloss = 0\n",
    "    for batch in iter(train_dataloader):\n",
    "        x, y = batch[0].to(DEVICE), batch[1].to(DEVICE)\n",
    "        optimizer.zero_grad()\n",
    "        prediction = model(x)\n",
    "        tloss = loss_function(prediction, y)\n",
    "        tloss.backward()\n",
    "        # torch.nn.utils.clip_grad_norm_(model.parameters(), 0.5) TODO\n",
    "        optimizer.step()\n",
    "\n",
    "        epoch_tloss += tloss.item() * x.size(0)\n",
    "        # TODO accuracy or other metric computation????\n",
    "\n",
    "    avg_tloss = epoch_tloss / len(train_dataloader.sampler)\n",
    "    metrics_logger.log_metric(epoch, \"Training loss\", avg_tloss)\n",
    "\n",
    "    \"\"\"VALIDATION\"\"\"\n",
    "    if valid_dataloader:\n",
    "        model.train(False)\n",
    "        epoch_vloss = 0\n",
    "        for batch in iter(valid_dataloader):\n",
    "            x, y = batch[0].to(DEVICE), batch[1].to(DEVICE)\n",
    "            prediction = model(x)\n",
    "            vloss = loss_function(prediction, y)\n",
    "\n",
    "            epoch_vloss += vloss.item() * x.size(0)\n",
    "\n",
    "        avg_vloss = epoch_vloss / len(valid_dataloader.sampler)\n",
    "        metrics_logger.log_metric(epoch, \"Validation loss\", avg_vloss)\n",
    "        # Track best performance, and save the model's state\n",
    "        if avg_vloss < best_vloss:\n",
    "            best_vloss = avg_vloss\n",
    "            torch.save(model.state_dict(), BEST_MODEL_PATH)"
   ]
  },
  {
   "cell_type": "code",
   "execution_count": 7,
   "metadata": {},
   "outputs": [
    {
     "name": "stdout",
     "output_type": "stream",
     "text": [
      "epoch_time (seconds)=73\t"
     ]
    },
    {
     "data": {
      "image/png": "[encoded data removed]",
      "text/plain": [
       "<Figure size 640x480 with 1 Axes>"
      ]
     },
     "metadata": {},
     "output_type": "display_data"
    },
    {
     "name": "stdout",
     "output_type": "stream",
     "text": [
      "Metrics exported in the following csv file: metrics/logged_metrics/univariate_NN_layers50-250_training_factors=ti4-ct4-xD4-yD4_14-07-2023_08-49-25.csv\n"
     ]
    }
   ],
   "source": [
    "metrics_logger.plot_metrics_by_epoch()\n",
    "metrics_logger.save_metrics()"
   ]
  },
  {
   "attachments": {},
   "cell_type": "markdown",
   "metadata": {},
   "source": [
    "# Evaluation and testing"
   ]
  },
  {
   "cell_type": "code",
   "execution_count": 6,
   "metadata": {},
   "outputs": [
    {
     "name": "stdout",
     "output_type": "stream",
     "text": [
      "Train results for univariate_NN_layers50-250_training_factors=ti4-ct4_discr_factors_x2_30_y-2_2_step0.125_TIstep0.01_CTstep0.01: act. func. ReLU (not last layer), batch multiplier 8, 160 epochs, lr=0.01)\n",
      "metrics/final_results/trainset_results_interpolation.csv\n",
      "r2_score=0.984466418421802\n",
      "explained_variance_score=0.984559178352356\n",
      "mean_squared_error=1.9313418306410313e-05\n",
      "mean_absolute_error=0.0018736016936600208\n",
      "median_absolute_error=0.000869865994900465\n",
      "mean_absolute_percentage_error=95555756032.0\n",
      "peak_signal_noise_ratio=47.141408530860964\n",
      "Prediction time=6.607432559422858e-06s\n",
      "\n",
      "\n",
      "Test results for univariate_NN_layers50-250_training_factors=ti4-ct4_discr_factors_x2_30_y-2_2_step0.125_TIstep0.01_CTstep0.01: act. func. ReLU (not last layer), batch multiplier 8, 160 epochs, lr=0.01)\n",
      "metrics/final_results/testset_results_interpolation.csv\n",
      "r2_score=0.9846103201951194\n",
      "explained_variance_score=0.9847199320793152\n",
      "mean_squared_error=1.7256996216019616e-05\n",
      "mean_absolute_error=0.0018003267468884587\n",
      "median_absolute_error=0.000862976536154747\n",
      "mean_absolute_percentage_error=56814845952.0\n",
      "peak_signal_noise_ratio=47.63034796125738\n",
      "Prediction time=5.558307771013178e-06s\n"
     ]
    }
   ],
   "source": [
    "# loading best model\n",
    "model = UnivariateNN(input_space, output_space).to(DEVICE)\n",
    "model.load_state_dict(torch.load(BEST_MODEL_PATH))\n",
    "model.eval()\n",
    "\n",
    "save_results = False\n",
    "\n",
    "# evaluation on trainset\n",
    "evaluate_model(\n",
    "    model,\n",
    "    data=train_dataloader,\n",
    "    data_type=\"train\",\n",
    "    model_description=MODEL_DESCRIPTION,\n",
    "    save_results=save_results,\n",
    "    experiment=EXPERIMENT,\n",
    ")\n",
    "\n",
    "print(\"\\n\")\n",
    "\n",
    "# evalution on testset\n",
    "evaluate_model(\n",
    "    model,\n",
    "    data=test_dataloader,\n",
    "    data_type=\"test\",\n",
    "    model_description=MODEL_DESCRIPTION,\n",
    "    save_results=save_results,\n",
    "    experiment=EXPERIMENT,\n",
    ")"
   ]
  },
  {
   "cell_type": "code",
   "execution_count": 17,
   "metadata": {},
   "outputs": [],
   "source": [
    "test_dataset = test_dataloader.dataset\n",
    "num_cells = test_dataset.num_cells\n",
    "num_fields = len(test_dataset) // num_cells\n",
    "field_indices = list(range(num_fields))\n",
    "random.shuffle(field_indices)\n",
    "\n",
    "with torch.no_grad():\n",
    "    for field_idx in field_indices[:10]:\n",
    "        ti, ct, ws, wake_field, predicted_wake_field = (\n",
    "            test_dataset.get_parameters_for_plotting_univariate(model, field_idx)\n",
    "        )\n",
    "        plotting.plot_maps(\n",
    "            test_dataset.X_grid,\n",
    "            test_dataset.Y_grid,\n",
    "            wake_field,\n",
    "            predicted_wake_field,\n",
    "            ti,\n",
    "            ct,\n",
    "            ws,\n",
    "            error_to_plot=\"absolute\",\n",
    "        )"
   ]
  }
 ],
 "metadata": {
  "kernelspec": {
   "display_name": "Python 3",
   "language": "python",
   "name": "python3"
  },
  "language_info": {
   "codemirror_mode": {
    "name": "ipython",
    "version": 3
   },
   "file_extension": ".py",
   "mimetype": "text/x-python",
   "name": "python",
   "nbconvert_exporter": "python",
   "pygments_lexer": "ipython3",
   "version": "3.11.8"
  },
  "orig_nbformat": 4
 },
 "nbformat": 4,
 "nbformat_minor": 2
}
