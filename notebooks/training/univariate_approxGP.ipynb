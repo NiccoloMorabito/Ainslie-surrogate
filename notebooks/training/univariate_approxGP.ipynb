{
 "cells": [
  {
   "cell_type": "code",
   "execution_count": null,
   "metadata": {},
   "outputs": [],
   "source": [
    "from sklearn.kernel_approximation import RBFSampler\n",
    "from sklearn.linear_model import LinearRegression\n",
    "import random\n",
    "\n",
    "import sys\n",
    "\n",
    "sys.path.append(\"../..\")\n",
    "\n",
    "from src.data_loaders import get_wake_datasets\n",
    "from src.evaluation import evaluate_model\n",
    "import src.plotting as plotting"
   ]
  },
  {
   "cell_type": "code",
   "execution_count": null,
   "metadata": {},
   "outputs": [],
   "source": [
    "FACTORS_FOLDER = \"discr_factors_x2_30_y-2_2_step0.125_TIstep0.01_CTstep0.01\"\n",
    "DATA_FOLDER = f\"../../data/{FACTORS_FOLDER}/\"\n",
    "\n",
    "# INPUT_VAR_TO_TRAIN_REDUCTION_FACTOR = {'ti': 4, 'ct': 4}\n",
    "# train_reduc_factor_string = \"training_factors=\" + \"-\".join([f\"{k}{v}\" for k, v in INPUT_VAR_TO_TRAIN_REDUCTION_FACTOR.items()])\n",
    "INPUT_VAR_TO_TRAIN_RANGES = {\"ti\": [(0.15, 0.4)], \"ct\": [(0.3, 0.7)]}\n",
    "train_range_string = \"training_ranges=\" + \"-\".join(\n",
    "    [\n",
    "        f\"{var}{r[0]}-{r[1]}\"\n",
    "        for var, ranges in INPUT_VAR_TO_TRAIN_RANGES.items()\n",
    "        for r in ranges\n",
    "    ]\n",
    ")\n",
    "CONSIDER_WS = False\n",
    "COORDS_AS_INPUT = True  # univariate setting\n",
    "\n",
    "FOURIER_COMPONENTS = 32\n",
    "\n",
    "MODEL_NAME = (\n",
    "    f\"univariate_approxGP_{FOURIER_COMPONENTS}fourier-components_{train_range_string}\"\n",
    ")\n",
    "if CONSIDER_WS:\n",
    "    MODEL_NAME += \"_consider_ws\"\n",
    "MODEL_DESCRIPTION = MODEL_NAME + \"_\" + FACTORS_FOLDER\n",
    "print(MODEL_DESCRIPTION)"
   ]
  },
  {
   "cell_type": "code",
   "execution_count": null,
   "metadata": {},
   "outputs": [],
   "source": [
    "train_dataset, valid_dataset, test_dataset = get_wake_datasets(\n",
    "    DATA_FOLDER,\n",
    "    consider_ws=CONSIDER_WS,\n",
    "    coords_as_input=COORDS_AS_INPUT,\n",
    "    # train_perc=0.6,\n",
    "    # validation_perc=0.2,\n",
    "    # test_perc=0.2\n",
    "    input_var_to_train_ranges=INPUT_VAR_TO_TRAIN_RANGES,\n",
    ")\n",
    "\n",
    "train_x, train_y = train_dataset.inputs, train_dataset.outputs\n",
    "print(\"Train shapes: \", train_x.shape, train_y.shape)\n",
    "\n",
    "\"\"\"\n",
    "if valid_dataset is not None:\n",
    "    valid_x, valid_y = valid_dataset.inputs, valid_dataset.outputs\n",
    "    print(\"Valid shapes: \", valid_x.shape, valid_y.shape)\n",
    "\"\"\"\n",
    "del valid_dataset\n",
    "\n",
    "grid_size = train_dataset.num_cells\n",
    "print(f\"{grid_size=}\")"
   ]
  },
  {
   "cell_type": "code",
   "execution_count": null,
   "metadata": {},
   "outputs": [],
   "source": [
    "rbf_sampler = RBFSampler(n_components=FOURIER_COMPONENTS, gamma=\"scale\", random_state=0)\n",
    "train_x_fourier = rbf_sampler.fit_transform(train_x)\n",
    "print(\"Transformed train shape: \", train_x_fourier.shape)"
   ]
  },
  {
   "attachments": {},
   "cell_type": "markdown",
   "metadata": {},
   "source": [
    "# Training"
   ]
  },
  {
   "cell_type": "code",
   "execution_count": null,
   "metadata": {},
   "outputs": [],
   "source": [
    "model = LinearRegression()\n",
    "model.fit(train_x_fourier, train_y)"
   ]
  },
  {
   "cell_type": "code",
   "execution_count": null,
   "metadata": {},
   "outputs": [],
   "source": [
    "test_x, test_y = test_dataset.inputs, test_dataset.outputs\n",
    "print(\"Test shapes: \", test_x.shape, test_y.shape)\n",
    "test_x_fourier = rbf_sampler.transform(test_x)\n",
    "print(\"Transformed test shape: \", test_x_fourier.shape)"
   ]
  },
  {
   "cell_type": "code",
   "execution_count": null,
   "metadata": {},
   "outputs": [],
   "source": [
    "# evaluation on trainset\n",
    "evaluate_model(\n",
    "    model,\n",
    "    data=(train_x_fourier, train_y),\n",
    "    data_type=\"train\",\n",
    "    model_description=MODEL_DESCRIPTION,\n",
    "    save_results=True,\n",
    ")\n",
    "\n",
    "print(\"\\n\")\n",
    "\n",
    "# evalution on testset\n",
    "evaluate_model(\n",
    "    model,\n",
    "    data=(test_x_fourier, test_y),\n",
    "    data_type=\"test\",\n",
    "    model_description=MODEL_DESCRIPTION,\n",
    "    save_results=True,\n",
    ")"
   ]
  },
  {
   "cell_type": "code",
   "execution_count": null,
   "metadata": {},
   "outputs": [],
   "source": [
    "num_cells = test_dataset.num_cells\n",
    "num_fields = len(test_dataset) // num_cells\n",
    "field_indices = list(range(num_fields))\n",
    "random.shuffle(field_indices)\n",
    "\n",
    "for field_idx in field_indices[:10]:\n",
    "    inputs, outputs = test_dataset[test_dataset.slice_for_field(field_idx)]\n",
    "    inputs_fourier = rbf_sampler.transform(inputs)\n",
    "    ti, ct, ws, wake_field, predicted_wake_field = (\n",
    "        test_dataset.get_parameters_for_plotting_univariate(\n",
    "            model, field_idx, transformed_inputs=inputs_fourier\n",
    "        )\n",
    "    )\n",
    "\n",
    "    plotting.plot_maps(\n",
    "        test_dataset.X_grid,\n",
    "        test_dataset.Y_grid,\n",
    "        wake_field,\n",
    "        predicted_wake_field,\n",
    "        ti,\n",
    "        ct,\n",
    "        ws,\n",
    "        error_to_plot=\"absolute\",\n",
    "        add_near_wake=True,\n",
    "        plot_wind_turbine=True,\n",
    "    )"
   ]
  }
 ],
 "metadata": {
  "kernelspec": {
   "display_name": "Python 3",
   "language": "python",
   "name": "python3"
  },
  "language_info": {
   "codemirror_mode": {
    "name": "ipython",
    "version": 3
   },
   "file_extension": ".py",
   "mimetype": "text/x-python",
   "name": "python",
   "nbconvert_exporter": "python",
   "pygments_lexer": "ipython3",
   "version": "3.11.8"
  },
  "orig_nbformat": 4
 },
 "nbformat": 4,
 "nbformat_minor": 2
}
