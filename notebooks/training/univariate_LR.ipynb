{
 "cells": [
  {
   "cell_type": "code",
   "execution_count": null,
   "metadata": {},
   "outputs": [],
   "source": [
    "from sklearn.linear_model import LinearRegression\n",
    "import torch\n",
    "import random\n",
    "\n",
    "import sys\n",
    "\n",
    "sys.path.append(\"../..\")\n",
    "\n",
    "import src.plotting as plotting\n",
    "from src.data_loaders import get_wake_datasets\n",
    "from src.evaluation import evaluate_model"
   ]
  },
  {
   "cell_type": "code",
   "execution_count": null,
   "metadata": {},
   "outputs": [],
   "source": [
    "FACTORS_FOLDER = \"discr_factors_x2_30_y-2_2_step0.125_TIstep0.01_CTstep0.01\"\n",
    "DATA_FOLDER = f\"../../data/{FACTORS_FOLDER}/\"\n",
    "\n",
    "# INPUT_VAR_TO_TRAIN_REDUCTION_FACTOR = {'ti': 4, 'ct': 4}\n",
    "# train_reduc_factor_string = \"training_factors=\" + \"-\".join([f\"{k}{v}\" for k, v in INPUT_VAR_TO_TRAIN_REDUCTION_FACTOR.items()])\n",
    "INPUT_VAR_TO_TRAIN_RANGES = {\"ti\": [(0.15, 0.4)], \"ct\": [(0.3, 0.7)]}\n",
    "train_range_string = \"training_ranges=\" + \"-\".join(\n",
    "    [\n",
    "        f\"{var}{r[0]}-{r[1]}\"\n",
    "        for var, ranges in INPUT_VAR_TO_TRAIN_RANGES.items()\n",
    "        for r in ranges\n",
    "    ]\n",
    ")\n",
    "MODEL_NAME = f\"univariate_LR_{train_range_string}\"\n",
    "# BEST_MODEL_PATH = f\"saved_models/{FACTORS_FOLDER}/{MODEL_NAME}.pt\"\n",
    "\n",
    "CONSIDER_WS = False\n",
    "COORDS_AS_INPUT = True  # univariate\n",
    "\n",
    "if CONSIDER_WS:\n",
    "    MODEL_NAME += \"_consider_ws\"\n",
    "MODEL_DESCRIPTION = f\"{MODEL_NAME}_{FACTORS_FOLDER}\"\n",
    "print(MODEL_DESCRIPTION)"
   ]
  },
  {
   "cell_type": "code",
   "execution_count": null,
   "metadata": {},
   "outputs": [],
   "source": [
    "valid_dataset = None\n",
    "train_dataset, valid_dataset, test_dataset = get_wake_datasets(\n",
    "    DATA_FOLDER,\n",
    "    consider_ws=CONSIDER_WS,\n",
    "    coords_as_input=COORDS_AS_INPUT,\n",
    "    # train_perc=0.7,\n",
    "    # test_perc=0.3,\n",
    "    # validation_perc=0\n",
    "    input_var_to_train_ranges=INPUT_VAR_TO_TRAIN_RANGES,\n",
    ")\n",
    "train_x, train_y = train_dataset.inputs, train_dataset.outputs\n",
    "test_x, test_y = test_dataset.inputs, test_dataset.outputs\n",
    "print(\"Train shapes: \", train_x.shape, train_y.shape)\n",
    "print(\"Test shapes: \", test_x.shape, test_y.shape)\n",
    "\n",
    "if valid_dataset is not None:\n",
    "    valid_x, valid_y = valid_dataset.inputs, valid_dataset.outputs\n",
    "    print(\"Valid shapes: \", valid_x.shape, valid_y.shape)"
   ]
  },
  {
   "attachments": {},
   "cell_type": "markdown",
   "metadata": {},
   "source": [
    "# Training"
   ]
  },
  {
   "cell_type": "code",
   "execution_count": null,
   "metadata": {},
   "outputs": [],
   "source": [
    "model = LinearRegression()\n",
    "model.fit(train_x, train_y)"
   ]
  },
  {
   "attachments": {},
   "cell_type": "markdown",
   "metadata": {},
   "source": [
    "# Evaluation and testing"
   ]
  },
  {
   "cell_type": "code",
   "execution_count": null,
   "metadata": {},
   "outputs": [],
   "source": [
    "save_results = False\n",
    "\n",
    "# evaluation on trainset\n",
    "evaluate_model(\n",
    "    model,\n",
    "    data=(train_x, train_y),\n",
    "    data_type=\"train\",\n",
    "    model_description=MODEL_DESCRIPTION,\n",
    "    save_results=save_results,\n",
    ")\n",
    "\n",
    "print(\"\\n\")\n",
    "\n",
    "# evalution on testset\n",
    "evaluate_model(\n",
    "    model,\n",
    "    data=(test_x, test_y),\n",
    "    data_type=\"test\",\n",
    "    model_description=MODEL_DESCRIPTION,\n",
    "    save_results=save_results,\n",
    ")"
   ]
  },
  {
   "cell_type": "code",
   "execution_count": null,
   "metadata": {},
   "outputs": [],
   "source": [
    "num_cells = test_dataset.num_cells\n",
    "num_fields = len(test_dataset) // num_cells\n",
    "field_indices = list(range(num_fields))\n",
    "random.shuffle(field_indices)\n",
    "\n",
    "with torch.no_grad():\n",
    "    for field_idx in field_indices[:10]:\n",
    "        ti, ct, ws, wake_field, predicted_wake_field = (\n",
    "            test_dataset.get_parameters_for_plotting_univariate(model, field_idx)\n",
    "        )\n",
    "        plotting.plot_maps(\n",
    "            test_dataset.X_grid,\n",
    "            test_dataset.Y_grid,\n",
    "            wake_field,\n",
    "            predicted_wake_field,\n",
    "            ti,\n",
    "            ct,\n",
    "            ws,\n",
    "            error_to_plot=\"absolute\",\n",
    "        )"
   ]
  }
 ],
 "metadata": {
  "kernelspec": {
   "display_name": "Python 3",
   "language": "python",
   "name": "python3"
  },
  "language_info": {
   "codemirror_mode": {
    "name": "ipython",
    "version": 3
   },
   "file_extension": ".py",
   "mimetype": "text/x-python",
   "name": "python",
   "nbconvert_exporter": "python",
   "pygments_lexer": "ipython3",
   "version": "3.11.8"
  },
  "orig_nbformat": 4
 },
 "nbformat": 4,
 "nbformat_minor": 2
}
