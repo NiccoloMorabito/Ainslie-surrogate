{
 "cells": [
  {
   "cell_type": "code",
   "execution_count": 15,
   "metadata": {},
   "outputs": [],
   "source": [
    "import pyperclip\n",
    "\n",
    "def copy_generated_autoencoder(layer_dimensions: list[int], flatten: bool = False) -> None:\n",
    "    incr = sorted(layer_dimensions)\n",
    "    decr = sorted(layer_dimensions, reverse=True)\n",
    "\n",
    "    flattening_row = \"\"\"\n",
    "            nn.Flatten(start_dim=1),\"\"\" if flatten else \"\"\n",
    "    \n",
    "    deflattening_row = \"\"\"\n",
    "            nn.Unflatten(dim=1, unflattened_size=(field_shape[0], field_shape[1]))\"\"\" if flatten else \"\"\n",
    "\n",
    "    result = f\"\"\"class AutoEncoder(nn.Module):\n",
    "\n",
    "    def __init__(self, field_shape: int):\n",
    "        super(AutoEncoder, self).__init__()\n",
    "        self.field_shape = field_shape\n",
    "        \n",
    "        self.encoder = nn.Sequential({flattening_row}\n",
    "            nn.Linear(field_shape[0] * field_shape[1], {decr[0]}),\n",
    "            nn.ReLU(),\"\"\"\n",
    "    for first, second in zip(decr, decr[1:]):\n",
    "        result += f\"\"\"\n",
    "            nn.Linear({first}, {second}),\n",
    "            nn.ReLU(),\"\"\"\n",
    "    result += \"\"\"\n",
    "        )\n",
    "        self.decoder = nn.Sequential(\"\"\"\n",
    "    for first, second in zip(incr, incr[1:]):\n",
    "        result += f\"\"\"\n",
    "            nn.Linear({first}, {second}),\n",
    "            nn.ReLU(),\"\"\"\n",
    "    result += f\"\"\"\n",
    "            nn.Linear({decr[0]}, field_shape[0] * field_shape[1]),\n",
    "            nn.ReLU(),{deflattening_row}\n",
    "        )\n",
    "    \n",
    "    def forward(self, x):\n",
    "        encode = self.encoder(x)\n",
    "        decode = self.decoder(encode)\n",
    "        return decode\n",
    "    \"\"\"\n",
    "\n",
    "    # copy to clipboard\n",
    "    pyperclip.copy(result)\n",
    "\n",
    "    print(f\"Generated autoencoder (with layer dimensions: {incr}) copied to the clipboard\")"
   ]
  },
  {
   "cell_type": "code",
   "execution_count": 16,
   "metadata": {},
   "outputs": [
    {
     "name": "stdout",
     "output_type": "stream",
     "text": [
      "Generated autoencoder (with layer dimensions: [8, 16, 32, 64, 128, 256, 512]) copied to the clipboard\n"
     ]
    }
   ],
   "source": [
    "# TODO insert in the following list the dimensions of the layers (one int for wanted layer) in any order\n",
    "layer_dimensions = [2**i for i in range(3, 10)]\n",
    "#layer_dimensions = [50000, 10000, 2500, 500, 10]\n",
    "\n",
    "copy_generated_autoencoder(layer_dimensions, flatten=True)"
   ]
  }
 ],
 "metadata": {
  "kernelspec": {
   "display_name": "Python 3",
   "language": "python",
   "name": "python3"
  },
  "language_info": {
   "codemirror_mode": {
    "name": "ipython",
    "version": 3
   },
   "file_extension": ".py",
   "mimetype": "text/x-python",
   "name": "python",
   "nbconvert_exporter": "python",
   "pygments_lexer": "ipython3",
   "version": "3.10.9"
  },
  "orig_nbformat": 4
 },
 "nbformat": 4,
 "nbformat_minor": 2
}
