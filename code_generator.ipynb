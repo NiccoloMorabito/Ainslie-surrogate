{
 "cells": [
  {
   "cell_type": "code",
   "execution_count": 27,
   "metadata": {},
   "outputs": [],
   "source": [
    "import pyperclip\n",
    "\n",
    "def copy_generated_autoencoder(layer_dimensions: list[int], flatten: bool = False) -> None:\n",
    "    incr = sorted(layer_dimensions)\n",
    "    decr = sorted(layer_dimensions, reverse=True)\n",
    "\n",
    "    flattening_row = \"\"\"\n",
    "            nn.Flatten(start_dim=1),\"\"\" if flatten else \"\"\n",
    "    \n",
    "    deflattening_row = \"\"\"\n",
    "            nn.Unflatten(dim=1, unflattened_size=(field_shape[0], field_shape[1]))\"\"\" if flatten else \"\"\n",
    "\n",
    "    result = f\"\"\"class AutoEncoder(nn.Module):\n",
    "\n",
    "    def __init__(self, field_shape: int):\n",
    "        super(AutoEncoder, self).__init__()\n",
    "        self.field_shape = field_shape\n",
    "        \n",
    "        self.encoder = nn.Sequential({flattening_row}\n",
    "            nn.Linear(field_shape[0] * field_shape[1], {decr[0]}),\n",
    "            nn.ReLU(),\"\"\"\n",
    "    for first, second in zip(decr, decr[1:]):\n",
    "        result += f\"\"\"\n",
    "            nn.Linear({first}, {second}),\n",
    "            nn.ReLU(),\"\"\"\n",
    "    result += \"\"\"\n",
    "        )\n",
    "        self.decoder = nn.Sequential(\"\"\"\n",
    "    for first, second in zip(incr, incr[1:]):\n",
    "        result += f\"\"\"\n",
    "            nn.Linear({first}, {second}),\n",
    "            nn.ReLU(),\"\"\"\n",
    "    result += f\"\"\"\n",
    "            nn.Linear({decr[0]}, field_shape[0] * field_shape[1]),\n",
    "            nn.ReLU(),{deflattening_row}\n",
    "        )\n",
    "    \n",
    "    def forward(self, x):\n",
    "        encode = self.encoder(x)\n",
    "        decode = self.decoder(encode)\n",
    "        return decode\n",
    "    \"\"\"\n",
    "\n",
    "    # copy to clipboard\n",
    "    pyperclip.copy(result)\n",
    "\n",
    "    print(f\"Generated autoencoder (with layer dimensions: {incr}) copied to the clipboard\")"
   ]
  },
  {
   "cell_type": "code",
   "execution_count": 28,
   "metadata": {},
   "outputs": [],
   "source": [
    "import torch.nn as nn\n",
    "\n",
    "def generate_autoencoder_model(layer_dimensions: list[int], field_shape, flatten: bool = False) -> nn.Module:\n",
    "    incr = sorted(layer_dimensions)\n",
    "    decr = sorted(layer_dimensions, reverse=True)\n",
    "\n",
    "    encoder_layers = [nn.Flatten(start_dim=1)] if flatten else []\n",
    "    encoder_layers += [nn.Linear(field_shape[0] * field_shape[1], decr[0]),\n",
    "                      nn.ReLU()]\n",
    "    for first, second in zip(decr, decr[1:]):\n",
    "        encoder_layers += [nn.Linear(first, second),\n",
    "                           nn.ReLU()]\n",
    "    \n",
    "    decoder_layers = []\n",
    "    for first, second in zip(incr, incr[1:]):\n",
    "        decoder_layers += [nn.Linear(first, second),\n",
    "                           nn.ReLU()]\n",
    "    decoder_layers += [nn.Linear(decr[0], field_shape[0] * field_shape[1]),\n",
    "                       nn.ReLU()]\n",
    "    if flatten:\n",
    "        decoder_layers += [nn.Unflatten(dim=1, unflattened_size=(field_shape[0], field_shape[1]))]\n",
    "\n",
    "    class AutoEncoder(nn.Module):\n",
    "\n",
    "        def __init__(self):\n",
    "            super(AutoEncoder, self).__init__()\n",
    "            self.encoder = nn.Sequential(*encoder_layers)\n",
    "            self.decoder = nn.Sequential(*decoder_layers)\n",
    "        \n",
    "        def forward(self, x):\n",
    "            encode = self.encoder(x)\n",
    "            decode = self.decoder(encode)\n",
    "            return decode\n",
    "    \n",
    "    return AutoEncoder"
   ]
  },
  {
   "cell_type": "code",
   "execution_count": 29,
   "metadata": {},
   "outputs": [
    {
     "name": "stdout",
     "output_type": "stream",
     "text": [
      "Generated autoencoder (with layer dimensions: [8, 16, 32, 64, 128, 256, 512]) copied to the clipboard\n"
     ]
    }
   ],
   "source": [
    "# TODO insert in the following list the dimensions of the layers (one int for wanted layer) in any order\n",
    "layer_dimensions = [2**i for i in range(3, 10)]\n",
    "#layer_dimensions = [50000, 10000, 2500, 500, 10]\n",
    "\n",
    "copy_generated_autoencoder(layer_dimensions, flatten=True)"
   ]
  },
  {
   "cell_type": "code",
   "execution_count": 30,
   "metadata": {},
   "outputs": [
    {
     "data": {
      "text/plain": [
       "AutoEncoder(\n",
       "  (encoder): Sequential(\n",
       "    (0): Flatten(start_dim=1, end_dim=-1)\n",
       "    (1): Linear(in_features=100000, out_features=512, bias=True)\n",
       "    (2): ReLU()\n",
       "    (3): Linear(in_features=512, out_features=256, bias=True)\n",
       "    (4): ReLU()\n",
       "    (5): Linear(in_features=256, out_features=128, bias=True)\n",
       "    (6): ReLU()\n",
       "    (7): Linear(in_features=128, out_features=64, bias=True)\n",
       "    (8): ReLU()\n",
       "    (9): Linear(in_features=64, out_features=32, bias=True)\n",
       "    (10): ReLU()\n",
       "    (11): Linear(in_features=32, out_features=16, bias=True)\n",
       "    (12): ReLU()\n",
       "    (13): Linear(in_features=16, out_features=8, bias=True)\n",
       "    (14): ReLU()\n",
       "  )\n",
       "  (decoder): Sequential(\n",
       "    (0): Linear(in_features=8, out_features=16, bias=True)\n",
       "    (1): ReLU()\n",
       "    (2): Linear(in_features=16, out_features=32, bias=True)\n",
       "    (3): ReLU()\n",
       "    (4): Linear(in_features=32, out_features=64, bias=True)\n",
       "    (5): ReLU()\n",
       "    (6): Linear(in_features=64, out_features=128, bias=True)\n",
       "    (7): ReLU()\n",
       "    (8): Linear(in_features=128, out_features=256, bias=True)\n",
       "    (9): ReLU()\n",
       "    (10): Linear(in_features=256, out_features=512, bias=True)\n",
       "    (11): ReLU()\n",
       "    (12): Linear(in_features=512, out_features=100000, bias=True)\n",
       "    (13): ReLU()\n",
       "    (14): Unflatten(dim=1, unflattened_size=(500, 200))\n",
       "  )\n",
       ")"
      ]
     },
     "execution_count": 30,
     "metadata": {},
     "output_type": "execute_result"
    }
   ],
   "source": [
    "AutoEncoder = generate_autoencoder_model(layer_dimensions, field_shape=[500, 200], flatten=True)\n",
    "ananas = AutoEncoder()\n",
    "ananas"
   ]
  }
 ],
 "metadata": {
  "kernelspec": {
   "display_name": "Python 3",
   "language": "python",
   "name": "python3"
  },
  "language_info": {
   "codemirror_mode": {
    "name": "ipython",
    "version": 3
   },
   "file_extension": ".py",
   "mimetype": "text/x-python",
   "name": "python",
   "nbconvert_exporter": "python",
   "pygments_lexer": "ipython3",
   "version": "3.10.9"
  },
  "orig_nbformat": 4
 },
 "nbformat": 4,
 "nbformat_minor": 2
}
