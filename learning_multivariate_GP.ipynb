{
 "cells": [
  {
   "attachments": {},
   "cell_type": "markdown",
   "metadata": {},
   "source": [
    "https://docs.gpytorch.ai/en/latest/examples/03_Multitask_Exact_GPs/Multitask_GP_Regression.html"
   ]
  },
  {
   "cell_type": "code",
   "execution_count": 1,
   "metadata": {},
   "outputs": [],
   "source": [
    "import gpytorch\n",
    "import torch\n",
    "from sklearn.gaussian_process import GaussianProcessRegressor\n",
    "from sklearn.gaussian_process.kernels import RBF\n",
    "\n",
    "from utils.metrics import MetricsLogger\n",
    "from utils.data_loaders import get_wake_dataloaders\n",
    "#from utils.evaluation import test_pytorch_model"
   ]
  },
  {
   "cell_type": "code",
   "execution_count": 2,
   "metadata": {},
   "outputs": [
    {
     "name": "stdout",
     "output_type": "stream",
     "text": [
      "Model description: multivariate_GP_ExactGP_consider_ws_discr_factors_x2_30_y-2_2_step0.125_reducedTI-CT standard multivariate GP\n",
      "DEVICE=device(type='cpu')\n"
     ]
    }
   ],
   "source": [
    "FACTORS_FOLDER = \"discr_factors_x2_30_y-2_2_step0.125_TIstep0.01_CTstep0.01\"\n",
    "DATA_FOLDER = f\"data/{FACTORS_FOLDER}/\"\n",
    "MODEL_NAME = f\"multivariate_GP_ExactGP\" #TODO\n",
    "BEST_MODEL_PATH = f\"saved_models/{FACTORS_FOLDER}/{MODEL_NAME}.pt\"\n",
    "CONSIDER_WS = True\n",
    "COORDS_AS_INPUT = False # multivariate setting\n",
    "if CONSIDER_WS:\n",
    "    MODEL_NAME += \"_consider_ws\"\n",
    "    FACTORS_FOLDER = FACTORS_FOLDER.replace(\"TIstep0.01_CTstep0.01\", \"reducedTI-CT\")\n",
    "    BEST_MODEL_PATH = f\"saved_models/{FACTORS_FOLDER}/{MODEL_NAME}.pt\"\n",
    "\n",
    "MODEL_DESCRIPTION = f\"{MODEL_NAME}_{FACTORS_FOLDER} standard multivariate GP\" #TODO\n",
    "print(f\"Model description: {MODEL_DESCRIPTION}\")\n",
    "\n",
    "DEVICE = torch.device(\"cuda\" if torch.cuda.is_available() else \"cpu\")\n",
    "print(f\"{DEVICE=}\")\n",
    "\n",
    "# hyperparameters\n",
    "EPOCHS = 50\n",
    "LR = 0.1\n",
    "BATCH_SIZE = 1"
   ]
  },
  {
   "cell_type": "code",
   "execution_count": 3,
   "metadata": {},
   "outputs": [
    {
     "name": "stdout",
     "output_type": "stream",
     "text": [
      "8250\n",
      "Train shapes:  torch.Size([8250, 3]) torch.Size([8250, 7168])\n",
      "grid_size=7168\n"
     ]
    }
   ],
   "source": [
    "valid_dataloader = None\n",
    "train_dataloader, valid_dataloader, test_dataloader = get_wake_dataloaders(DATA_FOLDER,\n",
    "                                                          consider_ws=CONSIDER_WS,\n",
    "                                                          coords_as_input=COORDS_AS_INPUT,\n",
    "                                                          train_perc=0.6,\n",
    "                                                          test_perc=0.2,\n",
    "                                                          validation_perc=0.2,\n",
    "                                                          batch_size=BATCH_SIZE)\n",
    "\n",
    "print(len(train_dataloader))\n",
    "\n",
    "train_x, train_y = train_dataloader.dataset.inputs, train_dataloader.dataset.outputs\n",
    "print(\"Train shapes: \", train_x.shape, train_y.shape)\n",
    "\n",
    "del valid_dataloader\n",
    "\"\"\"\n",
    "if valid_dataloader is not None:\n",
    "    valid_x, valid_y = valid_dataloader.dataset.inputs, valid_dataloader.dataset.outputs\n",
    "    print(\"Valid shapes: \", valid_x.shape, valid_y.shape)\n",
    "\"\"\"\n",
    "\n",
    "grid_size = train_dataloader.dataset.num_cells\n",
    "print(f\"{grid_size=}\")"
   ]
  },
  {
   "cell_type": "code",
   "execution_count": 5,
   "metadata": {},
   "outputs": [
    {
     "name": "stdout",
     "output_type": "stream",
     "text": [
      "torch.Size([71680, 4]) torch.Size([71680])\n"
     ]
    }
   ],
   "source": [
    "\"\"\"\n",
    "REDUCE THE AMOUNT OF DATA\n",
    "num_instances = 10 #TODO\n",
    "train_x= torch.split(train_x, num_instances)[0]#.reshape(num_instances, grid_size, num_features)\n",
    "train_y = torch.split(train_y,num_instances)[0]#.reshape(num_instances, grid_size)\n",
    "print(train_x.shape, train_y.shape)\"\"\""
   ]
  },
  {
   "attachments": {},
   "cell_type": "markdown",
   "metadata": {},
   "source": [
    "# Sklearn"
   ]
  },
  {
   "cell_type": "code",
   "execution_count": 12,
   "metadata": {},
   "outputs": [],
   "source": [
    "\"\"\"\n",
    "kernel = RBF(length_scale=1.0)\n",
    "gp = GaussianProcessRegressor(kernel=kernel)\n",
    "gp.fit(train_x, train_y)\n",
    "\"\"\""
   ]
  },
  {
   "attachments": {},
   "cell_type": "markdown",
   "metadata": {},
   "source": [
    "# Gpytorch"
   ]
  },
  {
   "cell_type": "code",
   "execution_count": 5,
   "metadata": {},
   "outputs": [],
   "source": [
    "class MultitaskGPModel(gpytorch.models.ExactGP):\n",
    "    def __init__(self, train_x, train_y, likelihood):\n",
    "        super(MultitaskGPModel, self).__init__(train_x, train_y, likelihood)\n",
    "        self.mean_module = gpytorch.means.MultitaskMean(\n",
    "            gpytorch.means.ConstantMean(), num_tasks=grid_size\n",
    "        )\n",
    "        self.covar_module = gpytorch.kernels.MultitaskKernel(\n",
    "            gpytorch.kernels.RBFKernel(), num_tasks=grid_size, rank=1\n",
    "        )\n",
    "\n",
    "    def forward(self, x):\n",
    "        mean_x = self.mean_module(x)\n",
    "        covar_x = self.covar_module(x)\n",
    "        return gpytorch.distributions.MultitaskMultivariateNormal(mean_x, covar_x)"
   ]
  },
  {
   "cell_type": "code",
   "execution_count": 6,
   "metadata": {},
   "outputs": [
    {
     "name": "stdout",
     "output_type": "stream",
     "text": [
      "Logging multivariate_GP_ExactGP_consider_ws\n",
      "Epoch 0 ->\tTraining loss=1.0866221189498901\tepoch_time (seconds)=438\t\n",
      "Epoch 1 ->\tTraining loss=1.0498507022857666\tepoch_time (seconds)=436\t\n",
      "Epoch 2 ->\tTraining loss=1.012321949005127\tepoch_time (seconds)=435\t\n",
      "Epoch 3 ->\tTraining loss=0.9740357398986816\tepoch_time (seconds)=437\t\n",
      "Epoch 4 ->\tTraining loss=0.9349958300590515\tepoch_time (seconds)=433\t\n",
      "Epoch 5 ->\tTraining loss=0.8952087163925171\tepoch_time (seconds)=437\t\n",
      "Epoch 6 ->\tTraining loss=0.8546844124794006\tepoch_time (seconds)=444\t\n",
      "Epoch 7 ->\tTraining loss=0.8134351372718811\tepoch_time (seconds)=438\t\n",
      "Epoch 8 ->\tTraining loss=0.7714760303497314\tepoch_time (seconds)=3711\t\n",
      "Epoch 9 ->\tTraining loss=0.7288246750831604\tepoch_time (seconds)=451\t\n",
      "Epoch 10 ->\tTraining loss=0.6855005025863647\tepoch_time (seconds)=446\t\n",
      "Epoch 11 ->\tTraining loss=0.6415255069732666\tepoch_time (seconds)=441\t\n",
      "Epoch 12 ->\tTraining loss=0.5969222784042358\tepoch_time (seconds)=438\t\n",
      "Epoch 13 ->\tTraining loss=0.5517157912254333\tepoch_time (seconds)=444\t\n",
      "Epoch 14 ->\tTraining loss=0.5059317350387573\tepoch_time (seconds)=442\t\n",
      "Epoch 15 ->\tTraining loss=0.4595966637134552\tepoch_time (seconds)=442\t\n",
      "Epoch 16 ->\tTraining loss=0.41273847222328186\tepoch_time (seconds)=441\t\n",
      "Epoch 17 ->\tTraining loss=0.36538416147232056\tepoch_time (seconds)=442\t\n",
      "Epoch 18 ->\tTraining loss=0.3175620138645172\tepoch_time (seconds)=446\t\n",
      "Epoch 19 ->\tTraining loss=0.2692999243736267\tepoch_time (seconds)=442\t\n",
      "Epoch 20 ->\tTraining loss=0.2206254005432129\tepoch_time (seconds)=456\t\n",
      "Epoch 21 ->\tTraining loss=0.1715661585330963\tepoch_time (seconds)=442\t\n",
      "Epoch 22 ->\tTraining loss=0.12214881181716919\tepoch_time (seconds)=442\t\n",
      "Epoch 23 ->\tTraining loss=0.0723995566368103\tepoch_time (seconds)=440\t\n",
      "Epoch 24 ->\tTraining loss=0.02234463021159172\tepoch_time (seconds)=442\t\n",
      "Epoch 25 ->\tTraining loss=-0.027992017567157745\tepoch_time (seconds)=443\t\n",
      "Epoch 26 ->\tTraining loss=-0.07858583331108093\tepoch_time (seconds)=442\t\n",
      "Epoch 27 ->\tTraining loss=-0.1294138878583908\tepoch_time (seconds)=440\t\n",
      "Epoch 28 ->\tTraining loss=-0.1804540753364563\tepoch_time (seconds)=447\t\n",
      "Epoch 29 ->\tTraining loss=-0.23168513178825378\tepoch_time (seconds)=445\t\n",
      "Epoch 30 ->\tTraining loss=-0.2830870449542999\tepoch_time (seconds)=440\t\n",
      "Epoch 31 ->\tTraining loss=-0.33464062213897705\tepoch_time (seconds)=442\t\n",
      "Epoch 32 ->\tTraining loss=-0.38632771372795105\tepoch_time (seconds)=442\t\n",
      "Epoch 33 ->\tTraining loss=-0.43813183903694153\tepoch_time (seconds)=440\t\n",
      "Epoch 34 ->\tTraining loss=-0.4900372624397278\tnan loss\n",
      "epoch_time (seconds)=415\t"
     ]
    },
    {
     "data": {
      "image/png": "[encoded data removed]",
      "text/plain": [
       "<Figure size 640x480 with 1 Axes>"
      ]
     },
     "metadata": {},
     "output_type": "display_data"
    },
    {
     "name": "stdout",
     "output_type": "stream",
     "text": [
      "Metrics exported in the following csv file: logged_metrics/multivariate_GP_ExactGP_consider_ws_21-06-2023_20-31-40.csv\n"
     ]
    }
   ],
   "source": [
    "likelihood = gpytorch.likelihoods.MultitaskGaussianLikelihood(num_tasks=grid_size)\n",
    "model = MultitaskGPModel(train_x, train_y, likelihood)\n",
    "\n",
    "# Find optimal model hyperparameters\n",
    "model.train()\n",
    "likelihood.train()\n",
    "\n",
    "# Use the adam optimizer\n",
    "optimizer = torch.optim.Adam(model.parameters(), lr=LR)  # Includes GaussianLikelihood parameters\n",
    "\n",
    "# \"Loss\" for GPs - the marginal log likelihood\n",
    "mll = gpytorch.mlls.ExactMarginalLogLikelihood(likelihood, model)\n",
    "\n",
    "metrics_logger = MetricsLogger(name=MODEL_NAME, automatic_save_after=5)\n",
    "best_tloss = 1_000_000.\n",
    "for epoch in range(EPOCHS):\n",
    "    optimizer.zero_grad()\n",
    "    output = model(train_x)\n",
    "    loss = -mll(output, train_y)\n",
    "    if torch.isnan(loss): #TODO fix or delete\n",
    "        print(\"nan loss\")\n",
    "        break\n",
    "    loss.backward()\n",
    "    loss_value = loss.item()\n",
    "    metrics_logger.log_metric(epoch, 'Training loss', loss_value)\n",
    "    if loss_value < best_tloss:\n",
    "        best_tloss = loss_value\n",
    "        torch.save(model.state_dict(), BEST_MODEL_PATH)\n",
    "    optimizer.step()\n",
    "\n",
    "metrics_logger.plot_metrics_by_epoch()\n",
    "metrics_logger.save_metrics()"
   ]
  },
  {
   "cell_type": "code",
   "execution_count": 6,
   "metadata": {},
   "outputs": [
    {
     "data": {
      "text/plain": [
       "'\\ntest_gpytorch_model(model, ,\\n                   model_description=\"multivariate GP\", #TODO\\n                   save_results=False)\\n'"
      ]
     },
     "execution_count": 6,
     "metadata": {},
     "output_type": "execute_result"
    }
   ],
   "source": [
    "# loading best model\n",
    "likelihood = gpytorch.likelihoods.MultitaskGaussianLikelihood(num_tasks=grid_size)\n",
    "model = MultitaskGPModel(train_x, train_y, likelihood).to(DEVICE) #ricreating the model by using train_x and train_y as done in https://docs.gpytorch.ai/en/stable/examples/00_Basic_Usage/Saving_and_Loading_Models.html\n",
    "model.load_state_dict(torch.load(BEST_MODEL_PATH))\n",
    "model.eval()\n",
    "likelihood.eval()\n",
    "\n",
    "\n",
    "\n",
    "\n",
    "\n",
    "\"\"\"\n",
    "test_gpytorch_model(model, ,\n",
    "                   model_description=\"multivariate GP\", #TODO\n",
    "                   save_results=False)\n",
    "\"\"\""
   ]
  },
  {
   "cell_type": "code",
   "execution_count": 7,
   "metadata": {},
   "outputs": [
    {
     "name": "stdout",
     "output_type": "stream",
     "text": [
      "Test shapes:  torch.Size([2200, 3]) torch.Size([2200, 7168])\n"
     ]
    },
    {
     "data": {
      "text/plain": [
       "'\\nREDUCE TEST DATA\\ntest_x_= torch.split(test_x, 10)[0]#.reshape(num_instances, grid_size, num_features)\\ntest_y_= torch.split(test_y, 10)[0]#.reshape(num_instances, grid_size)\\nprint(test_x.shape, test_y.shape)\\nprint(test_x_.shape, test_y_.shape)\\n'"
      ]
     },
     "execution_count": 7,
     "metadata": {},
     "output_type": "execute_result"
    }
   ],
   "source": [
    "del train_dataloader, train_x, train_y\n",
    "\n",
    "test_x, test_y = test_dataloader.dataset.inputs, test_dataloader.dataset.outputs\n",
    "print(\"Test shapes: \", test_x.shape, test_y.shape)\n",
    "\n",
    "\"\"\"\n",
    "REDUCE TEST DATA\n",
    "test_x_= torch.split(test_x, 10)[0]#.reshape(num_instances, grid_size, num_features)\n",
    "test_y_= torch.split(test_y, 10)[0]#.reshape(num_instances, grid_size)\n",
    "print(test_x.shape, test_y.shape)\n",
    "print(test_x_.shape, test_y_.shape)\n",
    "\"\"\""
   ]
  },
  {
   "cell_type": "code",
   "execution_count": 12,
   "metadata": {},
   "outputs": [
    {
     "name": "stdout",
     "output_type": "stream",
     "text": [
      "torch.Size([1, 3])\n"
     ]
    },
    {
     "ename": "RuntimeError",
     "evalue": "[enforce fail at alloc_cpu.cpp:83] err == 0. DefaultCPUAllocator: can't allocate memory: you tried to allocate 13988265984000000 bytes. Error code 12 (Cannot allocate memory)",
     "output_type": "error",
     "traceback": [
      "\u001b[0;31m---------------------------------------------------------------------------\u001b[0m",
      "\u001b[0;31mRuntimeError\u001b[0m                              Traceback (most recent call last)",
      "Cell \u001b[0;32mIn[12], line 5\u001b[0m\n\u001b[1;32m      3\u001b[0m         inp \u001b[39m=\u001b[39m inp\u001b[39m.\u001b[39munsqueeze(\u001b[39m0\u001b[39m)\n\u001b[1;32m      4\u001b[0m         \u001b[39mprint\u001b[39m(inp\u001b[39m.\u001b[39mshape)\n\u001b[0;32m----> 5\u001b[0m         a \u001b[39m=\u001b[39m model(inp)\n\u001b[1;32m      6\u001b[0m         \u001b[39mbreak\u001b[39;00m\n\u001b[1;32m      7\u001b[0m a\n",
      "File \u001b[0;32m/opt/homebrew/lib/python3.10/site-packages/gpytorch/models/exact_gp.py:332\u001b[0m, in \u001b[0;36mExactGP.__call__\u001b[0;34m(self, *args, **kwargs)\u001b[0m\n\u001b[1;32m    327\u001b[0m \u001b[39m# Make the prediction\u001b[39;00m\n\u001b[1;32m    328\u001b[0m \u001b[39mwith\u001b[39;00m settings\u001b[39m.\u001b[39mcg_tolerance(settings\u001b[39m.\u001b[39meval_cg_tolerance\u001b[39m.\u001b[39mvalue()):\n\u001b[1;32m    329\u001b[0m     (\n\u001b[1;32m    330\u001b[0m         predictive_mean,\n\u001b[1;32m    331\u001b[0m         predictive_covar,\n\u001b[0;32m--> 332\u001b[0m     ) \u001b[39m=\u001b[39m \u001b[39mself\u001b[39;49m\u001b[39m.\u001b[39;49mprediction_strategy\u001b[39m.\u001b[39;49mexact_prediction(full_mean, full_covar)\n\u001b[1;32m    334\u001b[0m \u001b[39m# Reshape predictive mean to match the appropriate event shape\u001b[39;00m\n\u001b[1;32m    335\u001b[0m predictive_mean \u001b[39m=\u001b[39m predictive_mean\u001b[39m.\u001b[39mview(\u001b[39m*\u001b[39mbatch_shape, \u001b[39m*\u001b[39mtest_shape)\u001b[39m.\u001b[39mcontiguous()\n",
      "File \u001b[0;32m/opt/homebrew/lib/python3.10/site-packages/gpytorch/models/exact_prediction_strategies.py:273\u001b[0m, in \u001b[0;36mDefaultPredictionStrategy.exact_prediction\u001b[0;34m(self, joint_mean, joint_covar)\u001b[0m\n\u001b[1;32m    268\u001b[0m     test_test_covar \u001b[39m=\u001b[39m joint_covar[\u001b[39m.\u001b[39m\u001b[39m.\u001b[39m\u001b[39m.\u001b[39m, \u001b[39mself\u001b[39m\u001b[39m.\u001b[39mnum_train :, \u001b[39mself\u001b[39m\u001b[39m.\u001b[39mnum_train :]\n\u001b[1;32m    269\u001b[0m     test_train_covar \u001b[39m=\u001b[39m joint_covar[\u001b[39m.\u001b[39m\u001b[39m.\u001b[39m\u001b[39m.\u001b[39m, \u001b[39mself\u001b[39m\u001b[39m.\u001b[39mnum_train :, : \u001b[39mself\u001b[39m\u001b[39m.\u001b[39mnum_train]\n\u001b[1;32m    271\u001b[0m \u001b[39mreturn\u001b[39;00m (\n\u001b[1;32m    272\u001b[0m     \u001b[39mself\u001b[39m\u001b[39m.\u001b[39mexact_predictive_mean(test_mean, test_train_covar),\n\u001b[0;32m--> 273\u001b[0m     \u001b[39mself\u001b[39;49m\u001b[39m.\u001b[39;49mexact_predictive_covar(test_test_covar, test_train_covar),\n\u001b[1;32m    274\u001b[0m )\n",
      "File \u001b[0;32m/opt/homebrew/lib/python3.10/site-packages/gpytorch/models/exact_prediction_strategies.py:335\u001b[0m, in \u001b[0;36mDefaultPredictionStrategy.exact_predictive_covar\u001b[0;34m(self, test_test_covar, test_train_covar)\u001b[0m\n\u001b[1;32m    331\u001b[0m     \u001b[39m# In other cases - we'll use the standard infrastructure\u001b[39;00m\n\u001b[1;32m    332\u001b[0m     \u001b[39melse\u001b[39;00m:\n\u001b[1;32m    333\u001b[0m         \u001b[39mreturn\u001b[39;00m test_test_covar \u001b[39m+\u001b[39m MatmulLinearOperator(test_train_covar, covar_correction_rhs\u001b[39m.\u001b[39mmul(\u001b[39m-\u001b[39m\u001b[39m1\u001b[39m))\n\u001b[0;32m--> 335\u001b[0m precomputed_cache \u001b[39m=\u001b[39m \u001b[39mself\u001b[39;49m\u001b[39m.\u001b[39;49mcovar_cache\n\u001b[1;32m    336\u001b[0m covar_inv_quad_form_root \u001b[39m=\u001b[39m \u001b[39mself\u001b[39m\u001b[39m.\u001b[39m_exact_predictive_covar_inv_quad_form_root(precomputed_cache, test_train_covar)\n\u001b[1;32m    337\u001b[0m \u001b[39mif\u001b[39;00m torch\u001b[39m.\u001b[39mis_tensor(test_test_covar):\n",
      "File \u001b[0;32m/opt/homebrew/lib/python3.10/site-packages/gpytorch/utils/memoize.py:59\u001b[0m, in \u001b[0;36m_cached.<locals>.g\u001b[0;34m(self, *args, **kwargs)\u001b[0m\n\u001b[1;32m     57\u001b[0m kwargs_pkl \u001b[39m=\u001b[39m pickle\u001b[39m.\u001b[39mdumps(kwargs)\n\u001b[1;32m     58\u001b[0m \u001b[39mif\u001b[39;00m \u001b[39mnot\u001b[39;00m _is_in_cache(\u001b[39mself\u001b[39m, cache_name, \u001b[39m*\u001b[39margs, kwargs_pkl\u001b[39m=\u001b[39mkwargs_pkl):\n\u001b[0;32m---> 59\u001b[0m     \u001b[39mreturn\u001b[39;00m _add_to_cache(\u001b[39mself\u001b[39m, cache_name, method(\u001b[39mself\u001b[39;49m, \u001b[39m*\u001b[39;49margs, \u001b[39m*\u001b[39;49m\u001b[39m*\u001b[39;49mkwargs), \u001b[39m*\u001b[39margs, kwargs_pkl\u001b[39m=\u001b[39mkwargs_pkl)\n\u001b[1;32m     60\u001b[0m \u001b[39mreturn\u001b[39;00m _get_from_cache(\u001b[39mself\u001b[39m, cache_name, \u001b[39m*\u001b[39margs, kwargs_pkl\u001b[39m=\u001b[39mkwargs_pkl)\n",
      "File \u001b[0;32m/opt/homebrew/lib/python3.10/site-packages/gpytorch/models/exact_prediction_strategies.py:229\u001b[0m, in \u001b[0;36mDefaultPredictionStrategy.covar_cache\u001b[0;34m(self)\u001b[0m\n\u001b[1;32m    225\u001b[0m \u001b[39m@property\u001b[39m\n\u001b[1;32m    226\u001b[0m \u001b[39m@cached\u001b[39m(name\u001b[39m=\u001b[39m\u001b[39m\"\u001b[39m\u001b[39mcovar_cache\u001b[39m\u001b[39m\"\u001b[39m)\n\u001b[1;32m    227\u001b[0m \u001b[39mdef\u001b[39;00m \u001b[39mcovar_cache\u001b[39m(\u001b[39mself\u001b[39m):\n\u001b[1;32m    228\u001b[0m     train_train_covar \u001b[39m=\u001b[39m \u001b[39mself\u001b[39m\u001b[39m.\u001b[39mlik_train_train_covar\n\u001b[0;32m--> 229\u001b[0m     train_train_covar_inv_root \u001b[39m=\u001b[39m to_dense(train_train_covar\u001b[39m.\u001b[39;49mroot_inv_decomposition()\u001b[39m.\u001b[39;49mroot)\n\u001b[1;32m    230\u001b[0m     \u001b[39mreturn\u001b[39;00m \u001b[39mself\u001b[39m\u001b[39m.\u001b[39m_exact_predictive_covar_inv_quad_form_cache(train_train_covar_inv_root, \u001b[39mself\u001b[39m\u001b[39m.\u001b[39m_last_test_train_covar)\n",
      "File \u001b[0;32m/opt/homebrew/lib/python3.10/site-packages/linear_operator/operators/_linear_operator.py:2843\u001b[0m, in \u001b[0;36mto_dense\u001b[0;34m(obj)\u001b[0m\n\u001b[1;32m   2841\u001b[0m     \u001b[39mreturn\u001b[39;00m obj\n\u001b[1;32m   2842\u001b[0m \u001b[39melif\u001b[39;00m \u001b[39misinstance\u001b[39m(obj, LinearOperator):\n\u001b[0;32m-> 2843\u001b[0m     \u001b[39mreturn\u001b[39;00m obj\u001b[39m.\u001b[39;49mto_dense()\n\u001b[1;32m   2844\u001b[0m \u001b[39melse\u001b[39;00m:\n\u001b[1;32m   2845\u001b[0m     \u001b[39mraise\u001b[39;00m \u001b[39mTypeError\u001b[39;00m(\u001b[39m\"\u001b[39m\u001b[39mobject of class \u001b[39m\u001b[39m{}\u001b[39;00m\u001b[39m cannot be made into a Tensor\u001b[39m\u001b[39m\"\u001b[39m\u001b[39m.\u001b[39mformat(obj\u001b[39m.\u001b[39m\u001b[39m__class__\u001b[39m\u001b[39m.\u001b[39m\u001b[39m__name__\u001b[39m))\n",
      "File \u001b[0;32m/opt/homebrew/lib/python3.10/site-packages/linear_operator/utils/memoize.py:59\u001b[0m, in \u001b[0;36m_cached.<locals>.g\u001b[0;34m(self, *args, **kwargs)\u001b[0m\n\u001b[1;32m     57\u001b[0m kwargs_pkl \u001b[39m=\u001b[39m pickle\u001b[39m.\u001b[39mdumps(kwargs)\n\u001b[1;32m     58\u001b[0m \u001b[39mif\u001b[39;00m \u001b[39mnot\u001b[39;00m _is_in_cache(\u001b[39mself\u001b[39m, cache_name, \u001b[39m*\u001b[39margs, kwargs_pkl\u001b[39m=\u001b[39mkwargs_pkl):\n\u001b[0;32m---> 59\u001b[0m     \u001b[39mreturn\u001b[39;00m _add_to_cache(\u001b[39mself\u001b[39m, cache_name, method(\u001b[39mself\u001b[39;49m, \u001b[39m*\u001b[39;49margs, \u001b[39m*\u001b[39;49m\u001b[39m*\u001b[39;49mkwargs), \u001b[39m*\u001b[39margs, kwargs_pkl\u001b[39m=\u001b[39mkwargs_pkl)\n\u001b[1;32m     60\u001b[0m \u001b[39mreturn\u001b[39;00m _get_from_cache(\u001b[39mself\u001b[39m, cache_name, \u001b[39m*\u001b[39margs, kwargs_pkl\u001b[39m=\u001b[39mkwargs_pkl)\n",
      "File \u001b[0;32m/opt/homebrew/lib/python3.10/site-packages/linear_operator/operators/matmul_linear_operator.py:127\u001b[0m, in \u001b[0;36mMatmulLinearOperator.to_dense\u001b[0;34m(self)\u001b[0m\n\u001b[1;32m    125\u001b[0m \u001b[39m@cached\u001b[39m\n\u001b[1;32m    126\u001b[0m \u001b[39mdef\u001b[39;00m \u001b[39mto_dense\u001b[39m(\u001b[39mself\u001b[39m):\n\u001b[0;32m--> 127\u001b[0m     \u001b[39mreturn\u001b[39;00m torch\u001b[39m.\u001b[39mmatmul(\u001b[39mself\u001b[39;49m\u001b[39m.\u001b[39;49mleft_linear_op\u001b[39m.\u001b[39;49mto_dense(), \u001b[39mself\u001b[39m\u001b[39m.\u001b[39mright_linear_op\u001b[39m.\u001b[39mto_dense())\n",
      "File \u001b[0;32m/opt/homebrew/lib/python3.10/site-packages/linear_operator/utils/memoize.py:59\u001b[0m, in \u001b[0;36m_cached.<locals>.g\u001b[0;34m(self, *args, **kwargs)\u001b[0m\n\u001b[1;32m     57\u001b[0m kwargs_pkl \u001b[39m=\u001b[39m pickle\u001b[39m.\u001b[39mdumps(kwargs)\n\u001b[1;32m     58\u001b[0m \u001b[39mif\u001b[39;00m \u001b[39mnot\u001b[39;00m _is_in_cache(\u001b[39mself\u001b[39m, cache_name, \u001b[39m*\u001b[39margs, kwargs_pkl\u001b[39m=\u001b[39mkwargs_pkl):\n\u001b[0;32m---> 59\u001b[0m     \u001b[39mreturn\u001b[39;00m _add_to_cache(\u001b[39mself\u001b[39m, cache_name, method(\u001b[39mself\u001b[39;49m, \u001b[39m*\u001b[39;49margs, \u001b[39m*\u001b[39;49m\u001b[39m*\u001b[39;49mkwargs), \u001b[39m*\u001b[39margs, kwargs_pkl\u001b[39m=\u001b[39mkwargs_pkl)\n\u001b[1;32m     60\u001b[0m \u001b[39mreturn\u001b[39;00m _get_from_cache(\u001b[39mself\u001b[39m, cache_name, \u001b[39m*\u001b[39margs, kwargs_pkl\u001b[39m=\u001b[39mkwargs_pkl)\n",
      "File \u001b[0;32m/opt/homebrew/lib/python3.10/site-packages/linear_operator/operators/diag_linear_operator.py:113\u001b[0m, in \u001b[0;36mDiagLinearOperator.to_dense\u001b[0;34m(self)\u001b[0m\n\u001b[1;32m    111\u001b[0m \u001b[39mif\u001b[39;00m \u001b[39mself\u001b[39m\u001b[39m.\u001b[39m_diag\u001b[39m.\u001b[39mdim() \u001b[39m==\u001b[39m \u001b[39m0\u001b[39m:\n\u001b[1;32m    112\u001b[0m     \u001b[39mreturn\u001b[39;00m \u001b[39mself\u001b[39m\u001b[39m.\u001b[39m_diag\n\u001b[0;32m--> 113\u001b[0m \u001b[39mreturn\u001b[39;00m torch\u001b[39m.\u001b[39;49mdiag_embed(\u001b[39mself\u001b[39;49m\u001b[39m.\u001b[39;49m_diag)\n",
      "\u001b[0;31mRuntimeError\u001b[0m: [enforce fail at alloc_cpu.cpp:83] err == 0. DefaultCPUAllocator: can't allocate memory: you tried to allocate 13988265984000000 bytes. Error code 12 (Cannot allocate memory)"
     ]
    }
   ],
   "source": [
    "with torch.no_grad(), gpytorch.settings.fast_pred_var():\n",
    "    for inp in test_x:\n",
    "        inp = inp.unsqueeze(0)\n",
    "        print(inp.shape)\n",
    "        a = model(inp)\n",
    "        break\n",
    "a"
   ]
  },
  {
   "cell_type": "code",
   "execution_count": null,
   "metadata": {},
   "outputs": [],
   "source": [
    "\"\"\"\n",
    "# Initialize plots\n",
    "f, (y1_ax, y2_ax) = plt.subplots(1, 2, figsize=(8, 3))\n",
    "\n",
    "# Make predictions\n",
    "with torch.no_grad(), gpytorch.settings.fast_pred_var():\n",
    "    test_x = torch.linspace(0, 1, 51)\n",
    "    predictions = likelihood(model(test_x))\n",
    "    mean = predictions.mean\n",
    "    lower, upper = predictions.confidence_region()\n",
    "\n",
    "# This contains predictions for both tasks, flattened out\n",
    "# The first half of the predictions is for the first task\n",
    "# The second half is for the second task\n",
    "\n",
    "# Plot training data as black stars\n",
    "y1_ax.plot(train_x.detach().numpy(), train_y[:, 0].detach().numpy(), 'k*')\n",
    "# Predictive mean as blue line\n",
    "y1_ax.plot(test_x.numpy(), mean[:, 0].numpy(), 'b')\n",
    "# Shade in confidence\n",
    "y1_ax.fill_between(test_x.numpy(), lower[:, 0].numpy(), upper[:, 0].numpy(), alpha=0.5)\n",
    "y1_ax.set_ylim([-3, 3])\n",
    "y1_ax.legend(['Observed Data', 'Mean', 'Confidence'])\n",
    "y1_ax.set_title('Observed Values (Likelihood)')\n",
    "\n",
    "# Plot training data as black stars\n",
    "y2_ax.plot(train_x.detach().numpy(), train_y[:, 1].detach().numpy(), 'k*')\n",
    "# Predictive mean as blue line\n",
    "y2_ax.plot(test_x.numpy(), mean[:, 1].numpy(), 'b')\n",
    "# Shade in confidence\n",
    "y2_ax.fill_between(test_x.numpy(), lower[:, 1].numpy(), upper[:, 1].numpy(), alpha=0.5)\n",
    "y2_ax.set_ylim([-3, 3])\n",
    "y2_ax.legend(['Observed Data', 'Mean', 'Confidence'])\n",
    "y2_ax.set_title('Observed Values (Likelihood)')\n",
    "\"\"\""
   ]
  }
 ],
 "metadata": {
  "kernelspec": {
   "display_name": "Python 3",
   "language": "python",
   "name": "python3"
  },
  "language_info": {
   "codemirror_mode": {
    "name": "ipython",
    "version": 3
   },
   "file_extension": ".py",
   "mimetype": "text/x-python",
   "name": "python",
   "nbconvert_exporter": "python",
   "pygments_lexer": "ipython3",
   "version": "3.10.11"
  },
  "orig_nbformat": 4
 },
 "nbformat": 4,
 "nbformat_minor": 2
}
