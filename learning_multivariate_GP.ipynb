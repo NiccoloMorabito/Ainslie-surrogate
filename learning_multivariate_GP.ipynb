{
 "cells": [
  {
   "attachments": {},
   "cell_type": "markdown",
   "metadata": {},
   "source": [
    "https://docs.gpytorch.ai/en/latest/examples/03_Multitask_Exact_GPs/Multitask_GP_Regression.html"
   ]
  },
  {
   "cell_type": "code",
   "execution_count": 1,
   "metadata": {},
   "outputs": [],
   "source": [
    "import gpytorch\n",
    "import torch\n",
    "from sklearn.gaussian_process import GaussianProcessRegressor\n",
    "from sklearn.gaussian_process.kernels import RBF\n",
    "\n",
    "from utils.metrics import MetricsLogger\n",
    "from utils.data_loaders import get_wake_dataloaders\n",
    "#from utils.evaluation import test_pytorch_model"
   ]
  },
  {
   "cell_type": "code",
   "execution_count": 2,
   "metadata": {},
   "outputs": [
    {
     "name": "stdout",
     "output_type": "stream",
     "text": [
      "Model description: multivariate_GP_ExactGP_training_factors=ti4-ct4_discr_factors_x2_30_y-2_2_step0.125_TIstep0.01_CTstep0.01 standard multivariate GP\n",
      "DEVICE=device(type='cpu')\n"
     ]
    }
   ],
   "source": [
    "FACTORS_FOLDER = \"discr_factors_x2_30_y-2_2_step0.125_TIstep0.01_CTstep0.01\"\n",
    "DATA_FOLDER = f\"data/{FACTORS_FOLDER}/\"\n",
    "INPUT_VAR_TO_TRAIN_REDUCTION_FACTOR = {'ti': 4, 'ct': 4}\n",
    "train_reduc_factor_string = \"training_factors=\" + \"-\".join([f\"{k}{v}\" for k, v in INPUT_VAR_TO_TRAIN_REDUCTION_FACTOR.items()])\n",
    "MODEL_NAME = f\"multivariate_GP_ExactGP_{train_reduc_factor_string}\"\n",
    "BEST_MODEL_PATH = f\"saved_models/{FACTORS_FOLDER}/{MODEL_NAME}.pt\"\n",
    "CONSIDER_WS = False\n",
    "COORDS_AS_INPUT = False # multivariate setting\n",
    "if CONSIDER_WS:\n",
    "    MODEL_NAME += \"_consider_ws\"\n",
    "    FACTORS_FOLDER = FACTORS_FOLDER.replace(\"TIstep0.01_CTstep0.01\", \"reducedTI-CT\")\n",
    "    BEST_MODEL_PATH = f\"saved_models/{FACTORS_FOLDER}/{MODEL_NAME}.pt\"\n",
    "\n",
    "MODEL_DESCRIPTION = f\"{MODEL_NAME}_{FACTORS_FOLDER} standard multivariate GP\" #TODO\n",
    "print(f\"Model description: {MODEL_DESCRIPTION}\")\n",
    "\n",
    "DEVICE = torch.device(\"cuda\" if torch.cuda.is_available() else \"cpu\")\n",
    "print(f\"{DEVICE=}\")\n",
    "\n",
    "# hyperparameters\n",
    "EPOCHS = 50\n",
    "LR = 0.1\n",
    "BATCH_SIZE = 4"
   ]
  },
  {
   "cell_type": "code",
   "execution_count": 3,
   "metadata": {},
   "outputs": [
    {
     "name": "stderr",
     "output_type": "stream",
     "text": [
      "/Users/niccolomorabito/Library/CloudStorage/GoogleDrive-morabito.1808746@studenti.uniroma1.it/My Drive/BDMA/Semester4 Thesis/Ainslie-surrogate/utils/data_loaders.py:248: UserWarning: \n",
      "Ignoring percentages of train-valid-test split (train_perc=0.8, valid_perc=0, test_perc=0.2)\n",
      "and using the reduction factors for the training set instead:\n",
      "{'ti': 4, 'ct': 4}\n",
      "  warnings.warn(\n"
     ]
    },
    {
     "name": "stdout",
     "output_type": "stream",
     "text": [
      "138\n",
      "Train shapes:  torch.Size([550, 2]) torch.Size([550, 7168])\n",
      "grid_size=7168\n"
     ]
    }
   ],
   "source": [
    "valid_dataloader = None\n",
    "train_dataloader, valid_dataloader, test_dataloader = get_wake_dataloaders(DATA_FOLDER,\n",
    "                                                          consider_ws=CONSIDER_WS,\n",
    "                                                          coords_as_input=COORDS_AS_INPUT,\n",
    "                                                          #train_perc=0.6,\n",
    "                                                          #test_perc=0.2,\n",
    "                                                          #validation_perc=0.2,\n",
    "                                                          input_var_to_train_reduction_factor=INPUT_VAR_TO_TRAIN_REDUCTION_FACTOR,\n",
    "                                                          batch_size=BATCH_SIZE)\n",
    "\n",
    "print(len(train_dataloader))\n",
    "\n",
    "train_x, train_y = train_dataloader.dataset.inputs, train_dataloader.dataset.outputs\n",
    "print(\"Train shapes: \", train_x.shape, train_y.shape)\n",
    "\n",
    "\"\"\"\n",
    "if valid_dataloader is not None:\n",
    "    valid_x, valid_y = valid_dataloader.dataset.inputs, valid_dataloader.dataset.outputs\n",
    "    print(\"Valid shapes: \", valid_x.shape, valid_y.shape)\n",
    "\"\"\"\n",
    "\n",
    "grid_size = train_dataloader.dataset.num_cells\n",
    "print(f\"{grid_size=}\")"
   ]
  },
  {
   "cell_type": "code",
   "execution_count": 4,
   "metadata": {},
   "outputs": [
    {
     "data": {
      "text/plain": [
       "'\\nREDUCE THE AMOUNT OF DATA\\nnum_instances = 10 #TODO\\ntrain_x= torch.split(train_x, num_instances)[0]#.reshape(num_instances, grid_size, num_features)\\ntrain_y = torch.split(train_y,num_instances)[0]#.reshape(num_instances, grid_size)\\nprint(train_x.shape, train_y.shape)'"
      ]
     },
     "execution_count": 4,
     "metadata": {},
     "output_type": "execute_result"
    }
   ],
   "source": [
    "\"\"\"\n",
    "REDUCE THE AMOUNT OF DATA\n",
    "num_instances = 10 #TODO\n",
    "train_x= torch.split(train_x, num_instances)[0]#.reshape(num_instances, grid_size, num_features)\n",
    "train_y = torch.split(train_y,num_instances)[0]#.reshape(num_instances, grid_size)\n",
    "print(train_x.shape, train_y.shape)\"\"\""
   ]
  },
  {
   "attachments": {},
   "cell_type": "markdown",
   "metadata": {},
   "source": [
    "# Sklearn"
   ]
  },
  {
   "cell_type": "code",
   "execution_count": 5,
   "metadata": {},
   "outputs": [
    {
     "data": {
      "text/plain": [
       "'\\nkernel = RBF(length_scale=1.0)\\ngp = GaussianProcessRegressor(kernel=kernel)\\ngp.fit(train_x, train_y)\\n'"
      ]
     },
     "execution_count": 5,
     "metadata": {},
     "output_type": "execute_result"
    }
   ],
   "source": [
    "\"\"\"\n",
    "kernel = RBF(length_scale=1.0)\n",
    "gp = GaussianProcessRegressor(kernel=kernel)\n",
    "gp.fit(train_x, train_y)\n",
    "\"\"\""
   ]
  },
  {
   "attachments": {},
   "cell_type": "markdown",
   "metadata": {},
   "source": [
    "# Gpytorch"
   ]
  },
  {
   "cell_type": "code",
   "execution_count": 5,
   "metadata": {},
   "outputs": [],
   "source": [
    "class MultitaskGPModel(gpytorch.models.ExactGP):\n",
    "    def __init__(self, train_x, train_y, likelihood):\n",
    "        super(MultitaskGPModel, self).__init__(train_x, train_y, likelihood)\n",
    "        self.mean_module = gpytorch.means.MultitaskMean(\n",
    "            gpytorch.means.ConstantMean(), num_tasks=grid_size\n",
    "        )\n",
    "        self.covar_module = gpytorch.kernels.MultitaskKernel(\n",
    "            gpytorch.kernels.RBFKernel(), num_tasks=grid_size, rank=1\n",
    "        )\n",
    "\n",
    "    def forward(self, x):\n",
    "        mean_x = self.mean_module(x)\n",
    "        covar_x = self.covar_module(x)\n",
    "        return gpytorch.distributions.MultitaskMultivariateNormal(mean_x, covar_x)\n",
    "    \n",
    "likelihood = gpytorch.likelihoods.MultitaskGaussianLikelihood(num_tasks=grid_size)\n",
    "model = MultitaskGPModel(train_x, train_y, likelihood)"
   ]
  },
  {
   "cell_type": "code",
   "execution_count": 7,
   "metadata": {},
   "outputs": [
    {
     "name": "stdout",
     "output_type": "stream",
     "text": [
      "Logging multivariate_GP_ExactGP_training_factors=ti4-ct4\n",
      "Epoch 0 ->\tTraining loss=1.097070574760437\tepoch_time (seconds)=218\t\n",
      "Epoch 1 ->\tTraining loss=1.0599368810653687\tepoch_time (seconds)=219\t\n",
      "Epoch 2 ->\tTraining loss=1.0220731496810913\tepoch_time (seconds)=216\t\n",
      "Epoch 3 ->\tTraining loss=0.9834858179092407\tepoch_time (seconds)=220\t\n",
      "Epoch 4 ->\tTraining loss=0.9441713094711304\tepoch_time (seconds)=197\t\n",
      "Epoch 5 ->\tTraining loss=0.9041345715522766\tepoch_time (seconds)=214\t\n",
      "Epoch 6 ->\tTraining loss=0.8633858561515808\tepoch_time (seconds)=240\t\n",
      "Epoch 7 ->\tTraining loss=0.821935772895813\tepoch_time (seconds)=242\t\n",
      "Epoch 8 ->\tTraining loss=0.7797961235046387\tepoch_time (seconds)=196\t\n",
      "Epoch 9 ->\tTraining loss=0.7369829416275024\tepoch_time (seconds)=211\t\n",
      "Epoch 10 ->\tTraining loss=0.6935153603553772\tepoch_time (seconds)=204\t\n",
      "Epoch 11 ->\tTraining loss=0.6494133472442627\tepoch_time (seconds)=209\t\n",
      "Epoch 12 ->\tTraining loss=0.6046971678733826\tepoch_time (seconds)=213\t\n",
      "Epoch 13 ->\tTraining loss=0.559390664100647\tepoch_time (seconds)=208\t\n",
      "Epoch 14 ->\tTraining loss=0.5135193467140198\tepoch_time (seconds)=240\t\n",
      "Epoch 15 ->\tTraining loss=0.4671081304550171\tepoch_time (seconds)=211\t\n",
      "Epoch 16 ->\tTraining loss=0.4201826751232147\tepoch_time (seconds)=199\t\n",
      "Epoch 17 ->\tTraining loss=0.37277084589004517\tepoch_time (seconds)=218\t\n",
      "Epoch 18 ->\tTraining loss=0.32489943504333496\tepoch_time (seconds)=192\t\n",
      "Epoch 19 ->\tTraining loss=0.27659472823143005\tepoch_time (seconds)=195\t\n",
      "Epoch 20 ->\tTraining loss=0.22788409888744354\tepoch_time (seconds)=197\t\n",
      "Epoch 21 ->\tTraining loss=0.17879337072372437\tepoch_time (seconds)=192\t\n",
      "Epoch 22 ->\tTraining loss=0.1293478012084961\tepoch_time (seconds)=192\t\n",
      "Epoch 23 ->\tTraining loss=0.07957246899604797\tepoch_time (seconds)=194\t\n",
      "Epoch 24 ->\tTraining loss=0.029490474611520767\tepoch_time (seconds)=196\t\n",
      "Epoch 25 ->\tTraining loss=-0.02087516523897648\tepoch_time (seconds)=195\t\n",
      "Epoch 26 ->\tTraining loss=-0.07150308042764664\tepoch_time (seconds)=194\t\n",
      "Epoch 27 ->\tTraining loss=-0.12237203121185303\tepoch_time (seconds)=193\t\n",
      "Epoch 28 ->\tTraining loss=-0.1734619140625\tepoch_time (seconds)=193\t\n",
      "Epoch 29 ->\tTraining loss=-0.22475199401378632\tepoch_time (seconds)=194\t\n",
      "Epoch 30 ->\tTraining loss=-0.2762230634689331\tepoch_time (seconds)=193\t\n",
      "Epoch 31 ->\tTraining loss=-0.3278530240058899\tepoch_time (seconds)=194\t\n",
      "Epoch 32 ->\tTraining loss=-0.37962400913238525\tepoch_time (seconds)=196\t\n",
      "Epoch 33 ->\tTraining loss=-0.4315137267112732\tepoch_time (seconds)=195\t\n",
      "Epoch 34 ->\tTraining loss=-0.4835055470466614\tepoch_time (seconds)=195\t\n",
      "Epoch 35 ->\tTraining loss=-0.5355784893035889\tepoch_time (seconds)=196\t\n",
      "Epoch 36 ->\tTraining loss=-0.5877184867858887\tepoch_time (seconds)=195\t\n",
      "Epoch 37 ->\tTraining loss=-0.6399059295654297\tepoch_time (seconds)=195\t\n",
      "Epoch 38 ->\tTraining loss=-0.6921263337135315\tepoch_time (seconds)=196\t\n",
      "Epoch 39 ->\tTraining loss=-0.7443628907203674\tepoch_time (seconds)=195\t\n",
      "Epoch 40 ->\tTraining loss=-0.7966040372848511\tepoch_time (seconds)=194\t\n",
      "Epoch 41 ->\tTraining loss=-0.8488349318504333\tepoch_time (seconds)=194\t\n",
      "Epoch 42 ->\tTraining loss=-0.9010423421859741\tepoch_time (seconds)=196\t\n",
      "Epoch 43 ->\tTraining loss=-0.9532180428504944\tepoch_time (seconds)=195\t\n",
      "Epoch 44 ->\tTraining loss=-1.0053455829620361\tepoch_time (seconds)=194\t\n",
      "Epoch 45 ->\tTraining loss=-1.0574065446853638\tepoch_time (seconds)=196\t\n",
      "Epoch 46 ->\tTraining loss=-1.109397530555725\tepoch_time (seconds)=194\t\n",
      "Epoch 47 ->\tTraining loss=-1.161299228668213\tepoch_time (seconds)=195\t\n",
      "Epoch 48 ->\tTraining loss=-1.2130978107452393\tepoch_time (seconds)=194\t\n",
      "Epoch 49 ->\tTraining loss=-1.2647595405578613\tepoch_time (seconds)=0\t"
     ]
    },
    {
     "data": {
      "image/png": "[encoded data removed]",
      "text/plain": [
       "<Figure size 640x480 with 1 Axes>"
      ]
     },
     "metadata": {},
     "output_type": "display_data"
    },
    {
     "name": "stdout",
     "output_type": "stream",
     "text": [
      "Metrics exported in the following csv file: logged_metrics/multivariate_GP_ExactGP_training_factors=ti4-ct4_27-06-2023_17-10-13.csv\n"
     ]
    }
   ],
   "source": [
    "# Find optimal model hyperparameters\n",
    "model.train()\n",
    "likelihood.train()\n",
    "\n",
    "# Use the adam optimizer\n",
    "optimizer = torch.optim.Adam(model.parameters(), lr=LR)  # Includes GaussianLikelihood parameters\n",
    "\n",
    "# \"Loss\" for GPs - the marginal log likelihood\n",
    "mll = gpytorch.mlls.ExactMarginalLogLikelihood(likelihood, model)\n",
    "\n",
    "metrics_logger = MetricsLogger(name=MODEL_NAME, automatic_save_after=5)\n",
    "best_tloss = 1_000_000.\n",
    "for epoch in range(EPOCHS):\n",
    "    optimizer.zero_grad()\n",
    "    output = model(train_x)\n",
    "    loss = -mll(output, train_y)\n",
    "    if torch.isnan(loss): #TODO fix or delete\n",
    "        print(\"nan loss\")\n",
    "        break\n",
    "    loss.backward()\n",
    "    loss_value = loss.item()\n",
    "    metrics_logger.log_metric(epoch, 'Training loss', loss_value)\n",
    "    if loss_value < best_tloss:\n",
    "        best_tloss = loss_value\n",
    "        torch.save(model.state_dict(), BEST_MODEL_PATH)\n",
    "    optimizer.step()\n",
    "\n",
    "metrics_logger.plot_metrics_by_epoch()\n",
    "metrics_logger.save_metrics()"
   ]
  },
  {
   "cell_type": "code",
   "execution_count": 6,
   "metadata": {},
   "outputs": [
    {
     "data": {
      "text/plain": [
       "'\\ntest_gpytorch_model(model, ,\\n                   model_description=\"multivariate GP\", #TODO\\n                   save_results=False)\\n'"
      ]
     },
     "execution_count": 6,
     "metadata": {},
     "output_type": "execute_result"
    }
   ],
   "source": [
    "# loading best model\n",
    "likelihood = gpytorch.likelihoods.MultitaskGaussianLikelihood(num_tasks=grid_size)\n",
    "model = MultitaskGPModel(train_x, train_y, likelihood).to(DEVICE) #ricreating the model by using train_x and train_y as done in https://docs.gpytorch.ai/en/stable/examples/00_Basic_Usage/Saving_and_Loading_Models.html\n",
    "model.load_state_dict(torch.load(BEST_MODEL_PATH))\n",
    "model.eval()\n",
    "likelihood.eval()\n",
    "\n",
    "\n",
    "\n",
    "\n",
    "\n",
    "\"\"\"\n",
    "test_gpytorch_model(model, ,\n",
    "                   model_description=\"multivariate GP\", #TODO\n",
    "                   save_results=False)\n",
    "\"\"\""
   ]
  },
  {
   "cell_type": "code",
   "execution_count": 7,
   "metadata": {},
   "outputs": [
    {
     "name": "stdout",
     "output_type": "stream",
     "text": [
      "Test shapes:  torch.Size([4025, 2]) torch.Size([4025, 7168])\n"
     ]
    },
    {
     "data": {
      "text/plain": [
       "'\\nREDUCE TEST DATA\\ntest_x_= torch.split(test_x, 10)[0]#.reshape(num_instances, grid_size, num_features)\\ntest_y_= torch.split(test_y, 10)[0]#.reshape(num_instances, grid_size)\\nprint(test_x.shape, test_y.shape)\\nprint(test_x_.shape, test_y_.shape)\\n'"
      ]
     },
     "execution_count": 7,
     "metadata": {},
     "output_type": "execute_result"
    }
   ],
   "source": [
    "del train_dataloader, train_x, train_y\n",
    "\n",
    "test_x, test_y = test_dataloader.dataset.inputs, test_dataloader.dataset.outputs\n",
    "print(\"Test shapes: \", test_x.shape, test_y.shape)\n",
    "\n",
    "\"\"\"\n",
    "REDUCE TEST DATA\n",
    "test_x_= torch.split(test_x, 10)[0]#.reshape(num_instances, grid_size, num_features)\n",
    "test_y_= torch.split(test_y, 10)[0]#.reshape(num_instances, grid_size)\n",
    "print(test_x.shape, test_y.shape)\n",
    "print(test_x_.shape, test_y_.shape)\n",
    "\"\"\""
   ]
  },
  {
   "cell_type": "code",
   "execution_count": 8,
   "metadata": {},
   "outputs": [
    {
     "name": "stdout",
     "output_type": "stream",
     "text": [
      "torch.Size([4025, 2])\n"
     ]
    },
    {
     "ename": "",
     "evalue": "",
     "output_type": "error",
     "traceback": [
      "\u001b[1;31mCannot execute code, session has been disposed. Please try restarting the Kernel."
     ]
    },
    {
     "ename": "",
     "evalue": "",
     "output_type": "error",
     "traceback": [
      "\u001b[1;31mThe Kernel crashed while executing code in the the current cell or a previous cell. Please review the code in the cell(s) to identify a possible cause of the failure. Click <a href='https://aka.ms/vscodeJupyterKernelCrash'>here</a> for more info. View Jupyter <a href='command:jupyter.viewOutput'>log</a> for further details."
     ]
    }
   ],
   "source": [
    "with torch.no_grad(), gpytorch.settings.fast_pred_var():\n",
    "    print(test_x.shape)\n",
    "    a = model(test_x)\n",
    "a"
   ]
  },
  {
   "cell_type": "code",
   "execution_count": null,
   "metadata": {},
   "outputs": [],
   "source": [
    "\"\"\"\n",
    "# Initialize plots\n",
    "f, (y1_ax, y2_ax) = plt.subplots(1, 2, figsize=(8, 3))\n",
    "\n",
    "# Make predictions\n",
    "with torch.no_grad(), gpytorch.settings.fast_pred_var():\n",
    "    test_x = torch.linspace(0, 1, 51)\n",
    "    predictions = likelihood(model(test_x))\n",
    "    mean = predictions.mean\n",
    "    lower, upper = predictions.confidence_region()\n",
    "\n",
    "# This contains predictions for both tasks, flattened out\n",
    "# The first half of the predictions is for the first task\n",
    "# The second half is for the second task\n",
    "\n",
    "# Plot training data as black stars\n",
    "y1_ax.plot(train_x.detach().numpy(), train_y[:, 0].detach().numpy(), 'k*')\n",
    "# Predictive mean as blue line\n",
    "y1_ax.plot(test_x.numpy(), mean[:, 0].numpy(), 'b')\n",
    "# Shade in confidence\n",
    "y1_ax.fill_between(test_x.numpy(), lower[:, 0].numpy(), upper[:, 0].numpy(), alpha=0.5)\n",
    "y1_ax.set_ylim([-3, 3])\n",
    "y1_ax.legend(['Observed Data', 'Mean', 'Confidence'])\n",
    "y1_ax.set_title('Observed Values (Likelihood)')\n",
    "\n",
    "# Plot training data as black stars\n",
    "y2_ax.plot(train_x.detach().numpy(), train_y[:, 1].detach().numpy(), 'k*')\n",
    "# Predictive mean as blue line\n",
    "y2_ax.plot(test_x.numpy(), mean[:, 1].numpy(), 'b')\n",
    "# Shade in confidence\n",
    "y2_ax.fill_between(test_x.numpy(), lower[:, 1].numpy(), upper[:, 1].numpy(), alpha=0.5)\n",
    "y2_ax.set_ylim([-3, 3])\n",
    "y2_ax.legend(['Observed Data', 'Mean', 'Confidence'])\n",
    "y2_ax.set_title('Observed Values (Likelihood)')\n",
    "\"\"\""
   ]
  }
 ],
 "metadata": {
  "kernelspec": {
   "display_name": "Python 3",
   "language": "python",
   "name": "python3"
  },
  "language_info": {
   "codemirror_mode": {
    "name": "ipython",
    "version": 3
   },
   "file_extension": ".py",
   "mimetype": "text/x-python",
   "name": "python",
   "nbconvert_exporter": "python",
   "pygments_lexer": "ipython3",
   "version": "3.10.11"
  },
  "orig_nbformat": 4
 },
 "nbformat": 4,
 "nbformat_minor": 2
}
