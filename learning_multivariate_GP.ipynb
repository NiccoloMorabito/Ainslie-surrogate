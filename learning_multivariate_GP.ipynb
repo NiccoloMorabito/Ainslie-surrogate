{
 "cells": [
  {
   "cell_type": "code",
   "execution_count": 1,
   "metadata": {},
   "outputs": [],
   "source": [
    "import gpytorch\n",
    "import torch\n",
    "from sklearn.gaussian_process import GaussianProcessRegressor\n",
    "from sklearn.gaussian_process.kernels import RBF\n",
    "\n",
    "from utils.data_loaders import get_wake_dataloaders"
   ]
  },
  {
   "cell_type": "code",
   "execution_count": 2,
   "metadata": {},
   "outputs": [
    {
     "name": "stdout",
     "output_type": "stream",
     "text": [
      "DEVICE=device(type='cpu')\n"
     ]
    }
   ],
   "source": [
    "FACTORS_FOLDER = \"discr_factors_x2_30_y-2_2_step0.125_TIstep0.01_CTstep0.01\"\n",
    "DATA_FOLDER = f\"data/{FACTORS_FOLDER}/\"\n",
    "#MODEL_NAME = f\"univariate_GP\" #TODO make the name represent the structure or the parameters of the model\n",
    "#BEST_MODEL_PATH = f\"saved_models/{FACTORS_FOLDER}/{MODEL_NAME}.pt\"\n",
    "CONSIDER_WS = False #TODO\n",
    "COORDS_AS_INPUT = False # multivariate setting\n",
    "\n",
    "DEVICE = torch.device(\"cuda\" if torch.cuda.is_available() else \"cpu\")\n",
    "print(f\"{DEVICE=}\")\n",
    "\n",
    "# hyperparameters\n",
    "EPOCHS = 2 #TODO\n",
    "LR = 0.1\n",
    "BATCH_SIZE = 1"
   ]
  },
  {
   "cell_type": "code",
   "execution_count": 4,
   "metadata": {},
   "outputs": [
    {
     "name": "stdout",
     "output_type": "stream",
     "text": [
      "5160\n",
      "Train shapes:  torch.Size([5160, 2]) torch.Size([36986880])\n",
      "Test shapes:  torch.Size([1720, 2]) torch.Size([12328960])\n",
      "Valid shapes:  torch.Size([1720, 2]) torch.Size([12328960])\n",
      "grid_size=7168\n"
     ]
    }
   ],
   "source": [
    "valid_dataloader = None\n",
    "train_dataloader, valid_dataloader, test_dataloader = get_wake_dataloaders(DATA_FOLDER,\n",
    "                                                          consider_ws=CONSIDER_WS,\n",
    "                                                          coords_as_input=COORDS_AS_INPUT,\n",
    "                                                          train_perc=0.6,\n",
    "                                                          test_perc=0.2,\n",
    "                                                          validation_perc=0.2,\n",
    "                                                          batch_size=BATCH_SIZE)\n",
    "\n",
    "print(len(train_dataloader))\n",
    "\n",
    "train_x, train_y = train_dataloader.dataset.inputs, train_dataloader.dataset.outputs\n",
    "\n",
    "test_x, test_y = test_dataloader.dataset.inputs, test_dataloader.dataset.outputs\n",
    "print(\"Train shapes: \", train_x.shape, train_y.shape)\n",
    "print(\"Test shapes: \", test_x.shape, test_y.shape)\n",
    "\n",
    "if valid_dataloader is not None:\n",
    "    valid_x, valid_y = valid_dataloader.dataset.inputs, valid_dataloader.dataset.outputs\n",
    "    print(\"Valid shapes: \", valid_x.shape, valid_y.shape)\n",
    "\n",
    "grid_size = train_dataloader.dataset.num_cells\n",
    "print(f\"{grid_size=}\")"
   ]
  },
  {
   "cell_type": "code",
   "execution_count": 5,
   "metadata": {},
   "outputs": [
    {
     "name": "stdout",
     "output_type": "stream",
     "text": [
      "torch.Size([71680, 4]) torch.Size([71680])\n"
     ]
    }
   ],
   "source": [
    "\"\"\"\n",
    "REDUCE THE AMOUNT OF DATA\n",
    "num_instances = 10 #TODO\n",
    "train_x= torch.split(train_x, num_instances)[0]#.reshape(num_instances, grid_size, num_features)\n",
    "train_y = torch.split(train_y,num_instances)[0]#.reshape(num_instances, grid_size)\n",
    "print(train_x.shape, train_y.shape)\"\"\""
   ]
  },
  {
   "attachments": {},
   "cell_type": "markdown",
   "metadata": {},
   "source": [
    "# Sklearn"
   ]
  },
  {
   "cell_type": "code",
   "execution_count": 7,
   "metadata": {},
   "outputs": [
    {
     "data": {
      "text/plain": [
       "'\\nToo much data for simple Regressor\\nkernel = RBF(length_scale=1.0)\\ngp = GaussianProcessRegressor(kernel=kernel)\\ngp.fit(train_x, train_y)\\n'"
      ]
     },
     "execution_count": 7,
     "metadata": {},
     "output_type": "execute_result"
    }
   ],
   "source": [
    "kernel = RBF(length_scale=1.0)\n",
    "gp = GaussianProcessRegressor(kernel=kernel)\n",
    "gp.fit(train_x, train_y)"
   ]
  },
  {
   "attachments": {},
   "cell_type": "markdown",
   "metadata": {},
   "source": [
    "# Gpytorch"
   ]
  },
  {
   "cell_type": "code",
   "execution_count": 8,
   "metadata": {},
   "outputs": [],
   "source": [
    "class MultitaskGPModel(gpytorch.models.ExactGP):\n",
    "    def __init__(self, train_x, train_y, likelihood):\n",
    "        super(MultitaskGPModel, self).__init__(train_x, train_y, likelihood)\n",
    "        self.mean_module = gpytorch.means.MultitaskMean(\n",
    "            gpytorch.means.ConstantMean(), num_tasks=grid_size\n",
    "        )\n",
    "        self.covar_module = gpytorch.kernels.MultitaskKernel(\n",
    "            gpytorch.kernels.RBFKernel(), num_tasks=grid_size, rank=1\n",
    "        )\n",
    "\n",
    "    def forward(self, x):\n",
    "        mean_x = self.mean_module(x)\n",
    "        covar_x = self.covar_module(x)\n",
    "        return gpytorch.distributions.MultitaskMultivariateNormal(mean_x, covar_x)\n",
    "\n",
    "\n",
    "likelihood = gpytorch.likelihoods.MultitaskGaussianLikelihood(num_tasks=grid_size)\n",
    "model = MultitaskGPModel(train_x, train_y, likelihood)"
   ]
  },
  {
   "cell_type": "code",
   "execution_count": 9,
   "metadata": {},
   "outputs": [],
   "source": [
    "# Find optimal model hyperparameters\n",
    "model.train()\n",
    "likelihood.train()\n",
    "\n",
    "# Use the adam optimizer\n",
    "optimizer = torch.optim.Adam(model.parameters(), lr=LR)  # Includes GaussianLikelihood parameters\n",
    "\n",
    "# \"Loss\" for GPs - the marginal log likelihood\n",
    "mll = gpytorch.mlls.ExactMarginalLogLikelihood(likelihood, model)\n",
    "\n",
    "for i in range(EPOCHS):\n",
    "    optimizer.zero_grad()\n",
    "    output = model(train_x)\n",
    "    loss = -mll(output, train_y)\n",
    "    loss.backward()\n",
    "    print('Iter %d/%d - Loss: %.3f' % (i + 1, EPOCHS, loss.item()))\n",
    "    optimizer.step()"
   ]
  }
 ],
 "metadata": {
  "kernelspec": {
   "display_name": "Python 3",
   "language": "python",
   "name": "python3"
  },
  "language_info": {
   "codemirror_mode": {
    "name": "ipython",
    "version": 3
   },
   "file_extension": ".py",
   "mimetype": "text/x-python",
   "name": "python",
   "nbconvert_exporter": "python",
   "pygments_lexer": "ipython3",
   "version": "3.10.11"
  },
  "orig_nbformat": 4
 },
 "nbformat": 4,
 "nbformat_minor": 2
}
