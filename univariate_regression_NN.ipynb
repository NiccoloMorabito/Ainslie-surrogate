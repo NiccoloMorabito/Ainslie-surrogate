{
 "cells": [
  {
   "attachments": {},
   "cell_type": "markdown",
   "metadata": {},
   "source": [
    "# Univariate regression to predict the wind speed field"
   ]
  },
  {
   "cell_type": "code",
   "execution_count": 1,
   "metadata": {},
   "outputs": [],
   "source": [
    "import torch\n",
    "import torch.nn as nn\n",
    "import matplotlib.pyplot as plt\n",
    "from sklearn.preprocessing import MinMaxScaler, StandardScaler\n",
    "\n",
    "from data_loaders import get_wake_dataloader"
   ]
  },
  {
   "cell_type": "code",
   "execution_count": 2,
   "metadata": {},
   "outputs": [],
   "source": [
    "DATAFRAME_FILEPATH = \"data/wake_dataframe.csv\"\n",
    "\n",
    "DEVICE = torch.device(\"cuda\" if torch.cuda.is_available() else \"cpu\")\n",
    "torch.manual_seed(0)\n",
    "\n",
    "# hyperparameters\n",
    "BATCH_SIZE = 256\n",
    "EPOCHS = 500\n",
    "LR = 0.0000001"
   ]
  },
  {
   "cell_type": "code",
   "execution_count": 3,
   "metadata": {},
   "outputs": [
    {
     "data": {
      "text/plain": [
       "19872"
      ]
     },
     "execution_count": 3,
     "metadata": {},
     "output_type": "execute_result"
    }
   ],
   "source": [
    "INPUT_VARIABLES = ['x', 'y', 'ws', 'TI', 'ct']\n",
    "OUTPUT_VARIABLES = ['WS_eff', 'TI_eff', 'P']\n",
    "\n",
    "#TODO split in training and test sets\n",
    "train_dataloader = get_wake_dataloader(DATAFRAME_FILEPATH, INPUT_VARIABLES, OUTPUT_VARIABLES, MinMaxScaler(), BATCH_SIZE)\n",
    "len(train_dataloader)"
   ]
  },
  {
   "cell_type": "code",
   "execution_count": null,
   "metadata": {},
   "outputs": [],
   "source": [
    "input_space = len(INPUT_VARIABLES) # or train_dataloader.dataset.x.shape[1]\n",
    "output_space = train_dataloader.dataset.y.shape[1]\n",
    "\n",
    "model = nn.Sequential(\n",
    "    nn.Linear(input_space, 50),\n",
    "    nn.ReLU(),\n",
    "    nn.Linear(50, 250),\n",
    "    nn.ReLU(),\n",
    "    nn.Linear(250, output_space),\n",
    "    nn.ReLU() #TODO?\n",
    ").to(DEVICE)\n",
    "\n",
    "optimizer = torch.optim.Adam(\n",
    "    (p for p in model.parameters() if p.requires_grad), lr=LR\n",
    ")\n",
    "loss_function = torch.nn.MSELoss()\n",
    "model.train()\n",
    "\n",
    "print(\"Starting training\")\n",
    "epoch_to_loss_acc = dict()\n",
    "for epoch in range(EPOCHS):\n",
    "    epoch_loss = 0\n",
    "    epoch_accs = torch.FloatTensor()\n",
    "    for batch in iter(train_dataloader):\n",
    "        #TODO to device in the dataloader\n",
    "        x, y = batch\n",
    "\n",
    "        prediction = model.forward(x)\n",
    "\n",
    "        # loss and step\n",
    "        loss = loss_function(prediction, y)\n",
    "        #optimizer.zero_grad() TODO\n",
    "        loss.backward()\n",
    "        #torch.nn.utils.clip_grad_norm_(model.parameters(), 0.5) TODO\n",
    "        optimizer.step()\n",
    "\n",
    "        epoch_loss += loss.item()\n",
    "\n",
    "        #TODO accuracy or other metric computation\n",
    "\n",
    "    print(f\"{epoch=} -> {epoch_loss=}\")\n",
    "    epoch_to_loss_acc[epoch] = epoch_loss\n",
    "\n",
    "epoch_to_loss_acc"
   ]
  },
  {
   "cell_type": "code",
   "execution_count": null,
   "metadata": {},
   "outputs": [],
   "source": [
    "\"\"\"\n",
    "metrics_df = pd.DataFrame(epoch_to_loss_acc).transpose().reset_index().rename(columns={\"index\": \"Epoch\", 0: \"Loss\", 1: \"Speed avg error in wake prediction\"})\n",
    "metrics_df.plot(x=\"Epoch\", y=\"Loss\")\n",
    "\"\"\""
   ]
  },
  {
   "cell_type": "code",
   "execution_count": null,
   "metadata": {},
   "outputs": [],
   "source": [
    "\"\"\"\n",
    "metrics_df.plot(x=\"Epoch\", y=\"Speed avg error in wake prediction\")\n",
    "\"\"\""
   ]
  }
 ],
 "metadata": {
  "kernelspec": {
   "display_name": "Python 3",
   "language": "python",
   "name": "python3"
  },
  "language_info": {
   "codemirror_mode": {
    "name": "ipython",
    "version": 3
   },
   "file_extension": ".py",
   "mimetype": "text/x-python",
   "name": "python",
   "nbconvert_exporter": "python",
   "pygments_lexer": "ipython3",
   "version": "3.10.9"
  },
  "orig_nbformat": 4
 },
 "nbformat": 4,
 "nbformat_minor": 2
}
