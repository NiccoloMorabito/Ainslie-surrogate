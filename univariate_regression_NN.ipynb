{
 "cells": [
  {
   "cell_type": "code",
   "execution_count": 120,
   "metadata": {},
   "outputs": [],
   "source": [
    "import torch\n",
    "import torch.nn as nn\n",
    "import matplotlib.pyplot as plt\n",
    "\n",
    "from data_loaders import get_univariate_dataloader"
   ]
  },
  {
   "cell_type": "code",
   "execution_count": 121,
   "metadata": {},
   "outputs": [],
   "source": [
    "DATAFRAME_FILEPATH = \"data/wake_dataframe.csv\""
   ]
  },
  {
   "cell_type": "code",
   "execution_count": 122,
   "metadata": {},
   "outputs": [],
   "source": [
    "BATCH_SIZE = 64\n",
    "DEVICE = torch.device(\"cuda\" if torch.cuda.is_available() else \"cpu\")\n",
    "torch.manual_seed(0)\n",
    "\n",
    "EPOCHS = 500\n",
    "\n",
    "INPUT_VARIABLES = 5\n",
    "OUTPUT_VARIABLES = 3"
   ]
  },
  {
   "cell_type": "code",
   "execution_count": 123,
   "metadata": {},
   "outputs": [
    {
     "data": {
      "text/plain": [
       "17280"
      ]
     },
     "execution_count": 123,
     "metadata": {},
     "output_type": "execute_result"
    }
   ],
   "source": [
    "#TODO split in training and test sets\n",
    "\n",
    "train_dataloader = get_univariate_dataloader(DATAFRAME_FILEPATH, OUTPUT_VARIABLES, BATCH_SIZE)\n",
    "#test_dataloader = DataLoader(test_data, batch_size=BATCH_SIZE, shuffle=True)\n",
    "len(train_dataloader)"
   ]
  },
  {
   "attachments": {},
   "cell_type": "markdown",
   "metadata": {},
   "source": [
    "### Multivariate regression to predict the wind speed field"
   ]
  },
  {
   "cell_type": "code",
   "execution_count": null,
   "metadata": {},
   "outputs": [],
   "source": [
    "model = nn.Sequential(\n",
    "    nn.Linear(INPUT_VARIABLES, 50),\n",
    "    nn.ReLU(),\n",
    "    nn.Linear(50, 250),\n",
    "    nn.ReLU(),\n",
    "    nn.Linear(250, OUTPUT_VARIABLES),\n",
    "    nn.ReLU() #TODO?\n",
    ").to(DEVICE)\n",
    "\n",
    "lr = 0.0000001\n",
    "optimizer = torch.optim.Adam(\n",
    "    (p for p in model.parameters() if p.requires_grad), lr=lr\n",
    ")\n",
    "loss_function = torch.nn.MSELoss()\n",
    "model.train()\n",
    "\n",
    "print(\"Starting training\")\n",
    "epoch_to_loss_acc = dict()\n",
    "for epoch in range(EPOCHS):\n",
    "    epoch_loss = 0\n",
    "    epoch_accs = torch.FloatTensor()\n",
    "    for batch in iter(train_dataloader):\n",
    "        #TODO to device in the dataloader\n",
    "        x, y = batch\n",
    "\n",
    "        prediction = model.forward(x)\n",
    "\n",
    "        # loss and step\n",
    "        loss = loss_function(prediction, y)\n",
    "        loss.backward()\n",
    "        #torch.nn.utils.clip_grad_norm_(model.parameters(), 0.5) # TODO\n",
    "        optimizer.step()\n",
    "\n",
    "        epoch_loss += loss.item()\n",
    "\n",
    "        #TODO accuracy or other metric computation\n",
    "\n",
    "    print(f\"{epoch=} -> {epoch_loss=}\")\n",
    "    epoch_to_loss_acc[epoch] = epoch_loss\n",
    "\n",
    "epoch_to_loss_acc"
   ]
  },
  {
   "cell_type": "code",
   "execution_count": null,
   "metadata": {},
   "outputs": [],
   "source": [
    "\"\"\"\n",
    "metrics_df = pd.DataFrame(epoch_to_loss_acc).transpose().reset_index().rename(columns={\"index\": \"Epoch\", 0: \"Loss\", 1: \"Speed avg error in wake prediction\"})\n",
    "metrics_df.plot(x=\"Epoch\", y=\"Loss\")\n",
    "\"\"\""
   ]
  },
  {
   "cell_type": "code",
   "execution_count": null,
   "metadata": {},
   "outputs": [],
   "source": [
    "\"\"\"\n",
    "metrics_df.plot(x=\"Epoch\", y=\"Speed avg error in wake prediction\")\n",
    "\"\"\""
   ]
  }
 ],
 "metadata": {
  "kernelspec": {
   "display_name": "Python 3",
   "language": "python",
   "name": "python3"
  },
  "language_info": {
   "codemirror_mode": {
    "name": "ipython",
    "version": 3
   },
   "file_extension": ".py",
   "mimetype": "text/x-python",
   "name": "python",
   "nbconvert_exporter": "python",
   "pygments_lexer": "ipython3",
   "version": "3.10.9"
  },
  "orig_nbformat": 4
 },
 "nbformat": 4,
 "nbformat_minor": 2
}
