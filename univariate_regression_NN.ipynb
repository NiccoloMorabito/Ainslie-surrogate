{
 "cells": [
  {
   "cell_type": "code",
   "execution_count": 114,
   "metadata": {},
   "outputs": [],
   "source": [
    "import torch\n",
    "import torch.nn as nn\n",
    "from torch.utils.data import Dataset, DataLoader\n",
    "import pandas as pd\n",
    "import matplotlib.pyplot as plt\n",
    "from sklearn.preprocessing import MinMaxScaler"
   ]
  },
  {
   "cell_type": "code",
   "execution_count": 115,
   "metadata": {},
   "outputs": [],
   "source": [
    "DATAFRAME_FILEPATH = \"data/wake_dataframe.csv\""
   ]
  },
  {
   "cell_type": "code",
   "execution_count": 116,
   "metadata": {},
   "outputs": [],
   "source": [
    "BATCH_SIZE = 64\n",
    "DEVICE = torch.device(\"cuda\" if torch.cuda.is_available() else \"cpu\")\n",
    "torch.manual_seed(0)\n",
    "\n",
    "EPOCHS = 500\n",
    "\n",
    "INPUT_VARIABLES = 5\n",
    "OUTPUT_VARIABLES = 3\n",
    "\n",
    "min_max_scaler = MinMaxScaler() # or StandardScaler ?"
   ]
  },
  {
   "cell_type": "code",
   "execution_count": 117,
   "metadata": {},
   "outputs": [],
   "source": [
    "class WakeFieldDataset(Dataset):\n",
    "    def __init__(self, dataframe_csv):\n",
    "        self._dataframe = pd.read_csv(dataframe_csv)\n",
    "        self.x = self._dataframe.iloc[:, :-OUTPUT_VARIABLES]\n",
    "        self.x = torch.FloatTensor(min_max_scaler.fit_transform(self.x))\n",
    "        self.y = self._dataframe.iloc[:, -OUTPUT_VARIABLES:]\n",
    "        self.y = torch.FloatTensor(self.y.values)\n",
    "        assert len(self.x) == len(self.y)\n",
    "    \n",
    "    def __len__(self):\n",
    "        return len(self.x)\n",
    "\n",
    "    def __getitem__(self, idx):\n",
    "        return self.x[idx], self.y[idx]"
   ]
  },
  {
   "cell_type": "code",
   "execution_count": 118,
   "metadata": {},
   "outputs": [
    {
     "data": {
      "text/plain": [
       "(tensor([0.0000, 0.2846, 0.0000, 0.0000, 0.8332]),\n",
       " tensor([9.6202, 0.7610, 3.4080]))"
      ]
     },
     "execution_count": 118,
     "metadata": {},
     "output_type": "execute_result"
    }
   ],
   "source": [
    "ds = WakeFieldDataset(DATAFRAME_FILEPATH)\n",
    "#TODO split in training and test sets\n",
    "\n",
    "train_dataloader = DataLoader(ds, batch_size=BATCH_SIZE, shuffle=True)\n",
    "#test_dataloader = DataLoader(test_data, batch_size=BATCH_SIZE, shuffle=True)\n",
    "len(train_dataloader)\n",
    "ds[0]"
   ]
  },
  {
   "attachments": {},
   "cell_type": "markdown",
   "metadata": {},
   "source": [
    "### Multivariate regression to predict the wind speed field"
   ]
  },
  {
   "cell_type": "code",
   "execution_count": null,
   "metadata": {},
   "outputs": [],
   "source": [
    "model = nn.Sequential(\n",
    "    nn.Linear(INPUT_VARIABLES, 50),\n",
    "    nn.ReLU(),\n",
    "    nn.Linear(50, 250),\n",
    "    nn.ReLU(),\n",
    "    nn.Linear(250, OUTPUT_VARIABLES),\n",
    "    nn.ReLU() #TODO?\n",
    ").to(DEVICE)\n",
    "\n",
    "lr = 0.0000001\n",
    "optimizer = torch.optim.Adam(\n",
    "    (p for p in model.parameters() if p.requires_grad), lr=lr\n",
    ")\n",
    "loss_function = torch.nn.MSELoss()\n",
    "model.train()\n",
    "\n",
    "print(\"Starting training\")\n",
    "epoch_to_loss_acc = dict()\n",
    "for epoch in range(EPOCHS):\n",
    "    epoch_loss = 0\n",
    "    epoch_accs = torch.FloatTensor()\n",
    "    for batch in iter(train_dataloader):\n",
    "        #TODO to device in the dataloader\n",
    "        x, y = batch\n",
    "\n",
    "        prediction = model.forward(x)\n",
    "\n",
    "        # loss and step\n",
    "        loss = loss_function(prediction, y)\n",
    "        loss.backward()\n",
    "        #torch.nn.utils.clip_grad_norm_(model.parameters(), 0.5) # TODO\n",
    "        optimizer.step()\n",
    "\n",
    "        epoch_loss += loss.item()\n",
    "\n",
    "        #TODO accuracy or other metric computation\n",
    "\n",
    "    print(f\"{epoch=} -> {epoch_loss=}\")\n",
    "    epoch_to_loss_acc[epoch] = epoch_loss\n",
    "\n",
    "epoch_to_loss_acc"
   ]
  },
  {
   "cell_type": "code",
   "execution_count": null,
   "metadata": {},
   "outputs": [],
   "source": [
    "\"\"\"\n",
    "metrics_df = pd.DataFrame(epoch_to_loss_acc).transpose().reset_index().rename(columns={\"index\": \"Epoch\", 0: \"Loss\", 1: \"Speed avg error in wake prediction\"})\n",
    "metrics_df.plot(x=\"Epoch\", y=\"Loss\")\n",
    "\"\"\""
   ]
  },
  {
   "cell_type": "code",
   "execution_count": null,
   "metadata": {},
   "outputs": [],
   "source": [
    "\"\"\"\n",
    "metrics_df.plot(x=\"Epoch\", y=\"Speed avg error in wake prediction\")\n",
    "\"\"\""
   ]
  }
 ],
 "metadata": {
  "kernelspec": {
   "display_name": "Python 3",
   "language": "python",
   "name": "python3"
  },
  "language_info": {
   "codemirror_mode": {
    "name": "ipython",
    "version": 3
   },
   "file_extension": ".py",
   "mimetype": "text/x-python",
   "name": "python",
   "nbconvert_exporter": "python",
   "pygments_lexer": "ipython3",
   "version": "3.10.9"
  },
  "orig_nbformat": 4
 },
 "nbformat": 4,
 "nbformat_minor": 2
}
