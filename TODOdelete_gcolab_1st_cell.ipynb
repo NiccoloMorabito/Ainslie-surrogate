{
 "cells": [
  {
   "cell_type": "code",
   "execution_count": null,
   "metadata": {},
   "outputs": [],
   "source": [
    "!cd \"/content/drive/MyDrive/BDMA/Semester4 Thesis/Ainslie-surrogate/\"\n",
    "!pip3 install gpytorch\n",
    "!pip3 install py_wake\n",
    "\n",
    "import sys\n",
    "\n",
    "target_directory = \"/content/drive/MyDrive/BDMA/Semester4 Thesis/Ainslie-surrogate/\"\n",
    "sys.path.append(target_directory)\n",
    "\n",
    "from google.colab import drive\n",
    "drive.mount('/content/drive')"
   ]
  },
  {
   "cell_type": "code",
   "execution_count": null,
   "metadata": {},
   "outputs": [],
   "source": [
    "!python3.10 -m pip freeze >> requirements.txt"
   ]
  }
 ],
 "metadata": {
  "language_info": {
   "name": "python"
  },
  "orig_nbformat": 4
 },
 "nbformat": 4,
 "nbformat_minor": 2
}
