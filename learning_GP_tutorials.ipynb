{
 "cells": [
  {
   "cell_type": "code",
   "execution_count": 14,
   "metadata": {},
   "outputs": [],
   "source": [
    "import math\n",
    "import torch\n",
    "import gpytorch\n",
    "from matplotlib import pyplot as plt"
   ]
  },
  {
   "attachments": {},
   "cell_type": "markdown",
   "metadata": {},
   "source": [
    "# Simple GP regression\n",
    "\n",
    "https://docs.gpytorch.ai/en/latest/examples/01_Exact_GPs/Simple_GP_Regression.html"
   ]
  },
  {
   "cell_type": "code",
   "execution_count": 15,
   "metadata": {},
   "outputs": [
    {
     "name": "stdout",
     "output_type": "stream",
     "text": [
      "torch.Size([100]) torch.Size([100])\n"
     ]
    }
   ],
   "source": [
    "\"\"\"Data generation\"\"\"\n",
    "# Training data is 100 points in [0,1] inclusive regularly spaced\n",
    "train_x = torch.linspace(0, 1, 100)\n",
    "# True function is sin(2*pi*x) with Gaussian noise\n",
    "train_y = torch.sin(train_x * (2 * math.pi)) + torch.randn(train_x.size()) * math.sqrt(0.04)\n",
    "print(train_x.shape, train_y.shape)"
   ]
  },
  {
   "cell_type": "code",
   "execution_count": 16,
   "metadata": {},
   "outputs": [
    {
     "data": {
      "text/plain": [
       "GaussianLikelihood(\n",
       "  (noise_covar): HomoskedasticNoise(\n",
       "    (raw_noise_constraint): GreaterThan(1.000E-04)\n",
       "  )\n",
       ")"
      ]
     },
     "execution_count": 16,
     "metadata": {},
     "output_type": "execute_result"
    }
   ],
   "source": [
    "\"\"\"Model definition\"\"\"\n",
    "# We will use the simplest form of GP model, exact inference\n",
    "class ExactGPModel(gpytorch.models.ExactGP):\n",
    "    def __init__(self, train_x, train_y, likelihood):\n",
    "        super(ExactGPModel, self).__init__(train_x, train_y, likelihood)\n",
    "        self.mean_module = gpytorch.means.ConstantMean()\n",
    "        self.covar_module = gpytorch.kernels.ScaleKernel(gpytorch.kernels.RBFKernel())\n",
    "\n",
    "    def forward(self, x):\n",
    "        mean_x = self.mean_module(x)\n",
    "        covar_x = self.covar_module(x)\n",
    "        return gpytorch.distributions.MultivariateNormal(mean_x, covar_x)\n",
    "\n",
    "# initialize likelihood and model\n",
    "likelihood = gpytorch.likelihoods.GaussianLikelihood()\n",
    "model = ExactGPModel(train_x, train_y, likelihood)\n",
    "# Find optimal model hyperparameters\n",
    "model.train()\n",
    "likelihood.train()"
   ]
  },
  {
   "cell_type": "code",
   "execution_count": 17,
   "metadata": {},
   "outputs": [
    {
     "name": "stdout",
     "output_type": "stream",
     "text": [
      "Iter 1/50 - Loss: 0.938   lengthscale: 0.693   noise: 0.693\n",
      "Iter 2/50 - Loss: 0.907   lengthscale: 0.644   noise: 0.644\n",
      "Iter 3/50 - Loss: 0.873   lengthscale: 0.598   noise: 0.598\n",
      "Iter 4/50 - Loss: 0.836   lengthscale: 0.555   noise: 0.554\n",
      "Iter 5/50 - Loss: 0.794   lengthscale: 0.514   noise: 0.513\n",
      "Iter 6/50 - Loss: 0.747   lengthscale: 0.475   noise: 0.474\n",
      "Iter 7/50 - Loss: 0.697   lengthscale: 0.439   noise: 0.437\n",
      "Iter 8/50 - Loss: 0.645   lengthscale: 0.405   noise: 0.402\n",
      "Iter 9/50 - Loss: 0.596   lengthscale: 0.372   noise: 0.369\n",
      "Iter 10/50 - Loss: 0.550   lengthscale: 0.342   noise: 0.339\n",
      "Iter 11/50 - Loss: 0.509   lengthscale: 0.315   noise: 0.310\n",
      "Iter 12/50 - Loss: 0.471   lengthscale: 0.291   noise: 0.284\n",
      "Iter 13/50 - Loss: 0.435   lengthscale: 0.271   noise: 0.259\n",
      "Iter 14/50 - Loss: 0.401   lengthscale: 0.255   noise: 0.237\n",
      "Iter 15/50 - Loss: 0.368   lengthscale: 0.241   noise: 0.216\n",
      "Iter 16/50 - Loss: 0.335   lengthscale: 0.231   noise: 0.196\n",
      "Iter 17/50 - Loss: 0.303   lengthscale: 0.222   noise: 0.179\n",
      "Iter 18/50 - Loss: 0.270   lengthscale: 0.217   noise: 0.162\n",
      "Iter 19/50 - Loss: 0.239   lengthscale: 0.213   noise: 0.148\n",
      "Iter 20/50 - Loss: 0.208   lengthscale: 0.211   noise: 0.134\n",
      "Iter 21/50 - Loss: 0.177   lengthscale: 0.211   noise: 0.122\n",
      "Iter 22/50 - Loss: 0.148   lengthscale: 0.212   noise: 0.111\n",
      "Iter 23/50 - Loss: 0.119   lengthscale: 0.215   noise: 0.101\n",
      "Iter 24/50 - Loss: 0.092   lengthscale: 0.218   noise: 0.092\n",
      "Iter 25/50 - Loss: 0.067   lengthscale: 0.223   noise: 0.084\n",
      "Iter 26/50 - Loss: 0.045   lengthscale: 0.229   noise: 0.076\n",
      "Iter 27/50 - Loss: 0.024   lengthscale: 0.236   noise: 0.070\n",
      "Iter 28/50 - Loss: 0.007   lengthscale: 0.244   noise: 0.064\n",
      "Iter 29/50 - Loss: -0.008   lengthscale: 0.252   noise: 0.059\n",
      "Iter 30/50 - Loss: -0.019   lengthscale: 0.260   noise: 0.054\n",
      "Iter 31/50 - Loss: -0.027   lengthscale: 0.268   noise: 0.050\n",
      "Iter 32/50 - Loss: -0.032   lengthscale: 0.276   noise: 0.046\n",
      "Iter 33/50 - Loss: -0.033   lengthscale: 0.282   noise: 0.043\n",
      "Iter 34/50 - Loss: -0.033   lengthscale: 0.288   noise: 0.041\n",
      "Iter 35/50 - Loss: -0.030   lengthscale: 0.292   noise: 0.038\n",
      "Iter 36/50 - Loss: -0.027   lengthscale: 0.294   noise: 0.036\n",
      "Iter 37/50 - Loss: -0.023   lengthscale: 0.295   noise: 0.035\n",
      "Iter 38/50 - Loss: -0.019   lengthscale: 0.293   noise: 0.034\n",
      "Iter 39/50 - Loss: -0.016   lengthscale: 0.290   noise: 0.033\n",
      "Iter 40/50 - Loss: -0.014   lengthscale: 0.285   noise: 0.032\n",
      "Iter 41/50 - Loss: -0.013   lengthscale: 0.279   noise: 0.032\n",
      "Iter 42/50 - Loss: -0.013   lengthscale: 0.273   noise: 0.031\n",
      "Iter 43/50 - Loss: -0.014   lengthscale: 0.267   noise: 0.031\n",
      "Iter 44/50 - Loss: -0.015   lengthscale: 0.260   noise: 0.032\n",
      "Iter 45/50 - Loss: -0.017   lengthscale: 0.254   noise: 0.032\n",
      "Iter 46/50 - Loss: -0.019   lengthscale: 0.249   noise: 0.032\n",
      "Iter 47/50 - Loss: -0.022   lengthscale: 0.244   noise: 0.033\n",
      "Iter 48/50 - Loss: -0.024   lengthscale: 0.240   noise: 0.034\n",
      "Iter 49/50 - Loss: -0.026   lengthscale: 0.237   noise: 0.035\n",
      "Iter 50/50 - Loss: -0.029   lengthscale: 0.236   noise: 0.036\n"
     ]
    }
   ],
   "source": [
    "training_iter = 50\n",
    "\n",
    "# Use the adam optimizer\n",
    "optimizer = torch.optim.Adam(model.parameters(), lr=0.1)  # Includes GaussianLikelihood parameters\n",
    "\n",
    "# \"Loss\" for GPs - the marginal log likelihood\n",
    "mll = gpytorch.mlls.ExactMarginalLogLikelihood(likelihood, model)\n",
    "\n",
    "for i in range(training_iter):\n",
    "    # Zero gradients from previous iteration\n",
    "    optimizer.zero_grad()\n",
    "    # Output from model\n",
    "    output = model(train_x)\n",
    "    # Calc loss and backprop gradients\n",
    "    loss = -mll(output, train_y)\n",
    "    loss.backward()\n",
    "    print('Iter %d/%d - Loss: %.3f   lengthscale: %.3f   noise: %.3f' % (\n",
    "        i + 1, training_iter, loss.item(),\n",
    "        model.covar_module.base_kernel.lengthscale.item(),\n",
    "        model.likelihood.noise.item()\n",
    "    ))\n",
    "    optimizer.step()"
   ]
  },
  {
   "attachments": {},
   "cell_type": "markdown",
   "metadata": {},
   "source": [
    "# Multitask GP regression\n",
    "\n",
    "https://docs.gpytorch.ai/en/latest/examples/03_Multitask_Exact_GPs/Multitask_GP_Regression.html"
   ]
  },
  {
   "cell_type": "code",
   "execution_count": 18,
   "metadata": {},
   "outputs": [
    {
     "name": "stdout",
     "output_type": "stream",
     "text": [
      "torch.Size([100]) torch.Size([100, 2])\n"
     ]
    }
   ],
   "source": [
    "\"\"\"Data generation\"\"\"\n",
    "train_x = torch.linspace(0, 1, 100)\n",
    "\n",
    "train_y = torch.stack([\n",
    "    torch.sin(train_x * (2 * math.pi)) + torch.randn(train_x.size()) * 0.2,\n",
    "    torch.cos(train_x * (2 * math.pi)) + torch.randn(train_x.size()) * 0.2,\n",
    "], -1)\n",
    "print(train_x.shape, train_y.shape)"
   ]
  },
  {
   "cell_type": "code",
   "execution_count": 19,
   "metadata": {},
   "outputs": [
    {
     "name": "stdout",
     "output_type": "stream",
     "text": [
      "torch.Size([6233, 250, 3]) torch.Size([6233, 250, 5120])\n"
     ]
    }
   ],
   "source": [
    "\"\"\"Data loading\"\"\"\n",
    "INPUT_TENSORS_FILEPATH = \"data/input_tensors.pt\"\n",
    "WS_OUTPUT_TENSORS_FILEPATH = \"data/WS_output_tensors.pt\"\n",
    "\n",
    "train_x = torch.stack(torch.load(INPUT_TENSORS_FILEPATH)).float()\n",
    "train_y = torch.stack(torch.load(WS_OUTPUT_TENSORS_FILEPATH)).float()\n",
    "index_x = train_x.multinomial(num_samples=250, replacement=True)\n",
    "index_y = train_y.multinomial(num_samples=250, replacement=True)\n",
    "train_x = train_x[index_x]\n",
    "train_y = train_y[index_y]\n",
    "\n",
    "#train_x = train_x[:250, :] #TODO reducing the training data size\n",
    "#train_y = train_y[:250, :] #TODO reducing the training data size\n",
    "print(train_x.shape, train_y.shape)"
   ]
  },
  {
   "cell_type": "code",
   "execution_count": 20,
   "metadata": {},
   "outputs": [
    {
     "name": "stdout",
     "output_type": "stream",
     "text": [
      "250\n"
     ]
    },
    {
     "data": {
      "text/plain": [
       "MultitaskGaussianLikelihood(\n",
       "  (raw_task_noises_constraint): GreaterThan(1.000E-04)\n",
       "  (raw_noise_constraint): GreaterThan(1.000E-04)\n",
       ")"
      ]
     },
     "execution_count": 20,
     "metadata": {},
     "output_type": "execute_result"
    }
   ],
   "source": [
    "NUM_TASKS = train_y.shape[1]\n",
    "print(NUM_TASKS)\n",
    "\n",
    "class MultitaskGPModel(gpytorch.models.ExactGP):\n",
    "    def __init__(self, train_x, train_y, likelihood):\n",
    "        super(MultitaskGPModel, self).__init__(train_x, train_y, likelihood)\n",
    "        self.mean_module = gpytorch.means.MultitaskMean(\n",
    "            gpytorch.means.ConstantMean(), num_tasks=NUM_TASKS\n",
    "        )\n",
    "        self.covar_module = gpytorch.kernels.MultitaskKernel(\n",
    "            gpytorch.kernels.RBFKernel(), num_tasks=NUM_TASKS, rank=1\n",
    "        )\n",
    "\n",
    "    def forward(self, x):\n",
    "        mean_x = self.mean_module(x)\n",
    "        covar_x = self.covar_module(x)\n",
    "        return gpytorch.distributions.MultitaskMultivariateNormal(mean_x, covar_x)\n",
    "\n",
    "\n",
    "likelihood = gpytorch.likelihoods.MultitaskGaussianLikelihood(num_tasks=NUM_TASKS)\n",
    "model = MultitaskGPModel(train_x, train_y, likelihood)\n",
    "# Find optimal model hyperparameters\n",
    "model.train()\n",
    "likelihood.train()"
   ]
  },
  {
   "cell_type": "code",
   "execution_count": 21,
   "metadata": {},
   "outputs": [],
   "source": [
    "# Use the adam optimizer\n",
    "optimizer = torch.optim.Adam(model.parameters(), lr=0.1)  # Includes GaussianLikelihood parameters\n",
    "\n",
    "# \"Loss\" for GPs - the marginal log likelihood\n",
    "mll = gpytorch.mlls.ExactMarginalLogLikelihood(likelihood, model)\n",
    "\n",
    "for i in range(training_iter):\n",
    "    optimizer.zero_grad()\n",
    "    output = model(train_x)\n",
    "    loss = -mll(output, train_y) \n",
    "    loss.backward()\n",
    "    print('Iter %d/%d - Loss: %.3f' % (i + 1, training_iter, loss.item()))\n",
    "    optimizer.step()\n"
   ]
  }
 ],
 "metadata": {
  "kernelspec": {
   "display_name": "Python 3",
   "language": "python",
   "name": "python3"
  },
  "language_info": {
   "codemirror_mode": {
    "name": "ipython",
    "version": 3
   },
   "file_extension": ".py",
   "mimetype": "text/x-python",
   "name": "python",
   "nbconvert_exporter": "python",
   "pygments_lexer": "ipython3",
   "version": "3.10.9"
  },
  "orig_nbformat": 4
 },
 "nbformat": 4,
 "nbformat_minor": 2
}
