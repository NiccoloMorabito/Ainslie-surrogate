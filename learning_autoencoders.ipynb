{
 "cells": [
  {
   "attachments": {},
   "cell_type": "markdown",
   "metadata": {},
   "source": [
    "The idea is to implement here an architecture similar to the one developed in \"Datadriven wind turbine wake modeling via probabilistic Machine Learning\":\n",
    "- autoencoder trained on the output wake field\n",
    "- MLP from input to latent space which is then plugged to the trained decoder to obtain the actual desired output"
   ]
  },
  {
   "cell_type": "code",
   "execution_count": 7,
   "metadata": {},
   "outputs": [],
   "source": [
    "import torch.nn as nn\n",
    "import pandas as pd\n",
    "import numpy as np\n",
    "import torch\n",
    "from collections import defaultdict\n",
    "import time\n",
    "import matplotlib.pyplot as plt\n",
    "#import seaborn as sns\n",
    "from datetime import timedelta\n",
    "\n",
    "from sklearn.preprocessing import MinMaxScaler, StandardScaler\n",
    "from data_loaders import get_wake_dataloaders"
   ]
  },
  {
   "cell_type": "code",
   "execution_count": 8,
   "metadata": {},
   "outputs": [],
   "source": [
    "DATAFRAME_FILEPATH = \"data/discr_factors_x2_50_y-1_1_step0.125/\"\n",
    "\n",
    "DEVICE = torch.device(\"cuda\" if torch.cuda.is_available() else \"cpu\")\n",
    "torch.manual_seed(0)\n",
    "\n",
    "# hyperparameters\n",
    "BATCH_SIZE = 2\n",
    "LR = 1e-2\n",
    "WD = 1e-5 # weight decay\n",
    "EPOCHS = 10\n",
    "\n",
    "BOTTLENECK_SPACE = 5"
   ]
  },
  {
   "cell_type": "code",
   "execution_count": 10,
   "metadata": {},
   "outputs": [
    {
     "data": {
      "text/plain": [
       "5283840"
      ]
     },
     "execution_count": 10,
     "metadata": {},
     "output_type": "execute_result"
    }
   ],
   "source": [
    "train_dataloader, test_dataloader = get_wake_dataloaders(DATAFRAME_FILEPATH,\n",
    "                                                          consider_ws=False,\n",
    "                                                          coords_as_input=True,\n",
    "                                                          train_perc=0.8,\n",
    "                                                          test_perc=0.2,\n",
    "                                                          batch_size=BATCH_SIZE)\n",
    "len(train_dataloader)"
   ]
  },
  {
   "cell_type": "code",
   "execution_count": 11,
   "metadata": {},
   "outputs": [],
   "source": [
    "class AutoEncoder(nn.Module):\n",
    "\n",
    "    def __init__(self, field_shape: int):\n",
    "        super(AutoEncoder, self).__init__()\n",
    "        self.field_shape = field_shape\n",
    "        \n",
    "        self.encoder = nn.Sequential(\n",
    "            nn.Flatten(start_dim=1),\n",
    "            nn.Linear(field_shape[0] * field_shape[1], 512),\n",
    "            nn.ReLU(),\n",
    "            nn.Linear(512, 256),\n",
    "            nn.ReLU(),\n",
    "            nn.Linear(256, 128),\n",
    "            nn.ReLU(),\n",
    "            nn.Linear(128, 64),\n",
    "            nn.ReLU(),\n",
    "            nn.Linear(64, 32),\n",
    "            nn.ReLU(),\n",
    "            nn.Linear(32, 16),\n",
    "            nn.ReLU(),\n",
    "            nn.Linear(16, BOTTLENECK_SPACE),\n",
    "            nn.ReLU(),\n",
    "        )\n",
    "        self.decoder = nn.Sequential(\n",
    "            nn.Linear(BOTTLENECK_SPACE, 16),\n",
    "            nn.ReLU(),\n",
    "            nn.Linear(16, 32),\n",
    "            nn.ReLU(),\n",
    "            nn.Linear(32, 64),\n",
    "            nn.ReLU(),\n",
    "            nn.Linear(64, 128),\n",
    "            nn.ReLU(),\n",
    "            nn.Linear(128, 256),\n",
    "            nn.ReLU(),\n",
    "            nn.Linear(256, 512),\n",
    "            nn.ReLU(),\n",
    "            nn.Linear(512, field_shape[0] * field_shape[1]),\n",
    "            nn.ReLU(),\n",
    "            nn.Unflatten(dim=1, unflattened_size=(field_shape[0], field_shape[1]))\n",
    "        )\n",
    "    \n",
    "    def forward(self, x):\n",
    "        encode = self.encoder(x)\n",
    "        decode = self.decoder(encode)\n",
    "        return decode\n",
    "    "
   ]
  },
  {
   "attachments": {},
   "cell_type": "markdown",
   "metadata": {},
   "source": [
    "Link for Convolutional Autoencoder https://medium.com/dataseries/convolutional-autoencoder-in-pytorch-on-mnist-dataset-d65145c132ac"
   ]
  },
  {
   "cell_type": "code",
   "execution_count": 12,
   "metadata": {},
   "outputs": [],
   "source": [
    "class UnsqueezeForChannel(nn.Module): #TODO\n",
    "    def __init__(self):\n",
    "        super(UnsqueezeForChannel, self).__init__()\n",
    "    \n",
    "    def forward(self, x):\n",
    "        x = torch.unsqueeze(x, 1)\n",
    "        return x\n",
    "\n",
    "class SqueezeForChannel(nn.Module): #TODO\n",
    "    def __init__(self):\n",
    "        super(SqueezeForChannel, self).__init__()\n",
    "    \n",
    "    def forward(self, x):\n",
    "        x = torch.squeeze(x, 1)\n",
    "        return x\n",
    "\n",
    "#TODO delete\n",
    "class PrintLayer(nn.Module):\n",
    "    def __init__(self):\n",
    "        super(PrintLayer, self).__init__()\n",
    "    \n",
    "    def forward(self, x):\n",
    "        print(x.shape)\n",
    "        return x\n",
    "\n",
    "class ConvEncoder(nn.Module):\n",
    "    \n",
    "    def __init__(self, encoded_space_dim):\n",
    "        super().__init__()\n",
    "        \n",
    "        ### Convolutional section\n",
    "        self.encoder_cnn = nn.Sequential(\n",
    "            UnsqueezeForChannel(),\n",
    "            #PrintLayer(), # shape here: [N, C_in, H, W] = [batch_size, 1, H, W]\n",
    "            # TODO change parameters of convolutional layers according also to the final grid shape\n",
    "            nn.Conv2d(1, 8, 3, stride=2, padding=1),\n",
    "            #PrintLayer(),\n",
    "            nn.ReLU(True),\n",
    "            nn.Conv2d(8, 16, 3, stride=2, padding=1),\n",
    "            #PrintLayer(),\n",
    "            nn.BatchNorm2d(16),\n",
    "            nn.ReLU(True),\n",
    "            #PrintLayer(),\n",
    "            nn.Conv2d(16, 32, 3, stride=2, padding=1),\n",
    "            nn.ReLU(True),\n",
    "            #PrintLayer()\n",
    "        )\n",
    "        ### Flatten layer\n",
    "        self.flatten = nn.Flatten(start_dim=1)\n",
    "        ### Linear section\n",
    "        self.encoder_lin = nn.Sequential(\n",
    "            nn.Linear(32 * 24 * 1, 128), #TODO change first argument according to the shape of the resulting tensor\n",
    "            nn.ReLU(True),\n",
    "            nn.Linear(128, encoded_space_dim)\n",
    "        )\n",
    "        \n",
    "    def forward(self, x):\n",
    "        x = self.encoder_cnn(x)\n",
    "        x = self.flatten(x)\n",
    "        x = self.encoder_lin(x)\n",
    "        return x\n",
    "\n",
    "class ConvDecoder(nn.Module):\n",
    "    \n",
    "    def __init__(self, encoded_space_dim):\n",
    "        super().__init__()\n",
    "        self.decoder_lin = nn.Sequential(\n",
    "            nn.Linear(encoded_space_dim, 128),\n",
    "            nn.ReLU(True),\n",
    "            nn.Linear(128, 32 * 24 * 1), #TODO the second argument here must be the same of encoder_lin 2\n",
    "            nn.ReLU(True)\n",
    "        )\n",
    "\n",
    "        self.unflatten = nn.Unflatten(dim=1, unflattened_size=(32, 24, 1)) #TODO the same as before?\n",
    "\n",
    "        self.decoder_conv = nn.Sequential(\n",
    "            nn.ConvTranspose2d(32, 16, 3, stride=2, padding=1, output_padding=1),\n",
    "            nn.BatchNorm2d(16),\n",
    "            nn.ReLU(True),\n",
    "            nn.ConvTranspose2d(16, 8, 3, stride=2, padding=1, output_padding=1),\n",
    "            nn.BatchNorm2d(8),\n",
    "            nn.ReLU(True),\n",
    "            nn.ConvTranspose2d(8, 1, 3, stride=2, padding=1, output_padding=1),\n",
    "            SqueezeForChannel()\n",
    "        )\n",
    "        \n",
    "    def forward(self, x):\n",
    "        x = self.decoder_lin(x)\n",
    "        x = self.unflatten(x)\n",
    "        x = self.decoder_conv(x)\n",
    "        x = torch.sigmoid(x)\n",
    "        return x\n",
    "\n",
    "class ConvAutoEncoder(nn.Module):\n",
    "    def __init__(self, encoded_space_dim) -> None:\n",
    "        super().__init__() \n",
    "        self.encoder = ConvEncoder(encoded_space_dim)\n",
    "        self.decoder = ConvDecoder(encoded_space_dim)\n",
    "    \n",
    "    def forward(self, x):\n",
    "        encode = self.encoder(x)\n",
    "        decode = self.decoder(encode)\n",
    "        return decode"
   ]
  },
  {
   "cell_type": "code",
   "execution_count": 15,
   "metadata": {},
   "outputs": [
    {
     "name": "stdout",
     "output_type": "stream",
     "text": [
      "field_shape=torch.Size([1])\n"
     ]
    },
    {
     "ename": "IndexError",
     "evalue": "tuple index out of range",
     "output_type": "error",
     "traceback": [
      "\u001b[0;31m---------------------------------------------------------------------------\u001b[0m",
      "\u001b[0;31mIndexError\u001b[0m                                Traceback (most recent call last)",
      "Cell \u001b[0;32mIn[15], line 5\u001b[0m\n\u001b[1;32m      2\u001b[0m \u001b[39mprint\u001b[39m(\u001b[39mf\u001b[39m\u001b[39m\"\u001b[39m\u001b[39m{\u001b[39;00mfield_shape\u001b[39m=}\u001b[39;00m\u001b[39m\"\u001b[39m)\n\u001b[1;32m      4\u001b[0m \u001b[39m# standard autoencoder\u001b[39;00m\n\u001b[0;32m----> 5\u001b[0m autoencoder \u001b[39m=\u001b[39m AutoEncoder(field_shape)\u001b[39m.\u001b[39mto(DEVICE)\n\u001b[1;32m      6\u001b[0m \u001b[39m# convolutional autoencoder\u001b[39;00m\n\u001b[1;32m      7\u001b[0m \u001b[39m#autoencoder = ConvAutoEncoder(BOTTLENECK_SPACE)\u001b[39;00m\n\u001b[1;32m      8\u001b[0m criterion \u001b[39m=\u001b[39m nn\u001b[39m.\u001b[39mMSELoss(reduction\u001b[39m=\u001b[39m\u001b[39m'\u001b[39m\u001b[39mmean\u001b[39m\u001b[39m'\u001b[39m)\n",
      "Cell \u001b[0;32mIn[11], line 9\u001b[0m, in \u001b[0;36mAutoEncoder.__init__\u001b[0;34m(self, field_shape)\u001b[0m\n\u001b[1;32m      4\u001b[0m \u001b[39msuper\u001b[39m(AutoEncoder, \u001b[39mself\u001b[39m)\u001b[39m.\u001b[39m\u001b[39m__init__\u001b[39m()\n\u001b[1;32m      5\u001b[0m \u001b[39mself\u001b[39m\u001b[39m.\u001b[39mfield_shape \u001b[39m=\u001b[39m field_shape\n\u001b[1;32m      7\u001b[0m \u001b[39mself\u001b[39m\u001b[39m.\u001b[39mencoder \u001b[39m=\u001b[39m nn\u001b[39m.\u001b[39mSequential(\n\u001b[1;32m      8\u001b[0m     nn\u001b[39m.\u001b[39mFlatten(start_dim\u001b[39m=\u001b[39m\u001b[39m1\u001b[39m),\n\u001b[0;32m----> 9\u001b[0m     nn\u001b[39m.\u001b[39mLinear(field_shape[\u001b[39m0\u001b[39m] \u001b[39m*\u001b[39m field_shape[\u001b[39m1\u001b[39;49m], \u001b[39m512\u001b[39m),\n\u001b[1;32m     10\u001b[0m     nn\u001b[39m.\u001b[39mReLU(),\n\u001b[1;32m     11\u001b[0m     nn\u001b[39m.\u001b[39mLinear(\u001b[39m512\u001b[39m, \u001b[39m256\u001b[39m),\n\u001b[1;32m     12\u001b[0m     nn\u001b[39m.\u001b[39mReLU(),\n\u001b[1;32m     13\u001b[0m     nn\u001b[39m.\u001b[39mLinear(\u001b[39m256\u001b[39m, \u001b[39m128\u001b[39m),\n\u001b[1;32m     14\u001b[0m     nn\u001b[39m.\u001b[39mReLU(),\n\u001b[1;32m     15\u001b[0m     nn\u001b[39m.\u001b[39mLinear(\u001b[39m128\u001b[39m, \u001b[39m64\u001b[39m),\n\u001b[1;32m     16\u001b[0m     nn\u001b[39m.\u001b[39mReLU(),\n\u001b[1;32m     17\u001b[0m     nn\u001b[39m.\u001b[39mLinear(\u001b[39m64\u001b[39m, \u001b[39m32\u001b[39m),\n\u001b[1;32m     18\u001b[0m     nn\u001b[39m.\u001b[39mReLU(),\n\u001b[1;32m     19\u001b[0m     nn\u001b[39m.\u001b[39mLinear(\u001b[39m32\u001b[39m, \u001b[39m16\u001b[39m),\n\u001b[1;32m     20\u001b[0m     nn\u001b[39m.\u001b[39mReLU(),\n\u001b[1;32m     21\u001b[0m     nn\u001b[39m.\u001b[39mLinear(\u001b[39m16\u001b[39m, BOTTLENECK_SPACE),\n\u001b[1;32m     22\u001b[0m     nn\u001b[39m.\u001b[39mReLU(),\n\u001b[1;32m     23\u001b[0m )\n\u001b[1;32m     24\u001b[0m \u001b[39mself\u001b[39m\u001b[39m.\u001b[39mdecoder \u001b[39m=\u001b[39m nn\u001b[39m.\u001b[39mSequential(\n\u001b[1;32m     25\u001b[0m     nn\u001b[39m.\u001b[39mLinear(BOTTLENECK_SPACE, \u001b[39m16\u001b[39m),\n\u001b[1;32m     26\u001b[0m     nn\u001b[39m.\u001b[39mReLU(),\n\u001b[0;32m   (...)\u001b[0m\n\u001b[1;32m     39\u001b[0m     nn\u001b[39m.\u001b[39mUnflatten(dim\u001b[39m=\u001b[39m\u001b[39m1\u001b[39m, unflattened_size\u001b[39m=\u001b[39m(field_shape[\u001b[39m0\u001b[39m], field_shape[\u001b[39m1\u001b[39m]))\n\u001b[1;32m     40\u001b[0m )\n",
      "\u001b[0;31mIndexError\u001b[0m: tuple index out of range"
     ]
    }
   ],
   "source": [
    "field_shape = train_dataloader.dataset.y.shape[1:]\n",
    "print(f\"{field_shape=}\")\n",
    "\n",
    "# standard autoencoder\n",
    "autoencoder = AutoEncoder(field_shape).to(DEVICE)\n",
    "# convolutional autoencoder\n",
    "#autoencoder = ConvAutoEncoder(BOTTLENECK_SPACE)\n",
    "criterion = nn.MSELoss(reduction='mean')\n",
    "optimizer = torch.optim.SGD(autoencoder.parameters(), lr=LR)#, weight_decay=WD)\n",
    "\n",
    "# train model\n",
    "metrics = defaultdict(list)\n",
    "outlier_loss = []\n",
    "outlier_results = []\n",
    "\n",
    "autoencoder.train()\n",
    "\n",
    "start = time.time()\n",
    "for epoch in range(EPOCHS):\n",
    "    ep_start = time.time()\n",
    "    running_loss = 0.0\n",
    "\n",
    "    for batch in iter(train_dataloader):\n",
    "        wake_field = batch[1].to(DEVICE) # only considering the wake field (not the input variables)\n",
    "        reconstructed_wake_field = autoencoder(wake_field)\n",
    "        loss = criterion(wake_field, reconstructed_wake_field)\n",
    "\n",
    "        outlier_loss.append(loss.item())\n",
    "        \n",
    "        optimizer.zero_grad()\n",
    "        loss.backward()\n",
    "        optimizer.step()\n",
    "\n",
    "        running_loss += loss.item()\n",
    "        \n",
    "    epoch_loss = running_loss/len(train_dataloader.dataset) #TODO\n",
    "    metrics['train_loss'].append(epoch_loss)\n",
    "    ep_end = time.time()\n",
    "\n",
    "    #print('-----------------------------------------------')\n",
    "    print(f\"{epoch=}/{EPOCHS}\\t->Loss: {epoch_loss}\")\n",
    "    #print('\\tEpoch Complete in {}'.format(timedelta(seconds=ep_end-ep_start)))\n",
    "\n",
    "end = time.time()\n",
    "print('-----------------------------------------------')\n",
    "print('[System Complete: {}]'.format(timedelta(seconds=end-start)))"
   ]
  },
  {
   "cell_type": "code",
   "execution_count": null,
   "metadata": {},
   "outputs": [
    {
     "data": {
      "text/plain": [
       "[<matplotlib.lines.Line2D at 0x176a4f010>]"
      ]
     },
     "execution_count": 10,
     "metadata": {},
     "output_type": "execute_result"
    },
    {
     "data": {
      "image/png": "[encoded data removed]",
      "text/plain": [
       "<Figure size 1000x500 with 1 Axes>"
      ]
     },
     "metadata": {},
     "output_type": "display_data"
    }
   ],
   "source": [
    "_, ax = plt.subplots(1,1,figsize=(10,5))\n",
    "ax.set_title('Loss')\n",
    "ax.plot(outlier_loss)"
   ]
  },
  {
   "attachments": {},
   "cell_type": "markdown",
   "metadata": {},
   "source": [
    "# Second part: MLP from input to latent space which is then plugged to the decoder\n",
    "\n",
    "For the training of this second part, there are two main options:\n",
    "- to calculate the loss as the final difference between the reconstructed output and the ground truth output -> it may be unfair because it would evaluate also the capacity of the decoder to reconstruct the field from the latent space\n",
    "- to calculate the loss on the latent space (output of this model and the output of the previously-trained encoder) -> it may be uncorrect because it would learn from the ground truth but from a latent space that is obtained from the trained encoder"
   ]
  },
  {
   "cell_type": "code",
   "execution_count": null,
   "metadata": {},
   "outputs": [
    {
     "name": "stdout",
     "output_type": "stream",
     "text": [
      "Starting training\n",
      "epoch=0 -> epoch_loss=1.0820805430412292\n",
      "epoch=1 -> epoch_loss=1.104063667356968\n",
      "epoch=2 -> epoch_loss=1.0685909502208233\n",
      "epoch=3 -> epoch_loss=1.0685909502208233\n",
      "epoch=4 -> epoch_loss=1.0685909502208233\n",
      "epoch=5 -> epoch_loss=1.1070115491747856\n",
      "epoch=6 -> epoch_loss=1.0685909502208233\n",
      "epoch=7 -> epoch_loss=1.0685909502208233\n",
      "epoch=8 -> epoch_loss=1.0685909502208233\n",
      "epoch=9 -> epoch_loss=1.0685909502208233\n"
     ]
    },
    {
     "data": {
      "text/plain": [
       "{0: 1.0820805430412292,\n",
       " 1: 1.104063667356968,\n",
       " 2: 1.0685909502208233,\n",
       " 3: 1.0685909502208233,\n",
       " 4: 1.0685909502208233,\n",
       " 5: 1.1070115491747856,\n",
       " 6: 1.0685909502208233,\n",
       " 7: 1.0685909502208233,\n",
       " 8: 1.0685909502208233,\n",
       " 9: 1.0685909502208233}"
      ]
     },
     "execution_count": 12,
     "metadata": {},
     "output_type": "execute_result"
    }
   ],
   "source": [
    "input_space = len(INPUT_VARIABLES)\n",
    "\n",
    "model = nn.Sequential(\n",
    "    nn.Linear(input_space, 15),\n",
    "    nn.ReLU(),\n",
    "    nn.Linear(15, 50),\n",
    "    nn.ReLU(),\n",
    "    nn.Linear(50, BOTTLENECK_SPACE),\n",
    "    nn.ReLU() #TODO?\n",
    ").to(DEVICE)\n",
    "\n",
    "\n",
    "\n",
    "optimizer = torch.optim.Adam(\n",
    "    (p for p in model.parameters() if p.requires_grad), lr=LR\n",
    ")\n",
    "loss_function = torch.nn.MSELoss() #TODO change\n",
    "\n",
    "model.train()\n",
    "autoencoder.eval()\n",
    "\n",
    "print(\"Starting training\")\n",
    "epoch_to_loss_acc = dict()\n",
    "for epoch in range(EPOCHS):\n",
    "    epoch_loss = 0\n",
    "    epoch_accs = torch.FloatTensor()\n",
    "    for batch in iter(train_dataloader):\n",
    "        x, y = batch[0].to(DEVICE), batch[1].to(DEVICE)\n",
    "\n",
    "        bottleneck_pred = model.forward(x)\n",
    "        bottleneck_truth = autoencoder.encoder(y)\n",
    "\n",
    "        # loss and step\n",
    "        loss = loss_function(bottleneck_pred, bottleneck_truth)\n",
    "        #optimizer.zero_grad() TODO\n",
    "        loss.backward()\n",
    "        #torch.nn.utils.clip_grad_norm_(model.parameters(), 0.5) TODO\n",
    "        optimizer.step()\n",
    "\n",
    "        epoch_loss += loss.item()\n",
    "\n",
    "        #TODO accuracy or other metric computation\n",
    "\n",
    "    print(f\"{epoch=} -> {epoch_loss=}\")\n",
    "    epoch_to_loss_acc[epoch] = epoch_loss\n",
    "\n",
    "epoch_to_loss_acc"
   ]
  }
 ],
 "metadata": {
  "kernelspec": {
   "display_name": "OWRI",
   "language": "python",
   "name": "python3"
  },
  "language_info": {
   "codemirror_mode": {
    "name": "ipython",
    "version": 3
   },
   "file_extension": ".py",
   "mimetype": "text/x-python",
   "name": "python",
   "nbconvert_exporter": "python",
   "pygments_lexer": "ipython3",
   "version": "3.10.9"
  },
  "orig_nbformat": 4
 },
 "nbformat": 4,
 "nbformat_minor": 2
}
