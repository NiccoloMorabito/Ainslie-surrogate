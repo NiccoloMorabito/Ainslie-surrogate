{
 "cells": [
  {
   "cell_type": "code",
   "execution_count": 25,
   "metadata": {},
   "outputs": [],
   "source": [
    "import numpy as np\n",
    "import torch\n",
    "import matplotlib.pyplot as plt\n",
    "import xarray as xr\n",
    "import pandas as pd\n",
    "\n",
    "import itertools\n",
    "\n",
    "from py_wake.deficit_models import EddyViscosityDeficitModel, EddyViscosityModel\n",
    "from py_wake import HorizontalGrid\n",
    "\n",
    "# turbines and sites\n",
    "from py_wake.site import XRSite, UniformWeibullSite\n",
    "from py_wake.site._site import Site\n",
    "from py_wake.site.shear import PowerShear\n",
    "from py_wake.wind_turbines import WindTurbine\n",
    "from py_wake.examples.data.hornsrev1 import Hornsrev1Site, V80\n",
    "from py_wake.examples.data.iea37 import IEA37Site, IEA37_WindTurbines\n",
    "from py_wake.examples.data.ParqueFicticio import ParqueFicticioSite\n",
    "from py_wake.examples.data.dtu10mw import DTU10MW\n",
    "\n",
    "from py_wake.wind_farm_models.wind_farm_model import SimulationResult\n",
    "from py_wake.wind_turbines import WindTurbine, WindTurbines\n",
    "from py_wake.wind_turbines.power_ct_functions import PowerCtTabular"
   ]
  },
  {
   "cell_type": "code",
   "execution_count": 38,
   "metadata": {},
   "outputs": [],
   "source": [
    "INPUT_TENSORS_FILEPATH = \"data/input_tensors.pt\"\n",
    "WS_OUTPUT_TENSORS_FILEPATH = \"data/WS_output_tensors.pt\"\n",
    "TI_OUTPUT_TENSORS_FILEPATH = \"data/TI_output_tensors.pt\"\n",
    "\n",
    "DATAFRAME_FILEPATH = \"data/wake_dataframe.csv\""
   ]
  },
  {
   "attachments": {},
   "cell_type": "markdown",
   "metadata": {},
   "source": [
    "# Preparation of the parameters for the data generation"
   ]
  },
  {
   "attachments": {},
   "cell_type": "markdown",
   "metadata": {},
   "source": [
    "## Site (to set turbulence intensity TI and...?)\n",
    "For a given position, reference wind speed (WSref) and wind direction (WDref), Site provides the local wind condition in terms of wind speed (WS), wind direction (WD), turbulence intensity (TI) and the probability of each combination of wind direction and wind speed. Furthermore, Site is responsible for calculating the down-wind, cross-wind and vertical distance between wind turbines (which in non-flat terrain is different from the straight-line distances)."
   ]
  },
  {
   "cell_type": "code",
   "execution_count": 27,
   "metadata": {},
   "outputs": [],
   "source": [
    "# TODO decide what site to use (custom or predefined) and see how to set other parameters (P, shear, dataset, etc. etc.)\n",
    "def get_sites(turbulence_intensity : float) -> list[XRSite]:\n",
    "\n",
    "    # assert 0 <= turbulence_intensity <= 1 #TODO if it is a percentage, this is correct\n",
    "\n",
    "    custom_site = UniformWeibullSite(\n",
    "        p_wd = [.20,.25,.35,.25],                         # sector frequencies\n",
    "        a = [9.176929,  9.782334,  9.531809,  9.909545],  # Weibull scale parameter\n",
    "        k = [2.392578, 2.447266, 2.412109, 2.591797],     # Weibull shape parameter\n",
    "        ti = turbulence_intensity,                        # turbulence intensity, optional\n",
    "    )\n",
    "    '''\n",
    "    not working\n",
    "    custom_site = XRSite(\n",
    "        ds=xr.Dataset(data_vars={'WS': range(3, 26), 'P': ('wd', [1/360] * len(range(0, 360))), 'TI': 0.25},\n",
    "                    coords={'wd': range(0, 360)}),\n",
    "        shear=PowerShear(h_ref=100, alpha=.2)\n",
    "    )\n",
    "    '''\n",
    "    return [IEA37Site(ti=turbulence_intensity), Hornsrev1Site(ti=turbulence_intensity), custom_site] #ParqueFicticioSite() not having ti as an argument"
   ]
  },
  {
   "attachments": {},
   "cell_type": "markdown",
   "metadata": {},
   "source": [
    "## Turbine (to set thrust coefficient CT)\n",
    "\n",
    "For a given wind turbine type and effective wind speed (WSeff), the WindTurbine object provides the power and thrust coefficient (CT), as well as the wind turbine hub height (H) and diameter (D)."
   ]
  },
  {
   "cell_type": "code",
   "execution_count": 28,
   "metadata": {},
   "outputs": [],
   "source": [
    "# TODO decide what turbine(s) to use (custom or predefined) and see how to set other parameters\n",
    "\n",
    "def get_wind_turbines(u: list[int] = [5, 10, 15, 20, 25],\n",
    "                      power: list[float] = [0, 0, 0, 0, 0], #####\n",
    "                      ct: list[float] = [0.99, 0.5, 0.75, .3, 0.9]) -> list[WindTurbine]:\n",
    "    # you need 3 parameters for a custom turbine: u (ws_values), power and ct curves\n",
    "    # (see how powerCtFunction is initialized in the pre-defined turbines)\n",
    "    custom_turbine = WindTurbine(name=\"custom\", diameter=80, hub_height=321, powerCtFunction=PowerCtTabular(u, power,'kW', ct))\n",
    "\n",
    "    return [V80(), IEA37_WindTurbines(), DTU10MW()]  #, custom_turbine] \n",
    "\n",
    "def plot_ct_curves(custom_turbine) -> None:\n",
    "    # plot Ct curve\n",
    "    plt.xlabel('Wind speed [m/s]')\n",
    "    plt.ylabel('CT [-]')\n",
    "\n",
    "    wts = WindTurbines.from_WindTurbine_lst([V80(), IEA37_WindTurbines(), DTU10MW(), custom_turbine])\n",
    "    ws = np.arange(3,25)\n",
    "    for t in wts.types():\n",
    "        plt.plot(ws, wts.ct(ws, type=t),'.-', label=wts.name(t))\n",
    "    plt.legend(loc=1)"
   ]
  },
  {
   "attachments": {},
   "cell_type": "markdown",
   "metadata": {},
   "source": [
    "## Other parameters"
   ]
  },
  {
   "cell_type": "code",
   "execution_count": 29,
   "metadata": {},
   "outputs": [],
   "source": [
    "TURBINE_X = [0]\n",
    "TURBINE_Y = [0]\n",
    "\n",
    "def get_discretized_grid(diameter: int) -> HorizontalGrid: #TODO decide whether this function should depend on the diameter or not\n",
    "    # TODO check the discretization (see Javier thesis, appendix B in particular), my current reasonings:\n",
    "    # for the minimum length is diameter*2 to skip the near-wake, but TODO this depends also on the wind direction\n",
    "    #   i.e. if the wind direction is within the whole range (0, 360), there will be some warnings of near-wake region even if I set diameter*2\n",
    "    # for the maximum length is diameter*50 (i.e. DEFAULT_MAXIMUM_WAKE_DISTANCE in PyWake EddyViscosity definition) ✅\n",
    "    # for the third value (?), Javier's thesis tries different values (diameter/2, diameter/4, ..., diameter/16)\n",
    "    \n",
    "    # if the wind direction remains stable at 270 (as it seems), it is useless to put a big grid for y\n",
    "    x_range = np.arange(diameter*2, diameter*50, diameter/4)\n",
    "    x_range = np.arange(-diameter*2, diameter*50, diameter/16) #TODO remove (only for attempts)\n",
    "    y_range = np.arange(-diameter*2, diameter*2, diameter/16)\n",
    "    return HorizontalGrid(x = x_range, y = y_range)\n",
    "\n",
    "WS_RANGE = range(10, 15) # by default, 3-25 m/s in bins of 1 m/s TODO change (also the binning)\n",
    "WD_RANGE = 270 # the wind turbine's yaw angle is always adjusted according to the wind direction, thus it is probably useless to generate data with more wind directions\n",
    "#WD_RANGE = range(0, 360) # (by default, 0-360° in bins of 1°)"
   ]
  },
  {
   "attachments": {},
   "cell_type": "markdown",
   "metadata": {},
   "source": [
    "# Boh"
   ]
  },
  {
   "cell_type": "code",
   "execution_count": 30,
   "metadata": {},
   "outputs": [],
   "source": [
    "def generate_wake_dataframe(sim_res: SimulationResult, grid: HorizontalGrid, wind_speed: float, wind_turbine: WindTurbine) -> pd.DataFrame:\n",
    "    \"\"\"\n",
    "    The dataframe has the input variables as indexes and the output variables (wake, TI and P) as columns\n",
    "    \"\"\"\n",
    "    flow_map = xr.Dataset(sim_res.flow_map(grid=grid,\n",
    "                                wd=WD_RANGE,\n",
    "                                ws=wind_speed))\n",
    "    \n",
    "    # removing h, wd and ws\n",
    "    h = flow_map['h'].item()\n",
    "    flow_map = flow_map\\\n",
    "        .sel(h=h)\\\n",
    "        .sel(wd=270)\\\n",
    "        #.expand_dims({\"ti\": 1})\n",
    "        #.assign_coords({\"ti\": 0.72})\n",
    "        #.sel(ws=wind_speed)\n",
    "    flow_map = flow_map.drop_vars([\"h\", \"wd\", \"WD\", \"WS\", \"TI\"])\n",
    "\n",
    "    TI = sim_res.TI.item()\n",
    "    flow_map[\"TI\"] = xr.DataArray([TI], dims=\"TI\")\n",
    "    # ct is now correlated to the wind speed (which would make it useless for the prediction) but it should depend also on the turbine\n",
    "    ct = wind_turbine.ct(ws=wind_speed)\n",
    "    flow_map[\"ct\"] = xr.DataArray([ct], dims=\"ct\") #TODO putting this as a dimension is wrong and creates problems in the xarray (this is why dataframe)\n",
    "\n",
    "    return flow_map.to_dataframe()\n",
    "\n",
    "'''obsolete'''\n",
    "def generate_wake_fields(sim_res: SimulationResult, grid: HorizontalGrid, wind_speed : float, wind_direction : int = WD_RANGE, with_plot : bool = False) -> tuple[torch.Tensor, torch.Tensor]:\n",
    "    #TODO the following method call (flow_map) creates a warning because the Ainslie model cannot be applied to the near-wake zone\n",
    "    flow_map = sim_res.flow_map(grid=grid,\n",
    "                                wd=wind_direction,\n",
    "                                ws=wind_speed)\n",
    "    if with_plot:\n",
    "        plot_wake_from_flow_map(flow_map)\n",
    "\n",
    "    # removing h, wd and ws\n",
    "    h = flow_map['h'].item()\n",
    "    flow_map = flow_map\\\n",
    "        .sel(h=h)\\\n",
    "        .sel(wd=wind_direction)\\\n",
    "        .sel(ws=wind_speed)\n",
    "    flow_map = flow_map.drop_vars([\"h\", \"wd\", \"ws\"])\n",
    "    \n",
    "    # wake fields\n",
    "    WS_eff_field = flow_map.WS_eff # 2d array\n",
    "    TI_eff_field = flow_map.TI_eff # 2d array\n",
    "\n",
    "    WS_eff_output = torch.from_numpy(WS_eff_field.to_numpy().flatten()) # 1d tensor\n",
    "    TI_eff_output = torch.from_numpy(TI_eff_field.to_numpy().flatten()) # 1d tensor\n",
    "    return WS_eff_output, TI_eff_output\n",
    "\n",
    "def plot_wake_from_flow_map(flow_map):\n",
    "    plt.figure()\n",
    "    flow_map.plot_wake_map()\n",
    "    plt.xlabel('x [m]')\n",
    "    plt.ylabel('y [m]')\n",
    "    plt.title('Wake map')\n",
    "\n",
    "def plot_wake_from_xr_dataset(ds):\n",
    "    ds = xr.Dataset.from_dataframe(ds.to_dataframe()) #TODO useless\n",
    "    ds.WS_eff.plot()"
   ]
  },
  {
   "attachments": {},
   "cell_type": "markdown",
   "metadata": {},
   "source": [
    "# Actual data generation"
   ]
  },
  {
   "cell_type": "code",
   "execution_count": 31,
   "metadata": {},
   "outputs": [
    {
     "name": "stdout",
     "output_type": "stream",
     "text": [
      "EddyViscosityModel(PropagateDownwind, EddyViscosityDeficitModel-wake, MaxSum-superposition, ModifiedQuartonAndAinslieTurbulenceModel-turbulence)\n"
     ]
    },
    {
     "name": "stderr",
     "output_type": "stream",
     "text": [
      "/Users/niccolomorabito/Desktop/PyWake/py_wake/deficit_models/eddy_viscosity.py:202: UserWarning: the Eddy Viscosity wake model is not appropriate for turbine spacings less than two rotor diameters; the solution at two rotor diameters was used for smaller distances\n",
      "  warnings.warn(\n",
      "/Users/niccolomorabito/Desktop/PyWake/py_wake/deficit_models/eddy_viscosity.py:202: UserWarning: the Eddy Viscosity wake model is not appropriate for turbine spacings less than two rotor diameters; the solution at two rotor diameters was used for smaller distances\n",
      "  warnings.warn(\n",
      "/Users/niccolomorabito/Desktop/PyWake/py_wake/deficit_models/eddy_viscosity.py:202: UserWarning: the Eddy Viscosity wake model is not appropriate for turbine spacings less than two rotor diameters; the solution at two rotor diameters was used for smaller distances\n",
      "  warnings.warn(\n",
      "/Users/niccolomorabito/Desktop/PyWake/py_wake/deficit_models/eddy_viscosity.py:202: UserWarning: the Eddy Viscosity wake model is not appropriate for turbine spacings less than two rotor diameters; the solution at two rotor diameters was used for smaller distances\n",
      "  warnings.warn(\n"
     ]
    },
    {
     "name": "stdout",
     "output_type": "stream",
     "text": [
      "EddyViscosityModel(PropagateDownwind, EddyViscosityDeficitModel-wake, MaxSum-superposition, ModifiedQuartonAndAinslieTurbulenceModel-turbulence)\n"
     ]
    },
    {
     "name": "stderr",
     "output_type": "stream",
     "text": [
      "/Users/niccolomorabito/Desktop/PyWake/py_wake/deficit_models/eddy_viscosity.py:202: UserWarning: the Eddy Viscosity wake model is not appropriate for turbine spacings less than two rotor diameters; the solution at two rotor diameters was used for smaller distances\n",
      "  warnings.warn(\n",
      "/Users/niccolomorabito/Desktop/PyWake/py_wake/deficit_models/eddy_viscosity.py:202: UserWarning: the Eddy Viscosity wake model is not appropriate for turbine spacings less than two rotor diameters; the solution at two rotor diameters was used for smaller distances\n",
      "  warnings.warn(\n",
      "/Users/niccolomorabito/Desktop/PyWake/py_wake/deficit_models/eddy_viscosity.py:202: UserWarning: the Eddy Viscosity wake model is not appropriate for turbine spacings less than two rotor diameters; the solution at two rotor diameters was used for smaller distances\n",
      "  warnings.warn(\n",
      "/Users/niccolomorabito/Desktop/PyWake/py_wake/deficit_models/eddy_viscosity.py:202: UserWarning: the Eddy Viscosity wake model is not appropriate for turbine spacings less than two rotor diameters; the solution at two rotor diameters was used for smaller distances\n",
      "  warnings.warn(\n",
      "/Users/niccolomorabito/Desktop/PyWake/py_wake/deficit_models/eddy_viscosity.py:202: UserWarning: the Eddy Viscosity wake model is not appropriate for turbine spacings less than two rotor diameters; the solution at two rotor diameters was used for smaller distances\n",
      "  warnings.warn(\n"
     ]
    },
    {
     "name": "stdout",
     "output_type": "stream",
     "text": [
      "EddyViscosityModel(PropagateDownwind, EddyViscosityDeficitModel-wake, MaxSum-superposition, ModifiedQuartonAndAinslieTurbulenceModel-turbulence)\n"
     ]
    },
    {
     "name": "stderr",
     "output_type": "stream",
     "text": [
      "/Users/niccolomorabito/Desktop/PyWake/py_wake/deficit_models/eddy_viscosity.py:202: UserWarning: the Eddy Viscosity wake model is not appropriate for turbine spacings less than two rotor diameters; the solution at two rotor diameters was used for smaller distances\n",
      "  warnings.warn(\n",
      "/Users/niccolomorabito/Desktop/PyWake/py_wake/deficit_models/eddy_viscosity.py:202: UserWarning: the Eddy Viscosity wake model is not appropriate for turbine spacings less than two rotor diameters; the solution at two rotor diameters was used for smaller distances\n",
      "  warnings.warn(\n",
      "/Users/niccolomorabito/Desktop/PyWake/py_wake/deficit_models/eddy_viscosity.py:202: UserWarning: the Eddy Viscosity wake model is not appropriate for turbine spacings less than two rotor diameters; the solution at two rotor diameters was used for smaller distances\n",
      "  warnings.warn(\n",
      "/Users/niccolomorabito/Desktop/PyWake/py_wake/deficit_models/eddy_viscosity.py:202: UserWarning: the Eddy Viscosity wake model is not appropriate for turbine spacings less than two rotor diameters; the solution at two rotor diameters was used for smaller distances\n",
      "  warnings.warn(\n"
     ]
    },
    {
     "name": "stdout",
     "output_type": "stream",
     "text": [
      "EddyViscosityModel(PropagateDownwind, EddyViscosityDeficitModel-wake, MaxSum-superposition, ModifiedQuartonAndAinslieTurbulenceModel-turbulence)\n"
     ]
    },
    {
     "name": "stderr",
     "output_type": "stream",
     "text": [
      "/Users/niccolomorabito/Desktop/PyWake/py_wake/deficit_models/eddy_viscosity.py:202: UserWarning: the Eddy Viscosity wake model is not appropriate for turbine spacings less than two rotor diameters; the solution at two rotor diameters was used for smaller distances\n",
      "  warnings.warn(\n",
      "/Users/niccolomorabito/Desktop/PyWake/py_wake/deficit_models/eddy_viscosity.py:202: UserWarning: the Eddy Viscosity wake model is not appropriate for turbine spacings less than two rotor diameters; the solution at two rotor diameters was used for smaller distances\n",
      "  warnings.warn(\n",
      "/Users/niccolomorabito/Desktop/PyWake/py_wake/deficit_models/eddy_viscosity.py:202: UserWarning: the Eddy Viscosity wake model is not appropriate for turbine spacings less than two rotor diameters; the solution at two rotor diameters was used for smaller distances\n",
      "  warnings.warn(\n",
      "/Users/niccolomorabito/Desktop/PyWake/py_wake/deficit_models/eddy_viscosity.py:202: UserWarning: the Eddy Viscosity wake model is not appropriate for turbine spacings less than two rotor diameters; the solution at two rotor diameters was used for smaller distances\n",
      "  warnings.warn(\n"
     ]
    },
    {
     "name": "stdout",
     "output_type": "stream",
     "text": [
      "EddyViscosityModel(PropagateDownwind, EddyViscosityDeficitModel-wake, MaxSum-superposition, ModifiedQuartonAndAinslieTurbulenceModel-turbulence)\n"
     ]
    },
    {
     "name": "stderr",
     "output_type": "stream",
     "text": [
      "/Users/niccolomorabito/Desktop/PyWake/py_wake/deficit_models/eddy_viscosity.py:202: UserWarning: the Eddy Viscosity wake model is not appropriate for turbine spacings less than two rotor diameters; the solution at two rotor diameters was used for smaller distances\n",
      "  warnings.warn(\n",
      "/Users/niccolomorabito/Desktop/PyWake/py_wake/deficit_models/eddy_viscosity.py:202: UserWarning: the Eddy Viscosity wake model is not appropriate for turbine spacings less than two rotor diameters; the solution at two rotor diameters was used for smaller distances\n",
      "  warnings.warn(\n",
      "/Users/niccolomorabito/Desktop/PyWake/py_wake/deficit_models/eddy_viscosity.py:202: UserWarning: the Eddy Viscosity wake model is not appropriate for turbine spacings less than two rotor diameters; the solution at two rotor diameters was used for smaller distances\n",
      "  warnings.warn(\n",
      "/Users/niccolomorabito/Desktop/PyWake/py_wake/deficit_models/eddy_viscosity.py:202: UserWarning: the Eddy Viscosity wake model is not appropriate for turbine spacings less than two rotor diameters; the solution at two rotor diameters was used for smaller distances\n",
      "  warnings.warn(\n",
      "/Users/niccolomorabito/Desktop/PyWake/py_wake/deficit_models/eddy_viscosity.py:202: UserWarning: the Eddy Viscosity wake model is not appropriate for turbine spacings less than two rotor diameters; the solution at two rotor diameters was used for smaller distances\n",
      "  warnings.warn(\n"
     ]
    },
    {
     "name": "stdout",
     "output_type": "stream",
     "text": [
      "EddyViscosityModel(PropagateDownwind, EddyViscosityDeficitModel-wake, MaxSum-superposition, ModifiedQuartonAndAinslieTurbulenceModel-turbulence)\n"
     ]
    },
    {
     "name": "stderr",
     "output_type": "stream",
     "text": [
      "/Users/niccolomorabito/Desktop/PyWake/py_wake/deficit_models/eddy_viscosity.py:202: UserWarning: the Eddy Viscosity wake model is not appropriate for turbine spacings less than two rotor diameters; the solution at two rotor diameters was used for smaller distances\n",
      "  warnings.warn(\n",
      "/Users/niccolomorabito/Desktop/PyWake/py_wake/deficit_models/eddy_viscosity.py:202: UserWarning: the Eddy Viscosity wake model is not appropriate for turbine spacings less than two rotor diameters; the solution at two rotor diameters was used for smaller distances\n",
      "  warnings.warn(\n",
      "/Users/niccolomorabito/Desktop/PyWake/py_wake/deficit_models/eddy_viscosity.py:202: UserWarning: the Eddy Viscosity wake model is not appropriate for turbine spacings less than two rotor diameters; the solution at two rotor diameters was used for smaller distances\n",
      "  warnings.warn(\n",
      "/Users/niccolomorabito/Desktop/PyWake/py_wake/deficit_models/eddy_viscosity.py:202: UserWarning: the Eddy Viscosity wake model is not appropriate for turbine spacings less than two rotor diameters; the solution at two rotor diameters was used for smaller distances\n",
      "  warnings.warn(\n"
     ]
    },
    {
     "name": "stdout",
     "output_type": "stream",
     "text": [
      "EddyViscosityModel(PropagateDownwind, EddyViscosityDeficitModel-wake, MaxSum-superposition, ModifiedQuartonAndAinslieTurbulenceModel-turbulence)\n"
     ]
    },
    {
     "name": "stderr",
     "output_type": "stream",
     "text": [
      "/Users/niccolomorabito/Desktop/PyWake/py_wake/deficit_models/eddy_viscosity.py:202: UserWarning: the Eddy Viscosity wake model is not appropriate for turbine spacings less than two rotor diameters; the solution at two rotor diameters was used for smaller distances\n",
      "  warnings.warn(\n",
      "/Users/niccolomorabito/Desktop/PyWake/py_wake/deficit_models/eddy_viscosity.py:202: UserWarning: the Eddy Viscosity wake model is not appropriate for turbine spacings less than two rotor diameters; the solution at two rotor diameters was used for smaller distances\n",
      "  warnings.warn(\n",
      "/Users/niccolomorabito/Desktop/PyWake/py_wake/deficit_models/eddy_viscosity.py:202: UserWarning: the Eddy Viscosity wake model is not appropriate for turbine spacings less than two rotor diameters; the solution at two rotor diameters was used for smaller distances\n",
      "  warnings.warn(\n",
      "/Users/niccolomorabito/Desktop/PyWake/py_wake/deficit_models/eddy_viscosity.py:202: UserWarning: the Eddy Viscosity wake model is not appropriate for turbine spacings less than two rotor diameters; the solution at two rotor diameters was used for smaller distances\n",
      "  warnings.warn(\n"
     ]
    },
    {
     "name": "stdout",
     "output_type": "stream",
     "text": [
      "EddyViscosityModel(PropagateDownwind, EddyViscosityDeficitModel-wake, MaxSum-superposition, ModifiedQuartonAndAinslieTurbulenceModel-turbulence)\n"
     ]
    },
    {
     "name": "stderr",
     "output_type": "stream",
     "text": [
      "/Users/niccolomorabito/Desktop/PyWake/py_wake/deficit_models/eddy_viscosity.py:202: UserWarning: the Eddy Viscosity wake model is not appropriate for turbine spacings less than two rotor diameters; the solution at two rotor diameters was used for smaller distances\n",
      "  warnings.warn(\n",
      "/Users/niccolomorabito/Desktop/PyWake/py_wake/deficit_models/eddy_viscosity.py:202: UserWarning: the Eddy Viscosity wake model is not appropriate for turbine spacings less than two rotor diameters; the solution at two rotor diameters was used for smaller distances\n",
      "  warnings.warn(\n",
      "/Users/niccolomorabito/Desktop/PyWake/py_wake/deficit_models/eddy_viscosity.py:202: UserWarning: the Eddy Viscosity wake model is not appropriate for turbine spacings less than two rotor diameters; the solution at two rotor diameters was used for smaller distances\n",
      "  warnings.warn(\n",
      "/Users/niccolomorabito/Desktop/PyWake/py_wake/deficit_models/eddy_viscosity.py:202: UserWarning: the Eddy Viscosity wake model is not appropriate for turbine spacings less than two rotor diameters; the solution at two rotor diameters was used for smaller distances\n",
      "  warnings.warn(\n",
      "/Users/niccolomorabito/Desktop/PyWake/py_wake/deficit_models/eddy_viscosity.py:202: UserWarning: the Eddy Viscosity wake model is not appropriate for turbine spacings less than two rotor diameters; the solution at two rotor diameters was used for smaller distances\n",
      "  warnings.warn(\n"
     ]
    },
    {
     "name": "stdout",
     "output_type": "stream",
     "text": [
      "EddyViscosityModel(PropagateDownwind, EddyViscosityDeficitModel-wake, MaxSum-superposition, ModifiedQuartonAndAinslieTurbulenceModel-turbulence)\n"
     ]
    },
    {
     "name": "stderr",
     "output_type": "stream",
     "text": [
      "/Users/niccolomorabito/Desktop/PyWake/py_wake/deficit_models/eddy_viscosity.py:202: UserWarning: the Eddy Viscosity wake model is not appropriate for turbine spacings less than two rotor diameters; the solution at two rotor diameters was used for smaller distances\n",
      "  warnings.warn(\n",
      "/Users/niccolomorabito/Desktop/PyWake/py_wake/deficit_models/eddy_viscosity.py:202: UserWarning: the Eddy Viscosity wake model is not appropriate for turbine spacings less than two rotor diameters; the solution at two rotor diameters was used for smaller distances\n",
      "  warnings.warn(\n",
      "/Users/niccolomorabito/Desktop/PyWake/py_wake/deficit_models/eddy_viscosity.py:202: UserWarning: the Eddy Viscosity wake model is not appropriate for turbine spacings less than two rotor diameters; the solution at two rotor diameters was used for smaller distances\n",
      "  warnings.warn(\n",
      "/Users/niccolomorabito/Desktop/PyWake/py_wake/deficit_models/eddy_viscosity.py:202: UserWarning: the Eddy Viscosity wake model is not appropriate for turbine spacings less than two rotor diameters; the solution at two rotor diameters was used for smaller distances\n",
      "  warnings.warn(\n"
     ]
    },
    {
     "data": {
      "text/html": [
       "<div>\n",
       "<style scoped>\n",
       "    .dataframe tbody tr th:only-of-type {\n",
       "        vertical-align: middle;\n",
       "    }\n",
       "\n",
       "    .dataframe tbody tr th {\n",
       "        vertical-align: top;\n",
       "    }\n",
       "\n",
       "    .dataframe thead th {\n",
       "        text-align: right;\n",
       "    }\n",
       "</style>\n",
       "<table border=\"1\" class=\"dataframe\">\n",
       "  <thead>\n",
       "    <tr style=\"text-align: right;\">\n",
       "      <th></th>\n",
       "      <th></th>\n",
       "      <th></th>\n",
       "      <th></th>\n",
       "      <th></th>\n",
       "      <th>WS_eff</th>\n",
       "      <th>TI_eff</th>\n",
       "      <th>P</th>\n",
       "    </tr>\n",
       "    <tr>\n",
       "      <th>x</th>\n",
       "      <th>y</th>\n",
       "      <th>ws</th>\n",
       "      <th>TI</th>\n",
       "      <th>ct</th>\n",
       "      <th></th>\n",
       "      <th></th>\n",
       "      <th></th>\n",
       "    </tr>\n",
       "  </thead>\n",
       "  <tbody>\n",
       "    <tr>\n",
       "      <th rowspan=\"5\" valign=\"top\">-160.00000</th>\n",
       "      <th>-160.00000</th>\n",
       "      <th>10</th>\n",
       "      <th>0.72</th>\n",
       "      <th>0.793</th>\n",
       "      <td>10.000000</td>\n",
       "      <td>0.720000</td>\n",
       "      <td>3.408000</td>\n",
       "    </tr>\n",
       "    <tr>\n",
       "      <th>-155.00000</th>\n",
       "      <th>10</th>\n",
       "      <th>0.72</th>\n",
       "      <th>0.793</th>\n",
       "      <td>10.000000</td>\n",
       "      <td>0.720000</td>\n",
       "      <td>3.408000</td>\n",
       "    </tr>\n",
       "    <tr>\n",
       "      <th>-150.00000</th>\n",
       "      <th>10</th>\n",
       "      <th>0.72</th>\n",
       "      <th>0.793</th>\n",
       "      <td>10.000000</td>\n",
       "      <td>0.720000</td>\n",
       "      <td>3.408000</td>\n",
       "    </tr>\n",
       "    <tr>\n",
       "      <th>-145.00000</th>\n",
       "      <th>10</th>\n",
       "      <th>0.72</th>\n",
       "      <th>0.793</th>\n",
       "      <td>10.000000</td>\n",
       "      <td>0.720000</td>\n",
       "      <td>3.408000</td>\n",
       "    </tr>\n",
       "    <tr>\n",
       "      <th>-140.00000</th>\n",
       "      <th>10</th>\n",
       "      <th>0.72</th>\n",
       "      <th>0.793</th>\n",
       "      <td>10.000000</td>\n",
       "      <td>0.720000</td>\n",
       "      <td>3.408000</td>\n",
       "    </tr>\n",
       "    <tr>\n",
       "      <th>...</th>\n",
       "      <th>...</th>\n",
       "      <th>...</th>\n",
       "      <th>...</th>\n",
       "      <th>...</th>\n",
       "      <td>...</td>\n",
       "      <td>...</td>\n",
       "      <td>...</td>\n",
       "    </tr>\n",
       "    <tr>\n",
       "      <th rowspan=\"5\" valign=\"top\">8903.85625</th>\n",
       "      <th>300.88125</th>\n",
       "      <th>14</th>\n",
       "      <th>0.72</th>\n",
       "      <th>0.323</th>\n",
       "      <td>13.970296</td>\n",
       "      <td>0.720015</td>\n",
       "      <td>0.039257</td>\n",
       "    </tr>\n",
       "    <tr>\n",
       "      <th>312.02500</th>\n",
       "      <th>14</th>\n",
       "      <th>0.72</th>\n",
       "      <th>0.323</th>\n",
       "      <td>13.970693</td>\n",
       "      <td>0.720015</td>\n",
       "      <td>0.039257</td>\n",
       "    </tr>\n",
       "    <tr>\n",
       "      <th>323.16875</th>\n",
       "      <th>14</th>\n",
       "      <th>0.72</th>\n",
       "      <th>0.323</th>\n",
       "      <td>13.971100</td>\n",
       "      <td>0.720015</td>\n",
       "      <td>0.039257</td>\n",
       "    </tr>\n",
       "    <tr>\n",
       "      <th>334.31250</th>\n",
       "      <th>14</th>\n",
       "      <th>0.72</th>\n",
       "      <th>0.323</th>\n",
       "      <td>13.971515</td>\n",
       "      <td>0.720015</td>\n",
       "      <td>0.039257</td>\n",
       "    </tr>\n",
       "    <tr>\n",
       "      <th>345.45625</th>\n",
       "      <th>14</th>\n",
       "      <th>0.72</th>\n",
       "      <th>0.323</th>\n",
       "      <td>13.971938</td>\n",
       "      <td>0.720015</td>\n",
       "      <td>0.039257</td>\n",
       "    </tr>\n",
       "  </tbody>\n",
       "</table>\n",
       "<p>2396160 rows × 3 columns</p>\n",
       "</div>"
      ],
      "text/plain": [
       "                                         WS_eff    TI_eff         P\n",
       "x           y          ws TI   ct                                  \n",
       "-160.00000  -160.00000 10 0.72 0.793  10.000000  0.720000  3.408000\n",
       "            -155.00000 10 0.72 0.793  10.000000  0.720000  3.408000\n",
       "            -150.00000 10 0.72 0.793  10.000000  0.720000  3.408000\n",
       "            -145.00000 10 0.72 0.793  10.000000  0.720000  3.408000\n",
       "            -140.00000 10 0.72 0.793  10.000000  0.720000  3.408000\n",
       "...                                         ...       ...       ...\n",
       " 8903.85625  300.88125 14 0.72 0.323  13.970296  0.720015  0.039257\n",
       "             312.02500 14 0.72 0.323  13.970693  0.720015  0.039257\n",
       "             323.16875 14 0.72 0.323  13.971100  0.720015  0.039257\n",
       "             334.31250 14 0.72 0.323  13.971515  0.720015  0.039257\n",
       "             345.45625 14 0.72 0.323  13.971938  0.720015  0.039257\n",
       "\n",
       "[2396160 rows x 3 columns]"
      ]
     },
     "execution_count": 31,
     "metadata": {},
     "output_type": "execute_result"
    }
   ],
   "source": [
    "sites = get_sites(turbulence_intensity=0.72)\n",
    "wind_turbines = get_wind_turbines()\n",
    "\n",
    "dataframes = list()\n",
    "for site, wind_turbine in itertools.product(sites, wind_turbines):\n",
    "    # single wake model\n",
    "    ainslie_model = EddyViscosityModel(site, wind_turbine)\n",
    "    print(ainslie_model)\n",
    "\n",
    "    diameter: int = wind_turbine.diameter().item() #TODO this needs to be used for scaling distances and also to exclude near-wake region\n",
    "    horizontal_grid = get_discretized_grid(diameter)\n",
    "\n",
    "    sim_res: SimulationResult = ainslie_model(\n",
    "        TURBINE_X, TURBINE_Y,        # wind turbine positions (setting also wt domain, i.e. the number of turbines)\n",
    "        h=None,                      # wind turbine heights (defaults to the heights defined in windTurbines)\n",
    "        type=0,                      # Wind turbine types\n",
    "        wd=WD_RANGE,                 # Wind direction (None for default -> 0-360° in bins of 1°)\n",
    "        ws=WS_RANGE,                 # Wind speed (None for default -> 3-25 m/s in bins of 1 m/s)\n",
    "        #TI = 0.15 # DO NOT SET TI HERE, this is not taken into account when calling flow_map (TI depends on the chosen site)\n",
    "    ) # type: ignore\n",
    "    \n",
    "    for wind_speed in WS_RANGE:\n",
    "        #TODO find the final solution for the data structure for input and output variables\n",
    "        #input_tensor = torch.FloatTensor([wind_speed, ct, TI]) #TODO add other input features\n",
    "        #WS_eff_output, TI_eff_output = generate_wake_fields(sim_res, horizontal_grid, wind_speed=wind_speed, with_plot=True)\n",
    "        df = generate_wake_dataframe(sim_res, horizontal_grid, wind_speed, wind_turbine)\n",
    "        dataframes.append(df)\n",
    "\n",
    "final_df = pd.concat(dataframes)\n",
    "final_df"
   ]
  },
  {
   "cell_type": "code",
   "execution_count": 39,
   "metadata": {},
   "outputs": [],
   "source": [
    "final_df.to_csv(DATAFRAME_FILEPATH)"
   ]
  }
 ],
 "metadata": {
  "kernelspec": {
   "display_name": "Python 3",
   "language": "python",
   "name": "python3"
  },
  "language_info": {
   "codemirror_mode": {
    "name": "ipython",
    "version": 3
   },
   "file_extension": ".py",
   "mimetype": "text/x-python",
   "name": "python",
   "nbconvert_exporter": "python",
   "pygments_lexer": "ipython3",
   "version": "3.10.9"
  },
  "orig_nbformat": 4
 },
 "nbformat": 4,
 "nbformat_minor": 2
}
