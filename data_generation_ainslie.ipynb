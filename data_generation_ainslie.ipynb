{
 "cells": [
  {
   "cell_type": "code",
   "execution_count": 3,
   "metadata": {},
   "outputs": [],
   "source": [
    "import xarray as xr\n",
    "import itertools\n",
    "\n",
    "from py_wake.deficit_models import EddyViscosityModel\n",
    "\n",
    "import utils.utils as utils\n",
    "import utils.pywake_utils as py_wake_utils\n",
    "import utils.data_utils as data_utils"
   ]
  },
  {
   "attachments": {},
   "cell_type": "markdown",
   "metadata": {},
   "source": [
    "# Preparation of the parameters for the data generation"
   ]
  },
  {
   "attachments": {},
   "cell_type": "markdown",
   "metadata": {},
   "source": [
    "## Site (to set turbulence intensity TI)\n",
    "For a given position, reference wind speed (WSref) and wind direction (WDref), Site provides the local wind condition in terms of wind speed (WS), wind direction (WD), turbulence intensity (TI) and the probability of each combination of wind direction and wind speed. Furthermore, Site is responsible for calculating the down-wind, cross-wind and vertical distance between wind turbines (which in non-flat terrain is different from the straight-line distances).\n",
    "\n",
    "## Turbine (to set thrust coefficient CT)\n",
    "For a given wind turbine type and effective wind speed (WSeff), the WindTurbine object provides the power and thrust coefficient (CT), as well as the wind turbine hub height (H) and diameter (D).\n",
    "\n",
    "Initializing a simple WindTurbine\n",
    "- taking diameter, hub height and power norm from IEA37 as these params affect the simulation;\n",
    "- default power ct function to set a constant thrust coefficient (CT).\n",
    "\n",
    "## Discretization\n",
    "My current reasoning for the discretization:\n",
    "\n",
    "FOR X RANGE\n",
    "- the start is diameter*2 to skip the near-wake (careful with the wind direction, if it is within the whole range (0, 360), near-wake intercepted);\n",
    "- the end is diameter*50 (i.e. DEFAULT_MAXIMUM_WAKE_DISTANCE in PyWake EddyViscosity definition); [#TODO reduce it?]\n",
    "- the step is parametrized (Javier's thesis trying different values, e.g. diameter/2, diameter/4, ..., diameter/16)\n",
    "\n",
    "FOR Y RANGE\n",
    "- since the wind direction remains stable at 270, it is useless to put a big range for y"
   ]
  },
  {
   "attachments": {},
   "cell_type": "markdown",
   "metadata": {},
   "source": [
    "# Actual data generation"
   ]
  },
  {
   "cell_type": "code",
   "execution_count": 6,
   "metadata": {},
   "outputs": [],
   "source": [
    "# default parameters\n",
    "TURBINE_X = [0]\n",
    "TURBINE_Y = [0]\n",
    "WIND_DIRECTION = 270 # the wind turbine's yaw angle is always adjusted according to the wind direction, thus it is probably useless to generate data with more wind directions\n",
    "#WD_RANGE = range(0, 360) # (by default, 0-360° in bins of 1°)\n",
    "\n",
    "# IEA37 values TODO try different ones?\n",
    "TURBINE_DIAMETER = 198\n",
    "TURBINE_HUB_HEIGHT = 119\n",
    "TURBINE_POWER_NORM = 10000\n",
    "\n",
    "# discretization factors\n",
    "# (decided putting a minimum value for the deficit to delimiate the interesting zone of 1/100)\n",
    "X_START_FACTOR = 2\n",
    "X_END_FACTOR = 30\n",
    "Y_START_FACTOR = -2\n",
    "Y_END_FACTOR = 2\n",
    "GRID_STEP_FACTOR = 1/8\n",
    "#TODO put a minimum value for the deficit to delimitate the interesting zone (1/1000)\n",
    "\n",
    "# parameters for data generation\n",
    "WS_RANGE = range(10, 26)\n",
    "# TODO change the step sizes?\n",
    "TI_STEP = 0.01\n",
    "CT_STEP = 0.01\n",
    "TIs = utils.my_arange(0, 1, TI_STEP) # the ti is percentage\n",
    "CTs = utils.my_arange(0.1, 24/25, CT_STEP) #for ct=0, the wake field is not interesting\n",
    "# according to the \"AeroDyn Theory Manual\", the maximum CT should be 24/25 -> see beginning of https://onlinelibrary.wiley.com/doi/full/10.1002/we.2688\n",
    "# in the eddy_viscosity.py file of Pywake, it is said that ct has a range between 0.0 and 1.2 and ti > 0.0"
   ]
  },
  {
   "cell_type": "code",
   "execution_count": 7,
   "metadata": {},
   "outputs": [
    {
     "name": "stdout",
     "output_type": "stream",
     "text": [
      "Shape of the discretised grid: 224x32\n",
      "wind_speed=10\tti=0.0\tct=0.16\r"
     ]
    },
    {
     "ename": "KeyboardInterrupt",
     "evalue": "",
     "output_type": "error",
     "traceback": [
      "\u001b[0;31m---------------------------------------------------------------------------\u001b[0m",
      "\u001b[0;31mKeyboardInterrupt\u001b[0m                         Traceback (most recent call last)",
      "Cell \u001b[0;32mIn[7], line 16\u001b[0m\n\u001b[1;32m     12\u001b[0m wind_turbine \u001b[39m=\u001b[39m py_wake_utils\u001b[39m.\u001b[39mget_wind_turbine(TURBINE_DIAMETER, TURBINE_HUB_HEIGHT, TURBINE_POWER_NORM,\n\u001b[1;32m     13\u001b[0m                                 constant_ct\u001b[39m=\u001b[39mct, ti\u001b[39m=\u001b[39mti)\n\u001b[1;32m     15\u001b[0m \u001b[39m# single wake model\u001b[39;00m\n\u001b[0;32m---> 16\u001b[0m ainslie_model \u001b[39m=\u001b[39m EddyViscosityModel(site, wind_turbine)\n\u001b[1;32m     18\u001b[0m ds \u001b[39m=\u001b[39m py_wake_utils\u001b[39m.\u001b[39mgenerate_wake_dataset(ainslie_model, wind_speed, WIND_DIRECTION,\n\u001b[1;32m     19\u001b[0m                             TURBINE_DIAMETER, TURBINE_X, TURBINE_Y,\n\u001b[1;32m     20\u001b[0m                             horizontal_grid, wind_turbine)\n\u001b[1;32m     21\u001b[0m \u001b[39m#TODO add control to make sure that I do not add the same input variables twice?\u001b[39;00m\n",
      "File \u001b[0;32m~/Desktop/PyWake/py_wake/deficit_models/eddy_viscosity.py:363\u001b[0m, in \u001b[0;36mEddyViscosityModel.__init__\u001b[0;34m(self, site, windTurbines, superpositionModel, deflectionModel, turbulenceModel, rotorAvgModel)\u001b[0m\n\u001b[1;32m    322\u001b[0m \u001b[39mdef\u001b[39;00m \u001b[39m__init__\u001b[39m(\n\u001b[1;32m    323\u001b[0m     \u001b[39mself\u001b[39m,\n\u001b[1;32m    324\u001b[0m     site: XRSite,\n\u001b[0;32m   (...)\u001b[0m\n\u001b[1;32m    329\u001b[0m     rotorAvgModel: RotorAvgModel \u001b[39m=\u001b[39m \u001b[39mNone\u001b[39;00m,\n\u001b[1;32m    330\u001b[0m ):\n\u001b[1;32m    331\u001b[0m \u001b[39m    \u001b[39m\u001b[39m\"\"\"Initiate an ``EddyViscosityModel``.\u001b[39;00m\n\u001b[1;32m    332\u001b[0m \n\u001b[1;32m    333\u001b[0m \u001b[39m    The superposition model should generally be ``MaxSum`` if using\u001b[39;00m\n\u001b[0;32m   (...)\u001b[0m\n\u001b[1;32m    358\u001b[0m \u001b[39m    :param rotorAvgModel: the rotor average model to use\u001b[39;00m\n\u001b[1;32m    359\u001b[0m \u001b[39m    \"\"\"\u001b[39;00m\n\u001b[1;32m    360\u001b[0m     \u001b[39msuper\u001b[39m()\u001b[39m.\u001b[39m\u001b[39m__init__\u001b[39m(\n\u001b[1;32m    361\u001b[0m         site\u001b[39m=\u001b[39msite,\n\u001b[1;32m    362\u001b[0m         windTurbines\u001b[39m=\u001b[39mwindTurbines,\n\u001b[0;32m--> 363\u001b[0m         wake_deficitModel\u001b[39m=\u001b[39mEddyViscosityDeficitModel(),\n\u001b[1;32m    364\u001b[0m         superpositionModel\u001b[39m=\u001b[39msuperpositionModel,\n\u001b[1;32m    365\u001b[0m         deflectionModel\u001b[39m=\u001b[39mdeflectionModel,\n\u001b[1;32m    366\u001b[0m         turbulenceModel\u001b[39m=\u001b[39mturbulenceModel,\n\u001b[1;32m    367\u001b[0m         rotorAvgModel\u001b[39m=\u001b[39mrotorAvgModel,\n\u001b[1;32m    368\u001b[0m     )\n",
      "File \u001b[0;32m~/Desktop/PyWake/py_wake/deficit_models/eddy_viscosity.py:109\u001b[0m, in \u001b[0;36mEddyViscosityDeficitModel.__init__\u001b[0;34m(self, rotorAvgModel, groundModel, use_effective_ws, use_effective_ti, use_mixing_function, normalise_ti_to_waked_ws, maximum_wake_distance, formulation, lookup_table_filepath)\u001b[0m\n\u001b[1;32m    105\u001b[0m     \u001b[39mif\u001b[39;00m formulation \u001b[39mis\u001b[39;00m \u001b[39mNone\u001b[39;00m:\n\u001b[1;32m    106\u001b[0m         \u001b[39mraise\u001b[39;00m \u001b[39mValueError\u001b[39;00m(\n\u001b[1;32m    107\u001b[0m             \u001b[39m\"\u001b[39m\u001b[39meither a formulation or a lookup table path must be provided\u001b[39m\u001b[39m\"\u001b[39m\n\u001b[1;32m    108\u001b[0m         )\n\u001b[0;32m--> 109\u001b[0m     lookup_table \u001b[39m=\u001b[39m eddy_viscosity_lookup_table_generator\u001b[39m.\u001b[39;49mgenerate_lookup_table(\n\u001b[1;32m    110\u001b[0m         formulation\u001b[39m=\u001b[39;49mformulation,\n\u001b[1;32m    111\u001b[0m         use_mixing_function\u001b[39m=\u001b[39;49muse_mixing_function,\n\u001b[1;32m    112\u001b[0m     )\n\u001b[1;32m    113\u001b[0m \u001b[39melse\u001b[39;00m:\n\u001b[1;32m    114\u001b[0m     lookup_table \u001b[39m=\u001b[39m xr\u001b[39m.\u001b[39mopen_dataarray(lookup_table_filepath, engine\u001b[39m=\u001b[39m\u001b[39m\"\u001b[39m\u001b[39mh5netcdf\u001b[39m\u001b[39m\"\u001b[39m)\n",
      "File \u001b[0;32m~/Desktop/PyWake/py_wake/deficit_models/eddy_viscosity_lookup_table_generator.py:100\u001b[0m, in \u001b[0;36mgenerate_lookup_table\u001b[0;34m(formulation, use_mixing_function, coordinates, output_filepath)\u001b[0m\n\u001b[1;32m     96\u001b[0m ct_flat \u001b[39m=\u001b[39m ct_full\u001b[39m.\u001b[39mflatten(order\u001b[39m=\u001b[39m\u001b[39m\"\u001b[39m\u001b[39mC\u001b[39m\u001b[39m\"\u001b[39m)\n\u001b[1;32m     98\u001b[0m udc0_flat \u001b[39m=\u001b[39m formulation\u001b[39m.\u001b[39minitial_u_value(ct\u001b[39m=\u001b[39mct_flat, ti0\u001b[39m=\u001b[39mti0_flat)\n\u001b[0;32m--> 100\u001b[0m sol \u001b[39m=\u001b[39m solve_ivp(\n\u001b[1;32m    101\u001b[0m     fun\u001b[39m=\u001b[39;49mformulation\u001b[39m.\u001b[39;49mstreamwise_derivative,\n\u001b[1;32m    102\u001b[0m     t_span\u001b[39m=\u001b[39;49m[np\u001b[39m.\u001b[39;49mmin(coordinates\u001b[39m.\u001b[39;49mdw), np\u001b[39m.\u001b[39;49mmax(coordinates\u001b[39m.\u001b[39;49mdw)],\n\u001b[1;32m    103\u001b[0m     y0\u001b[39m=\u001b[39;49mudc0_flat,\n\u001b[1;32m    104\u001b[0m     method\u001b[39m=\u001b[39;49m\u001b[39m\"\u001b[39;49m\u001b[39mRK45\u001b[39;49m\u001b[39m\"\u001b[39;49m,\n\u001b[1;32m    105\u001b[0m     t_eval\u001b[39m=\u001b[39;49mcoordinates\u001b[39m.\u001b[39;49mdw,\n\u001b[1;32m    106\u001b[0m     vectorized\u001b[39m=\u001b[39;49m\u001b[39mTrue\u001b[39;49;00m,\n\u001b[1;32m    107\u001b[0m     args\u001b[39m=\u001b[39;49m(ct_flat[:, na], ti0_flat[:, na], use_mixing_function),\n\u001b[1;32m    108\u001b[0m )\n\u001b[1;32m    110\u001b[0m deficit_result \u001b[39m=\u001b[39m sol\u001b[39m.\u001b[39my\n\u001b[1;32m    111\u001b[0m \u001b[39mif\u001b[39;00m \u001b[39mnot\u001b[39;00m formulation\u001b[39m.\u001b[39mis_deficit_formulation():\n\u001b[1;32m    112\u001b[0m     \u001b[39m# The result is in terms of dimensionless wake wind speed, from which\u001b[39;00m\n\u001b[1;32m    113\u001b[0m     \u001b[39m# the dimensionless wake wind speed deficit needs to be calculated\u001b[39;00m\n",
      "File \u001b[0;32m/opt/homebrew/lib/python3.10/site-packages/scipy/integrate/_ivp/ivp.py:591\u001b[0m, in \u001b[0;36msolve_ivp\u001b[0;34m(fun, t_span, y0, method, t_eval, dense_output, events, vectorized, args, **options)\u001b[0m\n\u001b[1;32m    589\u001b[0m status \u001b[39m=\u001b[39m \u001b[39mNone\u001b[39;00m\n\u001b[1;32m    590\u001b[0m \u001b[39mwhile\u001b[39;00m status \u001b[39mis\u001b[39;00m \u001b[39mNone\u001b[39;00m:\n\u001b[0;32m--> 591\u001b[0m     message \u001b[39m=\u001b[39m solver\u001b[39m.\u001b[39;49mstep()\n\u001b[1;32m    593\u001b[0m     \u001b[39mif\u001b[39;00m solver\u001b[39m.\u001b[39mstatus \u001b[39m==\u001b[39m \u001b[39m'\u001b[39m\u001b[39mfinished\u001b[39m\u001b[39m'\u001b[39m:\n\u001b[1;32m    594\u001b[0m         status \u001b[39m=\u001b[39m \u001b[39m0\u001b[39m\n",
      "File \u001b[0;32m/opt/homebrew/lib/python3.10/site-packages/scipy/integrate/_ivp/base.py:181\u001b[0m, in \u001b[0;36mOdeSolver.step\u001b[0;34m(self)\u001b[0m\n\u001b[1;32m    179\u001b[0m \u001b[39melse\u001b[39;00m:\n\u001b[1;32m    180\u001b[0m     t \u001b[39m=\u001b[39m \u001b[39mself\u001b[39m\u001b[39m.\u001b[39mt\n\u001b[0;32m--> 181\u001b[0m     success, message \u001b[39m=\u001b[39m \u001b[39mself\u001b[39;49m\u001b[39m.\u001b[39;49m_step_impl()\n\u001b[1;32m    183\u001b[0m     \u001b[39mif\u001b[39;00m \u001b[39mnot\u001b[39;00m success:\n\u001b[1;32m    184\u001b[0m         \u001b[39mself\u001b[39m\u001b[39m.\u001b[39mstatus \u001b[39m=\u001b[39m \u001b[39m'\u001b[39m\u001b[39mfailed\u001b[39m\u001b[39m'\u001b[39m\n",
      "File \u001b[0;32m/opt/homebrew/lib/python3.10/site-packages/scipy/integrate/_ivp/rk.py:144\u001b[0m, in \u001b[0;36mRungeKutta._step_impl\u001b[0;34m(self)\u001b[0m\n\u001b[1;32m    141\u001b[0m h \u001b[39m=\u001b[39m t_new \u001b[39m-\u001b[39m t\n\u001b[1;32m    142\u001b[0m h_abs \u001b[39m=\u001b[39m np\u001b[39m.\u001b[39mabs(h)\n\u001b[0;32m--> 144\u001b[0m y_new, f_new \u001b[39m=\u001b[39m rk_step(\u001b[39mself\u001b[39;49m\u001b[39m.\u001b[39;49mfun, t, y, \u001b[39mself\u001b[39;49m\u001b[39m.\u001b[39;49mf, h, \u001b[39mself\u001b[39;49m\u001b[39m.\u001b[39;49mA,\n\u001b[1;32m    145\u001b[0m                        \u001b[39mself\u001b[39;49m\u001b[39m.\u001b[39;49mB, \u001b[39mself\u001b[39;49m\u001b[39m.\u001b[39;49mC, \u001b[39mself\u001b[39;49m\u001b[39m.\u001b[39;49mK)\n\u001b[1;32m    146\u001b[0m scale \u001b[39m=\u001b[39m atol \u001b[39m+\u001b[39m np\u001b[39m.\u001b[39mmaximum(np\u001b[39m.\u001b[39mabs(y), np\u001b[39m.\u001b[39mabs(y_new)) \u001b[39m*\u001b[39m rtol\n\u001b[1;32m    147\u001b[0m error_norm \u001b[39m=\u001b[39m \u001b[39mself\u001b[39m\u001b[39m.\u001b[39m_estimate_error_norm(\u001b[39mself\u001b[39m\u001b[39m.\u001b[39mK, h, scale)\n",
      "File \u001b[0;32m/opt/homebrew/lib/python3.10/site-packages/scipy/integrate/_ivp/rk.py:63\u001b[0m, in \u001b[0;36mrk_step\u001b[0;34m(fun, t, y, f, h, A, B, C, K)\u001b[0m\n\u001b[1;32m     61\u001b[0m K[\u001b[39m0\u001b[39m] \u001b[39m=\u001b[39m f\n\u001b[1;32m     62\u001b[0m \u001b[39mfor\u001b[39;00m s, (a, c) \u001b[39min\u001b[39;00m \u001b[39menumerate\u001b[39m(\u001b[39mzip\u001b[39m(A[\u001b[39m1\u001b[39m:], C[\u001b[39m1\u001b[39m:]), start\u001b[39m=\u001b[39m\u001b[39m1\u001b[39m):\n\u001b[0;32m---> 63\u001b[0m     dy \u001b[39m=\u001b[39m np\u001b[39m.\u001b[39;49mdot(K[:s]\u001b[39m.\u001b[39;49mT, a[:s]) \u001b[39m*\u001b[39m h\n\u001b[1;32m     64\u001b[0m     K[s] \u001b[39m=\u001b[39m fun(t \u001b[39m+\u001b[39m c \u001b[39m*\u001b[39m h, y \u001b[39m+\u001b[39m dy)\n\u001b[1;32m     66\u001b[0m y_new \u001b[39m=\u001b[39m y \u001b[39m+\u001b[39m h \u001b[39m*\u001b[39m np\u001b[39m.\u001b[39mdot(K[:\u001b[39m-\u001b[39m\u001b[39m1\u001b[39m]\u001b[39m.\u001b[39mT, B)\n",
      "File \u001b[0;32m<__array_function__ internals>:200\u001b[0m, in \u001b[0;36mdot\u001b[0;34m(*args, **kwargs)\u001b[0m\n",
      "\u001b[0;31mKeyboardInterrupt\u001b[0m: "
     ]
    }
   ],
   "source": [
    "horizontal_grid = py_wake_utils.get_discretized_grid(TURBINE_DIAMETER,\n",
    "                                       X_START_FACTOR, X_END_FACTOR, Y_START_FACTOR, Y_END_FACTOR,\n",
    "                                       GRID_STEP_FACTOR)\n",
    "\n",
    "print(f\"Shape of the discretised grid: {len(horizontal_grid.x)}x{len(horizontal_grid.y)}\")\n",
    "\n",
    "for wind_speed in WS_RANGE:\n",
    "    datasets = list()\n",
    "    for ti, ct in itertools.product(TIs, CTs):\n",
    "        print(f\"\\r{wind_speed=}\\t{ti=}\\t{ct=}\", end=\"\\r\")\n",
    "        site = py_wake_utils.get_site(ti=ti, ws=wind_speed)\n",
    "        wind_turbine = py_wake_utils.get_wind_turbine(TURBINE_DIAMETER, TURBINE_HUB_HEIGHT, TURBINE_POWER_NORM,\n",
    "                                        constant_ct=ct, ti=ti)\n",
    "        \n",
    "        # single wake model\n",
    "        ainslie_model = EddyViscosityModel(site, wind_turbine)\n",
    "\n",
    "        ds = py_wake_utils.generate_wake_dataset(ainslie_model, wind_speed, WIND_DIRECTION,\n",
    "                                    TURBINE_DIAMETER, TURBINE_X, TURBINE_Y,\n",
    "                                    horizontal_grid, wind_turbine)\n",
    "        #TODO add control to make sure that I do not add the same input variables twice?\n",
    "        datasets.append(ds)\n",
    "\n",
    "    print(\"\\nSaving...\", end=\"\\r\")\n",
    "    filepath = data_utils.get_filepath(X_START_FACTOR, X_END_FACTOR, Y_START_FACTOR, Y_END_FACTOR,\n",
    "                                  GRID_STEP_FACTOR, wind_speed, TI_STEP, CT_STEP)\n",
    "    final_ds = xr.concat([d.stack(z=['x:D', 'y:D', 'ti', 'ct']) for d in datasets], 'z').unstack('z')\n",
    "    final_ds.to_netcdf(filepath)\n",
    "    print(f\"\\rSaved data in '{filepath}'\\r\")"
   ]
  }
 ],
 "metadata": {
  "kernelspec": {
   "display_name": "Python 3",
   "language": "python",
   "name": "python3"
  },
  "language_info": {
   "codemirror_mode": {
    "name": "ipython",
    "version": 3
   },
   "file_extension": ".py",
   "mimetype": "text/x-python",
   "name": "python",
   "nbconvert_exporter": "python",
   "pygments_lexer": "ipython3",
   "version": "3.10.9"
  },
  "orig_nbformat": 4
 },
 "nbformat": 4,
 "nbformat_minor": 2
}
