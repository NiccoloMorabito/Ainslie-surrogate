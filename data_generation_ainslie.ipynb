{
 "cells": [
  {
   "cell_type": "code",
   "execution_count": 1,
   "metadata": {},
   "outputs": [],
   "source": [
    "import xarray as xr\n",
    "import itertools\n",
    "\n",
    "from py_wake.deficit_models import EddyViscosityModel\n",
    "\n",
    "import utils.utils as utils\n",
    "import utils.pywake_utils as py_wake_utils\n",
    "import utils.data_utils as data_utils"
   ]
  },
  {
   "attachments": {},
   "cell_type": "markdown",
   "metadata": {},
   "source": [
    "# Preparation of the parameters for the data generation"
   ]
  },
  {
   "attachments": {},
   "cell_type": "markdown",
   "metadata": {},
   "source": [
    "## Site (to set turbulence intensity TI)\n",
    "For a given position, reference wind speed (WSref) and wind direction (WDref), Site provides the local wind condition in terms of wind speed (WS), wind direction (WD), turbulence intensity (TI) and the probability of each combination of wind direction and wind speed. Furthermore, Site is responsible for calculating the down-wind, cross-wind and vertical distance between wind turbines (which in non-flat terrain is different from the straight-line distances).\n",
    "\n",
    "## Turbine (to set thrust coefficient CT)\n",
    "For a given wind turbine type and effective wind speed (WSeff), the WindTurbine object provides the power and thrust coefficient (CT), as well as the wind turbine hub height (H) and diameter (D).\n",
    "\n",
    "Initializing a simple WindTurbine\n",
    "- taking diameter, hub height and power norm from IEA37 as these params affect the simulation;\n",
    "- default power ct function to set a constant thrust coefficient (CT).\n",
    "\n",
    "## Discretization\n",
    "My current reasoning for the discretization:\n",
    "\n",
    "FOR X RANGE\n",
    "- the start is diameter*2 to skip the near-wake (careful with the wind direction, if it is within the whole range (0, 360), near-wake intercepted);\n",
    "- the end is diameter*50 (i.e. DEFAULT_MAXIMUM_WAKE_DISTANCE in PyWake EddyViscosity definition); [#TODO reduce it?]\n",
    "- the step is parametrized (Javier's thesis trying different values, e.g. diameter/2, diameter/4, ..., diameter/16)\n",
    "\n",
    "FOR Y RANGE\n",
    "- since the wind direction remains stable at 270, it is useless to put a big range for y"
   ]
  },
  {
   "attachments": {},
   "cell_type": "markdown",
   "metadata": {},
   "source": [
    "# Actual data generation"
   ]
  },
  {
   "cell_type": "code",
   "execution_count": 2,
   "metadata": {},
   "outputs": [],
   "source": [
    "# default parameters\n",
    "TURBINE_X = [0]\n",
    "TURBINE_Y = [0]\n",
    "WIND_DIRECTION = 270 # the wind turbine's yaw angle is always adjusted according to the wind direction, thus it is probably useless to generate data with more wind directions\n",
    "#WD_RANGE = range(0, 360) # (by default, 0-360° in bins of 1°)\n",
    "\n",
    "# IEA37 values TODO try different ones?\n",
    "TURBINE_DIAMETER = 198\n",
    "TURBINE_HUB_HEIGHT = 119\n",
    "TURBINE_POWER_NORM = 10000\n",
    "\n",
    "# discretization factors\n",
    "# (decided putting a minimum value for the deficit to delimiate the interesting zone of 1/100)\n",
    "X_START_FACTOR = 2\n",
    "X_END_FACTOR = 30\n",
    "Y_START_FACTOR = -2\n",
    "Y_END_FACTOR = 2\n",
    "GRID_STEP_FACTOR = 1/8\n",
    "\n",
    "# parameters for data generation\n",
    "WS_RANGE = [15] #range(10, 26)\n",
    "# TODO change the step sizes?\n",
    "TI_STEP = 0.01\n",
    "CT_STEP = 0.01\n",
    "TIs = utils.my_arange(0, 1, TI_STEP) # the ti is percentage\n",
    "CTs = utils.my_arange(0.1, 24/25, CT_STEP) #for ct=0, the wake field is not interesting\n",
    "# according to the \"AeroDyn Theory Manual\", the maximum CT should be 24/25 -> see beginning of https://onlinelibrary.wiley.com/doi/full/10.1002/we.2688\n",
    "# in the eddy_viscosity.py file of Pywake, it is said that ct has a range between 0.0 and 1.2 and ti > 0.0"
   ]
  },
  {
   "cell_type": "code",
   "execution_count": 3,
   "metadata": {},
   "outputs": [
    {
     "name": "stdout",
     "output_type": "stream",
     "text": [
      "Shape of the discretised grid: 224x32\n",
      "wind_speed=15\tti=1.0\tct=0.966\n",
      "Saved data in 'data/discr_factors_x2_30_y-2_2_step0.125_TIstep0.01_CTstep0.01/ws_15.nc'\n"
     ]
    }
   ],
   "source": [
    "horizontal_grid = py_wake_utils.get_discretized_grid(TURBINE_DIAMETER,\n",
    "                                       X_START_FACTOR, X_END_FACTOR, Y_START_FACTOR, Y_END_FACTOR,\n",
    "                                       GRID_STEP_FACTOR)\n",
    "\n",
    "print(f\"Shape of the discretised grid: {len(horizontal_grid.x)}x{len(horizontal_grid.y)}\")\n",
    "\n",
    "for wind_speed in WS_RANGE:\n",
    "    datasets = list()\n",
    "    for ti, ct in itertools.product(TIs, CTs):\n",
    "        print(f\"\\r{wind_speed=}\\t{ti=}\\t{ct=}\", end=\"\\r\")\n",
    "        site = py_wake_utils.get_site(ti=ti, ws=wind_speed)\n",
    "        wind_turbine = py_wake_utils.get_wind_turbine(TURBINE_DIAMETER, TURBINE_HUB_HEIGHT, TURBINE_POWER_NORM,\n",
    "                                        constant_ct=ct, ti=ti)\n",
    "        \n",
    "        # single wake model\n",
    "        ainslie_model = EddyViscosityModel(site, wind_turbine)\n",
    "\n",
    "        ds = py_wake_utils.generate_wake_dataset(ainslie_model, wind_speed, WIND_DIRECTION,\n",
    "                                    TURBINE_DIAMETER, TURBINE_X, TURBINE_Y,\n",
    "                                    horizontal_grid, wind_turbine)\n",
    "        datasets.append(ds)\n",
    "\n",
    "    print(\"\\nSaving...\", end=\"\\r\")\n",
    "    filepath = data_utils.get_filepath(X_START_FACTOR, X_END_FACTOR, Y_START_FACTOR, Y_END_FACTOR,\n",
    "                                  GRID_STEP_FACTOR, wind_speed, TI_STEP, CT_STEP)\n",
    "    final_ds = xr.concat([d.stack(z=['x:D', 'y:D', 'ti', 'ct']) for d in datasets], 'z').unstack('z')\n",
    "    final_ds.to_netcdf(filepath)\n",
    "    print(f\"\\rSaved data in '{filepath}'\\r\")"
   ]
  }
 ],
 "metadata": {
  "kernelspec": {
   "display_name": "Python 3",
   "language": "python",
   "name": "python3"
  },
  "language_info": {
   "codemirror_mode": {
    "name": "ipython",
    "version": 3
   },
   "file_extension": ".py",
   "mimetype": "text/x-python",
   "name": "python",
   "nbconvert_exporter": "python",
   "pygments_lexer": "ipython3",
   "version": "3.10.11"
  },
  "orig_nbformat": 4
 },
 "nbformat": 4,
 "nbformat_minor": 2
}
