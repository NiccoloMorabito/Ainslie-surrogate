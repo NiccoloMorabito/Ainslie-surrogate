{
 "cells": [
  {
   "cell_type": "code",
   "execution_count": null,
   "metadata": {},
   "outputs": [],
   "source": [
    "import numpy as np\n",
    "import matplotlib.pyplot as plt\n",
    "import xarray as xr\n",
    "import pandas as pd\n",
    "\n",
    "import itertools\n",
    "\n",
    "from py_wake.deficit_models import EddyViscosityDeficitModel, EddyViscosityModel, BastankhahGaussianDeficit\n",
    "from py_wake import HorizontalGrid\n",
    "\n",
    "# turbines and sites\n",
    "from py_wake.site import XRSite, UniformWeibullSite, UniformSite\n",
    "from py_wake.site._site import Site\n",
    "from py_wake.site.shear import PowerShear\n",
    "from py_wake.wind_turbines import WindTurbine\n",
    "from py_wake.wind_turbines.generic_wind_turbines import GenericWindTurbine\n",
    "from py_wake.examples.data.hornsrev1 import Hornsrev1Site, V80\n",
    "from py_wake.examples.data.iea37 import IEA37Site, IEA37_WindTurbines\n",
    "from py_wake.examples.data.ParqueFicticio import ParqueFicticioSite\n",
    "from py_wake.examples.data.dtu10mw import DTU10MW\n",
    "\n",
    "from py_wake.wind_farm_models.wind_farm_model import SimulationResult\n",
    "from py_wake.wind_farm_models import PropagateDownwind\n",
    "from py_wake.wind_turbines import WindTurbine, WindTurbines\n",
    "from py_wake.wind_turbines.power_ct_functions import PowerCtTabular\n",
    "\n",
    "#TODO move this function in utils\n",
    "def my_arange(start, end, step):\n",
    "    '''Function for np.arange(start, stop, step) without creating problems with the float representations'''\n",
    "    factor = 10\n",
    "    while factor*step < 1:\n",
    "        factor *= 10\n",
    "    return np.arange(start*factor, end*factor, step*factor) / factor"
   ]
  },
  {
   "attachments": {},
   "cell_type": "markdown",
   "metadata": {},
   "source": [
    "# Preparation of the parameters for the data generation"
   ]
  },
  {
   "attachments": {},
   "cell_type": "markdown",
   "metadata": {},
   "source": [
    "## Site (to set turbulence intensity TI and...?)\n",
    "For a given position, reference wind speed (WSref) and wind direction (WDref), Site provides the local wind condition in terms of wind speed (WS), wind direction (WD), turbulence intensity (TI) and the probability of each combination of wind direction and wind speed. Furthermore, Site is responsible for calculating the down-wind, cross-wind and vertical distance between wind turbines (which in non-flat terrain is different from the straight-line distances)."
   ]
  },
  {
   "cell_type": "code",
   "execution_count": null,
   "metadata": {},
   "outputs": [],
   "source": [
    "\"\"\"\n",
    "def OLD_get_sites(turbulence_intensity : float) -> list[XRSite]:\n",
    "\n",
    "    # assert 0 <= turbulence_intensity <= 1 #TODO if it is a percentage, this is correct\n",
    "\n",
    "    custom_site = UniformWeibullSite(\n",
    "        p_wd = [.20,.25,.35,.25],                         # sector frequencies\n",
    "        a = [9.176929,  9.782334,  9.531809,  9.909545],  # Weibull scale parameter\n",
    "        k = [2.392578, 2.447266, 2.412109, 2.591797],     # Weibull shape parameter\n",
    "        ti = turbulence_intensity,                        # turbulence intensity, optional\n",
    "    )\n",
    "    '''\n",
    "    not working\n",
    "    custom_site = XRSite(\n",
    "        ds=xr.Dataset(data_vars={'WS': range(3, 26), 'P': ('wd', [1/360] * len(range(0, 360))), 'TI': 0.25},\n",
    "                    coords={'wd': range(0, 360)}),\n",
    "        shear=PowerShear(h_ref=100, alpha=.2)\n",
    "    )\n",
    "    '''\n",
    "    custom_site = XRSite(ds=xr.Dataset(data_vars={'WS': 5, 'P': 1, 'TI': 0.1}))\n",
    "                    #coords={'wd': range(0, 360)}\n",
    "    return [IEA37Site(ti=turbulence_intensity)] #, Hornsrev1Site(ti=turbulence_intensity), custom_site] #ParqueFicticioSite() not having ti as an argument\n",
    "\"\"\"\n",
    "    \n",
    "def get_site(ti: float, ws: int) -> XRSite:\n",
    "    #return XRSite(ds=xr.Dataset(data_vars={'WS': WS_RANGE, 'P': 1, 'TI': turbulence_intensity}, coords={'wd': WD_RANGE}))\n",
    "    return UniformSite(ti=ti, ws=ws)"
   ]
  },
  {
   "attachments": {},
   "cell_type": "markdown",
   "metadata": {},
   "source": [
    "## Turbine (to set thrust coefficient CT)\n",
    "\n",
    "For a given wind turbine type and effective wind speed (WSeff), the WindTurbine object provides the power and thrust coefficient (CT), as well as the wind turbine hub height (H) and diameter (D).\n"
   ]
  },
  {
   "cell_type": "code",
   "execution_count": null,
   "metadata": {},
   "outputs": [],
   "source": [
    "\"\"\"\n",
    "def OLD_get_wind_turbines() -> list[WindTurbine]:\n",
    "    '''option 1 (obsolete)'''\n",
    "    # you need 3 parameters for a custom turbine: u (ws_values), power and ct curves\n",
    "    # (see how powerCtFunction is initialized in the pre-defined turbines)\n",
    "    u: list[int] = [5, 10, 15, 20, 25]\n",
    "    power: list[float] = [1000, 1000, 1000, 1000, 1000]\n",
    "    ct: list[float] = [0.99, 0.5, 0.75, .3, 0.9]\n",
    "    custom_turbine = WindTurbine(name=\"custom\", diameter=100, hub_height=100, powerCtFunction=PowerCtTabular(u, power,'kW', ct))\n",
    "\n",
    "    '''implemented options (to delete)'''\n",
    "    return [V80(), IEA37_WindTurbines(), DTU10MW()]  #, custom_turbine] \n",
    "\"\"\"\n",
    "\n",
    "def get_wind_turbine(ct: float, ti: float) -> WindTurbine:\n",
    "    # diameter, hub height and power norm taken from IEA37 as these params affect the simulation\n",
    "    # TODO update values or try different ones?\n",
    "    diameter = 198\n",
    "    hub_height = 119\n",
    "    power_norm = 10000\n",
    "    return GenericWindTurbine(name=\"AinslieTurbine\",\n",
    "                              diameter=diameter, hub_height=hub_height, power_norm=power_norm,\n",
    "                              constant_ct=ct, turbulence_intensity=ti,\n",
    "                              # ws_lst=np.arange(4, 26, 1), ws_cutin=4, ws_cutout=25 TODO set these parameters for the power ct function\n",
    "                              )\n",
    "\n"
   ]
  },
  {
   "attachments": {},
   "cell_type": "markdown",
   "metadata": {},
   "source": [
    "## Discretization"
   ]
  },
  {
   "cell_type": "code",
   "execution_count": null,
   "metadata": {},
   "outputs": [],
   "source": [
    "def get_discretized_grid(diameter: int, grid_step_factor: float) -> HorizontalGrid:\n",
    "    # TODO check the discretization (see Javier thesis, appendix B in particular), my current reasonings:\n",
    "    # FOR X RANGE\n",
    "    # the start is diameter*2 to skip the near-wake\n",
    "    #       (careful with the wind direction, if it is within the whole range (0, 360), near-wake intercepted)\n",
    "    # the end is diameter*50 (i.e. DEFAULT_MAXIMUM_WAKE_DISTANCE in PyWake EddyViscosity definition) #TODO reduce it\n",
    "    # the step is parametrized (Javier's thesis trying different values, e.g. diameter/2, diameter/4, ..., diameter/16)\n",
    "\n",
    "    # FOR Y RANGE\n",
    "    # since the wind direction remains stable at 270, it is useless to put a big range for y\n",
    "    \n",
    "    #TODO see also datadriven wind turbine wake modelling via probabilistic ML (e.g. Fig. 3) to set these parameters\n",
    "    \n",
    "    x_range = np.arange(diameter*2, diameter*50, diameter*grid_step_factor)\n",
    "    y_range = np.arange(-diameter, diameter, diameter*grid_step_factor)\n",
    "    return HorizontalGrid(x = x_range, y = y_range)"
   ]
  },
  {
   "attachments": {},
   "cell_type": "markdown",
   "metadata": {},
   "source": [
    "# Actual data generation"
   ]
  },
  {
   "cell_type": "code",
   "execution_count": null,
   "metadata": {},
   "outputs": [],
   "source": [
    "def generate_wake_dataframe(model, wind_speed: float, wind_direction: float,\n",
    "                            wind_turbine: WindTurbine, turbine_xs: list[int], turbine_ys: list[int],\n",
    "                            grid_step_factor: float\n",
    "                            ) -> pd.DataFrame:\n",
    "\n",
    "    diameter = wind_turbine.diameter().item() # this is used for scaling distances and to exclude near-wake region\n",
    "    grid = get_discretized_grid(diameter, grid_step_factor)\n",
    "    \n",
    "    # the flow_map creates a warning for near-wake calculations\n",
    "    sim_res = model(\n",
    "        x=turbine_xs, y=turbine_ys, # wind turbine positions (setting also wt domain, i.e. the number of turbines)\n",
    "        wd=wind_direction,          # Wind direction (None for default -> 0-360° in bins of 1°)\n",
    "        ws=wind_speed,              # Wind speed (None for default -> 3-25 m/s in bins of 1 m/s)\n",
    "        #yaw=0                      # TODO try to change this parameter?\n",
    "        #h=None,                    # wind turbine heights (defaults to the heights defined in windTurbines)\n",
    "        #type=0,                    # Wind turbine types\n",
    "    )\n",
    "    flow_map = sim_res.flow_map(grid)\n",
    "    \n",
    "    # removing h, wd and ws\n",
    "    h = flow_map['h'].item()\n",
    "    ti = sim_res.TI.item()\n",
    "    #print(f\"ti in generation: {ti}\")\n",
    "    flow_map = flow_map\\\n",
    "        .sel(h=h)\\\n",
    "        .sel(wd=wind_direction)\\\n",
    "        .sel(ws=wind_speed)\n",
    "    flow_map = flow_map.drop_vars([\"h\", \"wd\", \"ws\", \"WD\", \"TI\", \"P\"])\n",
    "\n",
    "    flow_map[\"ti\"] = xr.DataArray([ti], dims=\"ti\")\n",
    "    # ct is now correlated to the wind speed (which would make it useless for the prediction) but it should depend also on the turbine\n",
    "    ct = wind_turbine.ct(ws=wind_speed) #TODO\n",
    "    #print(f\"ct in generation: {ct}\")\n",
    "    flow_map[\"ct\"] = xr.DataArray([ct], dims=\"ct\") #TODO putting this as a dimension is wrong and creates problems in the xarray (this is why dataframe)\n",
    "\n",
    "    #TODO sistema codice di seguito\n",
    "    df = flow_map.to_dataframe()\n",
    "    df[\"wind_deficit\"] = 1 - df[\"WS_eff\"]/df[\"WS\"]\n",
    "    # scaling x and y according to the diameter\n",
    "    df.reset_index(inplace=True)\n",
    "    df[\"x/D\"] = df[\"x\"] / diameter\n",
    "    df[\"y/D\"] = df[\"y\"] / diameter\n",
    "    df.drop([\"x\", \"y\"], axis=1, inplace=True)\n",
    "    df.set_index([\"x/D\", \"y/D\", \"ti\", \"ct\"], inplace=True) #TODO ???\n",
    "\n",
    "    return df"
   ]
  },
  {
   "cell_type": "code",
   "execution_count": null,
   "metadata": {},
   "outputs": [],
   "source": [
    "# default parameters\n",
    "TURBINE_X = [0]\n",
    "TURBINE_Y = [0]\n",
    "GRID_STEP_DIAM_FACTOR = 1/16\n",
    "WIND_DIRECTION = 270 # the wind turbine's yaw angle is always adjusted according to the wind direction, thus it is probably useless to generate data with more wind directions\n",
    "#WD_RANGE = range(0, 360) # (by default, 0-360° in bins of 1°)\n",
    "\n",
    "# parameters for data generation TODO check which right values to use for generation\n",
    "#WS_RANGE = range(3, 26) # by default, 3-25 m/s in bins of 1 m/s\n",
    "WS_RANGE = range(3, 26) # this can be set to one value (if the velocity does not affect the resulting wake fields) or a range\n",
    "TIs = my_arange(0, 1, 0.01) # the ti is percentage\n",
    "CTs = my_arange(0, 1, 0.01)\n",
    "# according to the \"AeroDyn Theory Manual\", the maximum CT should be 24/25 -> see beginning of https://onlinelibrary.wiley.com/doi/full/10.1002/we.2688\n",
    "\n",
    "# filepath\n",
    "DATAFRAME_FILEPATH = f\"data/wake_dataframe_{GRID_STEP_DIAM_FACTOR}diam.csv\""
   ]
  },
  {
   "cell_type": "code",
   "execution_count": null,
   "metadata": {},
   "outputs": [],
   "source": [
    "dataframes = list()\n",
    "\n",
    "for wind_speed, ti, ct in itertools.product(WS_RANGE, TIs, CTs):\n",
    "    print(f\"\\r{wind_speed=}\\t{ti=}\\t{ct=}\", end=\"\\r\")\n",
    "    site = get_site(ti=ti, ws=wind_speed)\n",
    "    wind_turbine = get_wind_turbine(ct=ct, ti=ti) #TODO THIS DOES NOT SET THE CONSTANT CT YET\n",
    "\n",
    "    # single wake model\n",
    "    ainslie_model = EddyViscosityModel(site, wind_turbine)\n",
    "\n",
    "    df = generate_wake_dataframe(ainslie_model, wind_speed, WIND_DIRECTION,\n",
    "                                wind_turbine, TURBINE_X, TURBINE_Y,\n",
    "                                GRID_STEP_DIAM_FACTOR)\n",
    "    #TODO add control to make sure that I do not add the same input variables twice\n",
    "    dataframes.append(df)\n",
    "\n",
    "final_df = pd.concat(dataframes)\n",
    "final_df"
   ]
  },
  {
   "cell_type": "code",
   "execution_count": null,
   "metadata": {},
   "outputs": [],
   "source": [
    "#final_df.to_csv(DATAFRAME_FILEPATH)"
   ]
  }
 ],
 "metadata": {
  "kernelspec": {
   "display_name": "Python 3",
   "language": "python",
   "name": "python3"
  },
  "language_info": {
   "codemirror_mode": {
    "name": "ipython",
    "version": 3
   },
   "file_extension": ".py",
   "mimetype": "text/x-python",
   "name": "python",
   "nbconvert_exporter": "python",
   "pygments_lexer": "ipython3",
   "version": "3.10.9"
  },
  "orig_nbformat": 4
 },
 "nbformat": 4,
 "nbformat_minor": 2
}
