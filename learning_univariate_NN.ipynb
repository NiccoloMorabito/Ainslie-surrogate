{
 "cells": [
  {
   "attachments": {},
   "cell_type": "markdown",
   "metadata": {},
   "source": [
    "# Univariate regression to predict the wind speed field"
   ]
  },
  {
   "cell_type": "code",
   "execution_count": 7,
   "metadata": {},
   "outputs": [],
   "source": [
    "import torch\n",
    "import torch.nn as nn\n",
    "import matplotlib.pyplot as plt\n",
    "import numpy as np\n",
    "\n",
    "from data_loaders import get_wake_dataloaders\n",
    "\n",
    "# define random seeds for Neural Networks\n",
    "torch.manual_seed(0)\n",
    "np.random.seed(0)"
   ]
  },
  {
   "cell_type": "code",
   "execution_count": 8,
   "metadata": {},
   "outputs": [],
   "source": [
    "DATAFRAME_FILEPATH = \"data/discr_factors_x2_50_y-1_1_step0.125/\"\n",
    "BEST_MODEL_PATH = \"models/univariate_NN\"\n",
    "\n",
    "DEVICE = torch.device(\"cuda\" if torch.cuda.is_available() else \"cpu\")\n",
    "torch.manual_seed(0)\n",
    "\n",
    "# hyperparameters\n",
    "BATCH_SIZE = 256\n",
    "EPOCHS = 10\n",
    "LR = 0.0000001"
   ]
  },
  {
   "cell_type": "code",
   "execution_count": 10,
   "metadata": {},
   "outputs": [
    {
     "data": {
      "text/plain": [
       "30960"
      ]
     },
     "execution_count": 10,
     "metadata": {},
     "output_type": "execute_result"
    }
   ],
   "source": [
    "valid_dataloader = None\n",
    "train_dataloader, valid_dataloader, test_dataloader = get_wake_dataloaders(DATAFRAME_FILEPATH,\n",
    "                                                          consider_ws=False,\n",
    "                                                          coords_as_input=True,\n",
    "                                                          train_perc=0.6,\n",
    "                                                          test_perc=0.2,\n",
    "                                                          validation_perc=0.2,\n",
    "                                                          batch_size=BATCH_SIZE)\n",
    "len(train_dataloader)"
   ]
  },
  {
   "cell_type": "code",
   "execution_count": 12,
   "metadata": {},
   "outputs": [
    {
     "name": "stdout",
     "output_type": "stream",
     "text": [
      "Starting training\n",
      "epoch=0 -> Training loss=0.012114214747235313\tValidation loss=0.0018776357266046557\n",
      "epoch=1 -> Training loss=0.0011128074865387875\tValidation loss=0.0008930278765967248\n",
      "epoch=2 -> Training loss=0.0006918291025265327\tValidation loss=0.0006936189759290851\n",
      "epoch=3 -> Training loss=0.0005794045013155215\tValidation loss=0.0006067763143943165\n",
      "epoch=4 -> Training loss=0.0005163988303864653\tValidation loss=0.0005494558098421351\n",
      "epoch=5 -> Training loss=0.00047178651029541874\tValidation loss=0.0005073598401451142\n",
      "epoch=6 -> Training loss=0.0004381583325676877\tValidation loss=0.0004745879350113527\n",
      "epoch=7 -> Training loss=0.00041146563345214666\tValidation loss=0.00044785888156496505\n",
      "epoch=8 -> Training loss=0.00038937425475542726\tValidation loss=0.00042531104850888283\n",
      "epoch=9 -> Training loss=0.0003705589495490901\tValidation loss=0.00040575966543687645\n"
     ]
    },
    {
     "data": {
      "text/plain": [
       "{0: [0.012114214747235313, 0.0018776357266046557],\n",
       " 1: [0.0011128074865387875, 0.0008930278765967248],\n",
       " 2: [0.0006918291025265327, 0.0006936189759290851],\n",
       " 3: [0.0005794045013155215, 0.0006067763143943165],\n",
       " 4: [0.0005163988303864653, 0.0005494558098421351],\n",
       " 5: [0.00047178651029541874, 0.0005073598401451142],\n",
       " 6: [0.0004381583325676877, 0.0004745879350113527],\n",
       " 7: [0.00041146563345214666, 0.00044785888156496505],\n",
       " 8: [0.00038937425475542726, 0.00042531104850888283],\n",
       " 9: [0.0003705589495490901, 0.00040575966543687645]}"
      ]
     },
     "execution_count": 12,
     "metadata": {},
     "output_type": "execute_result"
    }
   ],
   "source": [
    "input_space = train_dataloader.dataset.x.shape[1]\n",
    "output_space = train_dataloader.dataset.y.shape[1]\n",
    "\n",
    "class UnivariateNN(nn.Module):\n",
    "    def __init__(self, input_space, output_space) -> None:\n",
    "        super(UnivariateNN, self).__init__()\n",
    "        self.layers = nn.Sequential(\n",
    "            nn.Linear(input_space, 50),\n",
    "            nn.ReLU(),\n",
    "            nn.Linear(50, 250),\n",
    "            nn.ReLU(),\n",
    "            nn.Linear(250, output_space),\n",
    "            nn.ReLU() #TODO?\n",
    "        )\n",
    "\n",
    "    def forward(self, x):\n",
    "        return self.layers(x)\n",
    "\n",
    "model = UnivariateNN(input_space, output_space).to(DEVICE)\n",
    "\n",
    "optimizer = torch.optim.Adam(\n",
    "    (p for p in model.parameters() if p.requires_grad), lr=LR\n",
    ")\n",
    "loss_function = torch.nn.MSELoss()\n",
    "\n",
    "print(\"Starting training\")\n",
    "epoch_to_metrics = dict()\n",
    "best_vloss = 1_000_000.\n",
    "for epoch in range(EPOCHS):\n",
    "    '''TRAINING'''\n",
    "    model.train(True)\n",
    "    running_tloss = 0\n",
    "    epoch_accs = torch.FloatTensor()\n",
    "    for batch in iter(train_dataloader):\n",
    "        x, y = batch[0].to(DEVICE), batch[1].to(DEVICE)\n",
    "        optimizer.zero_grad()\n",
    "        prediction = model(x)\n",
    "        tloss = loss_function(prediction, y)\n",
    "        tloss.backward()\n",
    "        #torch.nn.utils.clip_grad_norm_(model.parameters(), 0.5) TODO\n",
    "        optimizer.step()\n",
    "\n",
    "        running_tloss += tloss.item()\n",
    "        #TODO accuracy or other metric computation????\n",
    "\n",
    "    avg_tloss = running_tloss / len(train_dataloader)\n",
    "    print(f\"{epoch=} -> Training loss={avg_tloss}\", end=\"\\t\")\n",
    "    epoch_to_metrics[epoch] = [avg_tloss]\n",
    "\n",
    "    '''VALIDATION'''\n",
    "    if valid_dataloader:\n",
    "        model.train(False)\n",
    "        running_vloss = 0.0\n",
    "        for batch in iter(valid_dataloader):\n",
    "            x, y = batch[0].to(DEVICE), batch[1].to(DEVICE)\n",
    "            prediction = model(x)\n",
    "            vloss = loss_function(prediction, y)\n",
    "\n",
    "            running_vloss += vloss.item()\n",
    "\n",
    "        avg_vloss = running_vloss / len(valid_dataloader)\n",
    "        print(f\"Validation loss={avg_vloss}\")\n",
    "        epoch_to_metrics[epoch].append(avg_vloss)\n",
    "        # Track best performance, and save the model's state\n",
    "        if avg_vloss < best_vloss:\n",
    "            best_vloss = avg_vloss\n",
    "            torch.save(model.state_dict(), BEST_MODEL_PATH)\n",
    "    else:\n",
    "        print()        \n",
    "\n",
    "epoch_to_metrics"
   ]
  },
  {
   "cell_type": "code",
   "execution_count": null,
   "metadata": {},
   "outputs": [
    {
     "data": {
      "text/plain": [
       "'\\nmetrics_df = pd.DataFrame(epoch_to_loss_acc).transpose().reset_index().rename(columns={\"index\": \"Epoch\", 0: \"Loss\", 1: \"Speed avg error in wake prediction\"})\\nmetrics_df.plot(x=\"Epoch\", y=\"Loss\")\\n'"
      ]
     },
     "execution_count": 5,
     "metadata": {},
     "output_type": "execute_result"
    }
   ],
   "source": [
    "\"\"\"\n",
    "metrics_df = pd.DataFrame(epoch_to_loss_acc).transpose().reset_index().rename(columns={\"index\": \"Epoch\", 0: \"Loss\", 1: \"Speed avg error in wake prediction\"})\n",
    "metrics_df.plot(x=\"Epoch\", y=\"Loss\")\n",
    "\"\"\""
   ]
  },
  {
   "cell_type": "code",
   "execution_count": null,
   "metadata": {},
   "outputs": [
    {
     "data": {
      "text/plain": [
       "'\\nmetrics_df.plot(x=\"Epoch\", y=\"Speed avg error in wake prediction\")\\n'"
      ]
     },
     "execution_count": 6,
     "metadata": {},
     "output_type": "execute_result"
    }
   ],
   "source": [
    "\"\"\"\n",
    "metrics_df.plot(x=\"Epoch\", y=\"Speed avg error in wake prediction\")\n",
    "\"\"\""
   ]
  },
  {
   "attachments": {},
   "cell_type": "markdown",
   "metadata": {},
   "source": [
    "# Testing"
   ]
  },
  {
   "cell_type": "code",
   "execution_count": 13,
   "metadata": {},
   "outputs": [
    {
     "name": "stdout",
     "output_type": "stream",
     "text": [
      "Testing results: avg loss=1.3076779867828094e-06\n"
     ]
    }
   ],
   "source": [
    "# loading best one\n",
    "\n",
    "model = UnivariateNN(input_space, output_space).to(DEVICE)\n",
    "model.load_state_dict(torch.load(BEST_MODEL_PATH))\n",
    "model.train(False)\n",
    "\n",
    "total_loss = 0\n",
    "with torch.no_grad():\n",
    "    for batch in iter(test_dataloader):\n",
    "        # to device\n",
    "        x, y = batch[0].to(DEVICE), batch[1].to(DEVICE)\n",
    "\n",
    "        prediction = model(x)\n",
    "        tloss = loss_function(prediction, y)\n",
    "\n",
    "        total_loss += tloss.item()\n",
    "\n",
    "avg_loss = total_loss / len(test_dataloader) / BATCH_SIZE #TODO\n",
    "print(f\"Testing results: avg loss={avg_loss}\")\n"
   ]
  }
 ],
 "metadata": {
  "kernelspec": {
   "display_name": "Python 3",
   "language": "python",
   "name": "python3"
  },
  "language_info": {
   "codemirror_mode": {
    "name": "ipython",
    "version": 3
   },
   "file_extension": ".py",
   "mimetype": "text/x-python",
   "name": "python",
   "nbconvert_exporter": "python",
   "pygments_lexer": "ipython3",
   "version": "3.10.9"
  },
  "orig_nbformat": 4
 },
 "nbformat": 4,
 "nbformat_minor": 2
}
